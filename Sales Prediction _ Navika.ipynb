{
 "cells": [
  {
   "cell_type": "code",
   "execution_count": 1,
   "metadata": {},
   "outputs": [],
   "source": [
    "import numpy as np\n",
    "import pandas as pd\n",
    "import matplotlib.pyplot as plt\n",
    "import seaborn as sns\n",
    "import statsmodels as sm\n",
    "import statsmodels.api as sm"
   ]
  },
  {
   "cell_type": "markdown",
   "metadata": {},
   "source": [
    "## Problem Statement\n",
    "The data scientists at BigMart have collected 2013 sales data for 1559 products across 10 stores in different cities. Also, certain attributes of each product and store have been defined.\n",
    "\n",
    "The aim is to build a predictive model and find out the sales of each product at a particular store.\n",
    "Using this model, BigMart will try to understand the properties of products and stores which play a key role in increasing sales.\n",
    "\n",
    "Please note that the data may have missing values as some stores might not report all the data due to technical glitches. Hence, it will be required to treat them accordingly."
   ]
  },
  {
   "cell_type": "raw",
   "metadata": {},
   "source": [
    "Data We have train (8523) and test (5681) data set, train data set has both input and output variable(s). You need to predict the sales for test data set.\n",
    "\n",
    "Variable : Description\n",
    "\n",
    "Item_Identifier : Unique product ID\n",
    "\n",
    "Item_Weight : Weight of product\n",
    "\n",
    "Item_Fat_Content : Whether the product is low fat or not\n",
    "\n",
    "Item_Visibility : The % of total display area of all products in a store allocated to the particular product\n",
    "\n",
    "Item_Type : The category to which the product belongs\n",
    "\n",
    "Item_MRP : Maximum Retail Price (list price) of the product\n",
    "\n",
    "Outlet_Identifier : Unique store ID\n",
    "\n",
    "Outlet_Establishment_Year : The year in which store was established\n",
    "\n",
    "Outlet_Size : The size of the store in terms of ground area covered\n",
    "\n",
    "Outlet_Location_Type : The type of city in which the store is located\n",
    "\n",
    "Outlet_Type : Whether the outlet is just a grocery store or some sort of supermarket\n",
    "\n",
    "Item_Outlet_Sales : Sales of the product in the particulat store. This is the outcome variable to be predicted."
   ]
  },
  {
   "cell_type": "code",
   "execution_count": 2,
   "metadata": {},
   "outputs": [],
   "source": [
    "train = pd.read_csv(r\"D:\\GreatLearning\\big-mart-sales-prediction\\Train.csv\")"
   ]
  },
  {
   "cell_type": "code",
   "execution_count": 3,
   "metadata": {},
   "outputs": [],
   "source": [
    "test = pd.read_csv(r\"D:\\GreatLearning\\big-mart-sales-prediction\\Test.csv\")"
   ]
  },
  {
   "cell_type": "code",
   "execution_count": 4,
   "metadata": {},
   "outputs": [],
   "source": [
    "data = pd.concat([train,test],sort = False, ignore_index=True)"
   ]
  },
  {
   "cell_type": "code",
   "execution_count": 5,
   "metadata": {},
   "outputs": [
    {
     "data": {
      "text/html": [
       "<div>\n",
       "<style scoped>\n",
       "    .dataframe tbody tr th:only-of-type {\n",
       "        vertical-align: middle;\n",
       "    }\n",
       "\n",
       "    .dataframe tbody tr th {\n",
       "        vertical-align: top;\n",
       "    }\n",
       "\n",
       "    .dataframe thead th {\n",
       "        text-align: right;\n",
       "    }\n",
       "</style>\n",
       "<table border=\"1\" class=\"dataframe\">\n",
       "  <thead>\n",
       "    <tr style=\"text-align: right;\">\n",
       "      <th></th>\n",
       "      <th>Item_Identifier</th>\n",
       "      <th>Item_Weight</th>\n",
       "      <th>Item_Fat_Content</th>\n",
       "      <th>Item_Visibility</th>\n",
       "      <th>Item_Type</th>\n",
       "      <th>Item_MRP</th>\n",
       "      <th>Outlet_Identifier</th>\n",
       "      <th>Outlet_Establishment_Year</th>\n",
       "      <th>Outlet_Size</th>\n",
       "      <th>Outlet_Location_Type</th>\n",
       "      <th>Outlet_Type</th>\n",
       "      <th>Item_Outlet_Sales</th>\n",
       "    </tr>\n",
       "  </thead>\n",
       "  <tbody>\n",
       "    <tr>\n",
       "      <th>0</th>\n",
       "      <td>FDA15</td>\n",
       "      <td>9.30</td>\n",
       "      <td>Low Fat</td>\n",
       "      <td>0.016047</td>\n",
       "      <td>Dairy</td>\n",
       "      <td>249.8092</td>\n",
       "      <td>OUT049</td>\n",
       "      <td>1999</td>\n",
       "      <td>Medium</td>\n",
       "      <td>Tier 1</td>\n",
       "      <td>Supermarket Type1</td>\n",
       "      <td>3735.1380</td>\n",
       "    </tr>\n",
       "    <tr>\n",
       "      <th>1</th>\n",
       "      <td>DRC01</td>\n",
       "      <td>5.92</td>\n",
       "      <td>Regular</td>\n",
       "      <td>0.019278</td>\n",
       "      <td>Soft Drinks</td>\n",
       "      <td>48.2692</td>\n",
       "      <td>OUT018</td>\n",
       "      <td>2009</td>\n",
       "      <td>Medium</td>\n",
       "      <td>Tier 3</td>\n",
       "      <td>Supermarket Type2</td>\n",
       "      <td>443.4228</td>\n",
       "    </tr>\n",
       "    <tr>\n",
       "      <th>2</th>\n",
       "      <td>FDN15</td>\n",
       "      <td>17.50</td>\n",
       "      <td>Low Fat</td>\n",
       "      <td>0.016760</td>\n",
       "      <td>Meat</td>\n",
       "      <td>141.6180</td>\n",
       "      <td>OUT049</td>\n",
       "      <td>1999</td>\n",
       "      <td>Medium</td>\n",
       "      <td>Tier 1</td>\n",
       "      <td>Supermarket Type1</td>\n",
       "      <td>2097.2700</td>\n",
       "    </tr>\n",
       "    <tr>\n",
       "      <th>3</th>\n",
       "      <td>FDX07</td>\n",
       "      <td>19.20</td>\n",
       "      <td>Regular</td>\n",
       "      <td>0.000000</td>\n",
       "      <td>Fruits and Vegetables</td>\n",
       "      <td>182.0950</td>\n",
       "      <td>OUT010</td>\n",
       "      <td>1998</td>\n",
       "      <td>NaN</td>\n",
       "      <td>Tier 3</td>\n",
       "      <td>Grocery Store</td>\n",
       "      <td>732.3800</td>\n",
       "    </tr>\n",
       "    <tr>\n",
       "      <th>4</th>\n",
       "      <td>NCD19</td>\n",
       "      <td>8.93</td>\n",
       "      <td>Low Fat</td>\n",
       "      <td>0.000000</td>\n",
       "      <td>Household</td>\n",
       "      <td>53.8614</td>\n",
       "      <td>OUT013</td>\n",
       "      <td>1987</td>\n",
       "      <td>High</td>\n",
       "      <td>Tier 3</td>\n",
       "      <td>Supermarket Type1</td>\n",
       "      <td>994.7052</td>\n",
       "    </tr>\n",
       "  </tbody>\n",
       "</table>\n",
       "</div>"
      ],
      "text/plain": [
       "  Item_Identifier  Item_Weight Item_Fat_Content  Item_Visibility  \\\n",
       "0           FDA15         9.30          Low Fat         0.016047   \n",
       "1           DRC01         5.92          Regular         0.019278   \n",
       "2           FDN15        17.50          Low Fat         0.016760   \n",
       "3           FDX07        19.20          Regular         0.000000   \n",
       "4           NCD19         8.93          Low Fat         0.000000   \n",
       "\n",
       "               Item_Type  Item_MRP Outlet_Identifier  \\\n",
       "0                  Dairy  249.8092            OUT049   \n",
       "1            Soft Drinks   48.2692            OUT018   \n",
       "2                   Meat  141.6180            OUT049   \n",
       "3  Fruits and Vegetables  182.0950            OUT010   \n",
       "4              Household   53.8614            OUT013   \n",
       "\n",
       "   Outlet_Establishment_Year Outlet_Size Outlet_Location_Type  \\\n",
       "0                       1999      Medium               Tier 1   \n",
       "1                       2009      Medium               Tier 3   \n",
       "2                       1999      Medium               Tier 1   \n",
       "3                       1998         NaN               Tier 3   \n",
       "4                       1987        High               Tier 3   \n",
       "\n",
       "         Outlet_Type  Item_Outlet_Sales  \n",
       "0  Supermarket Type1          3735.1380  \n",
       "1  Supermarket Type2           443.4228  \n",
       "2  Supermarket Type1          2097.2700  \n",
       "3      Grocery Store           732.3800  \n",
       "4  Supermarket Type1           994.7052  "
      ]
     },
     "execution_count": 5,
     "metadata": {},
     "output_type": "execute_result"
    }
   ],
   "source": [
    "data.head()"
   ]
  },
  {
   "cell_type": "code",
   "execution_count": 6,
   "metadata": {},
   "outputs": [],
   "source": [
    "answer = pd.read_csv(r\"D:\\GreatLearning\\big-mart-sales-prediction\\Submission.csv\")"
   ]
  },
  {
   "cell_type": "code",
   "execution_count": 7,
   "metadata": {},
   "outputs": [
    {
     "data": {
      "text/html": [
       "<div>\n",
       "<style scoped>\n",
       "    .dataframe tbody tr th:only-of-type {\n",
       "        vertical-align: middle;\n",
       "    }\n",
       "\n",
       "    .dataframe tbody tr th {\n",
       "        vertical-align: top;\n",
       "    }\n",
       "\n",
       "    .dataframe thead th {\n",
       "        text-align: right;\n",
       "    }\n",
       "</style>\n",
       "<table border=\"1\" class=\"dataframe\">\n",
       "  <thead>\n",
       "    <tr style=\"text-align: right;\">\n",
       "      <th></th>\n",
       "      <th>Unnamed: 0</th>\n",
       "      <th>Item_Identifier</th>\n",
       "      <th>Outlet_Identifier</th>\n",
       "      <th>Item_Outlet_Sales</th>\n",
       "    </tr>\n",
       "  </thead>\n",
       "  <tbody>\n",
       "    <tr>\n",
       "      <th>0</th>\n",
       "      <td>0</td>\n",
       "      <td>FDW58</td>\n",
       "      <td>OUT049</td>\n",
       "      <td>1636.244023</td>\n",
       "    </tr>\n",
       "    <tr>\n",
       "      <th>1</th>\n",
       "      <td>1</td>\n",
       "      <td>FDW14</td>\n",
       "      <td>OUT017</td>\n",
       "      <td>1409.355910</td>\n",
       "    </tr>\n",
       "    <tr>\n",
       "      <th>2</th>\n",
       "      <td>2</td>\n",
       "      <td>NCN55</td>\n",
       "      <td>OUT010</td>\n",
       "      <td>710.594286</td>\n",
       "    </tr>\n",
       "    <tr>\n",
       "      <th>3</th>\n",
       "      <td>3</td>\n",
       "      <td>FDQ58</td>\n",
       "      <td>OUT017</td>\n",
       "      <td>2355.184955</td>\n",
       "    </tr>\n",
       "    <tr>\n",
       "      <th>4</th>\n",
       "      <td>4</td>\n",
       "      <td>FDY38</td>\n",
       "      <td>OUT027</td>\n",
       "      <td>5857.916205</td>\n",
       "    </tr>\n",
       "  </tbody>\n",
       "</table>\n",
       "</div>"
      ],
      "text/plain": [
       "   Unnamed: 0 Item_Identifier Outlet_Identifier  Item_Outlet_Sales\n",
       "0           0           FDW58            OUT049        1636.244023\n",
       "1           1           FDW14            OUT017        1409.355910\n",
       "2           2           NCN55            OUT010         710.594286\n",
       "3           3           FDQ58            OUT017        2355.184955\n",
       "4           4           FDY38            OUT027        5857.916205"
      ]
     },
     "execution_count": 7,
     "metadata": {},
     "output_type": "execute_result"
    }
   ],
   "source": [
    "answer.head()"
   ]
  },
  {
   "cell_type": "code",
   "execution_count": 8,
   "metadata": {},
   "outputs": [
    {
     "data": {
      "text/plain": [
       "(14204, 12)"
      ]
     },
     "execution_count": 8,
     "metadata": {},
     "output_type": "execute_result"
    }
   ],
   "source": [
    "data.shape"
   ]
  },
  {
   "cell_type": "code",
   "execution_count": 9,
   "metadata": {},
   "outputs": [
    {
     "data": {
      "text/plain": [
       "(8523, 12)"
      ]
     },
     "execution_count": 9,
     "metadata": {},
     "output_type": "execute_result"
    }
   ],
   "source": [
    "train.shape"
   ]
  },
  {
   "cell_type": "code",
   "execution_count": 10,
   "metadata": {},
   "outputs": [
    {
     "data": {
      "text/plain": [
       "(5681, 11)"
      ]
     },
     "execution_count": 10,
     "metadata": {},
     "output_type": "execute_result"
    }
   ],
   "source": [
    "test.shape"
   ]
  },
  {
   "cell_type": "code",
   "execution_count": 11,
   "metadata": {},
   "outputs": [
    {
     "data": {
      "text/plain": [
       "Item_Identifier                 0\n",
       "Item_Weight                  2439\n",
       "Item_Fat_Content                0\n",
       "Item_Visibility                 0\n",
       "Item_Type                       0\n",
       "Item_MRP                        0\n",
       "Outlet_Identifier               0\n",
       "Outlet_Establishment_Year       0\n",
       "Outlet_Size                  4016\n",
       "Outlet_Location_Type            0\n",
       "Outlet_Type                     0\n",
       "Item_Outlet_Sales            5681\n",
       "dtype: int64"
      ]
     },
     "execution_count": 11,
     "metadata": {},
     "output_type": "execute_result"
    }
   ],
   "source": [
    "data.isnull().sum()"
   ]
  },
  {
   "cell_type": "code",
   "execution_count": 12,
   "metadata": {},
   "outputs": [
    {
     "data": {
      "text/plain": [
       "array(['OUT049', 'OUT018', 'OUT010', 'OUT013', 'OUT027', 'OUT045',\n",
       "       'OUT017', 'OUT046', 'OUT035', 'OUT019'], dtype=object)"
      ]
     },
     "execution_count": 12,
     "metadata": {},
     "output_type": "execute_result"
    }
   ],
   "source": [
    "train.Outlet_Identifier.unique()"
   ]
  },
  {
   "cell_type": "code",
   "execution_count": 13,
   "metadata": {},
   "outputs": [
    {
     "data": {
      "text/plain": [
       "Item_Weight                  0.014123\n",
       "Item_Visibility             -0.128625\n",
       "Item_MRP                     0.567574\n",
       "Outlet_Establishment_Year   -0.049135\n",
       "Item_Outlet_Sales            1.000000\n",
       "Name: Item_Outlet_Sales, dtype: float64"
      ]
     },
     "execution_count": 13,
     "metadata": {},
     "output_type": "execute_result"
    }
   ],
   "source": [
    "corr_matrix=train.corr()\n",
    "corr_matrix['Item_Outlet_Sales']"
   ]
  },
  {
   "cell_type": "code",
   "execution_count": 14,
   "metadata": {},
   "outputs": [
    {
     "data": {
      "text/plain": [
       "count    7060.000000\n",
       "mean       12.857645\n",
       "std         4.643456\n",
       "min         4.555000\n",
       "25%         8.773750\n",
       "50%        12.600000\n",
       "75%        16.850000\n",
       "max        21.350000\n",
       "Name: Item_Weight, dtype: float64"
      ]
     },
     "execution_count": 14,
     "metadata": {},
     "output_type": "execute_result"
    }
   ],
   "source": [
    "train.Item_Weight.describe()"
   ]
  },
  {
   "cell_type": "code",
   "execution_count": 15,
   "metadata": {},
   "outputs": [
    {
     "data": {
      "text/plain": [
       "array(['Low Fat', 'Regular', 'low fat', 'LF', 'reg'], dtype=object)"
      ]
     },
     "execution_count": 15,
     "metadata": {},
     "output_type": "execute_result"
    }
   ],
   "source": [
    "data.Item_Fat_Content.unique()"
   ]
  },
  {
   "cell_type": "code",
   "execution_count": 16,
   "metadata": {},
   "outputs": [],
   "source": [
    "data.Item_Fat_Content.replace(to_replace=['Low Fat','low fat', 'LF'],value=['Low Fat']*3,inplace=True)"
   ]
  },
  {
   "cell_type": "code",
   "execution_count": 17,
   "metadata": {},
   "outputs": [],
   "source": [
    "data.Item_Fat_Content.replace(to_replace=['Regular','reg'],value=['Regular']*2,inplace=True)"
   ]
  },
  {
   "cell_type": "code",
   "execution_count": 18,
   "metadata": {},
   "outputs": [],
   "source": [
    "#Univariate Analysis"
   ]
  },
  {
   "cell_type": "code",
   "execution_count": 19,
   "metadata": {},
   "outputs": [
    {
     "data": {
      "text/plain": [
       "array([1999, 2009, 1998, 1987, 1985, 2002, 2007, 1997, 2004], dtype=int64)"
      ]
     },
     "execution_count": 19,
     "metadata": {},
     "output_type": "execute_result"
    }
   ],
   "source": [
    "train.Outlet_Establishment_Year.unique()"
   ]
  },
  {
   "cell_type": "code",
   "execution_count": 20,
   "metadata": {},
   "outputs": [
    {
     "data": {
      "text/plain": [
       "count     8523.000000\n",
       "mean      2181.288914\n",
       "std       1706.499616\n",
       "min         33.290000\n",
       "25%        834.247400\n",
       "50%       1794.331000\n",
       "75%       3101.296400\n",
       "max      13086.964800\n",
       "Name: Item_Outlet_Sales, dtype: float64"
      ]
     },
     "execution_count": 20,
     "metadata": {},
     "output_type": "execute_result"
    }
   ],
   "source": [
    "train['Item_Outlet_Sales'].describe()"
   ]
  },
  {
   "cell_type": "code",
   "execution_count": 21,
   "metadata": {},
   "outputs": [
    {
     "data": {
      "text/plain": [
       "<matplotlib.axes._subplots.AxesSubplot at 0x1b67cca01d0>"
      ]
     },
     "execution_count": 21,
     "metadata": {},
     "output_type": "execute_result"
    },
    {
     "data": {
      "image/png": "[encoded data removed]",
      "text/plain": [
       "<Figure size 432x288 with 1 Axes>"
      ]
     },
     "metadata": {
      "needs_background": "light"
     },
     "output_type": "display_data"
    }
   ],
   "source": [
    "sns.distplot(train.Item_Outlet_Sales)"
   ]
  },
  {
   "cell_type": "code",
   "execution_count": 22,
   "metadata": {},
   "outputs": [
    {
     "name": "stderr",
     "output_type": "stream",
     "text": [
      "C:\\Users\\Navika\\Anaconda3\\lib\\site-packages\\scipy\\stats\\morestats.py:1653: UserWarning: p-value may not be accurate for N > 5000.\n",
      "  warnings.warn(\"p-value may not be accurate for N > 5000.\")\n"
     ]
    },
    {
     "data": {
      "text/plain": [
       "(0.9094116687774658, 0.0)"
      ]
     },
     "execution_count": 22,
     "metadata": {},
     "output_type": "execute_result"
    }
   ],
   "source": [
    "from scipy import stats as sm\n",
    "sm.shapiro(train.Item_Outlet_Sales)"
   ]
  },
  {
   "cell_type": "raw",
   "metadata": {},
   "source": [
    "p- value is :0.0\n",
    "The Shapiro-Wilk test tests the null hypothesis that the data was drawn from a normal distribution.\n",
    "Since p values is less than 0.05 then we reject the null hypothesis.\n",
    "So: the distribution is not drawn from a null distribution.\n",
    "So we need to do a normal distribution."
   ]
  },
  {
   "cell_type": "raw",
   "metadata": {},
   "source": [
    "Nonlinear tranformation. A nonlinear transformation changes (increases or decreases) linear relationships between variables and, thus, changes the correlation between variables. Examples of a nonlinear transformation of variable x would be taking the square root of x or the reciprocal of x."
   ]
  },
  {
   "cell_type": "raw",
   "metadata": {},
   "source": [
    "Later on we will be tranforming train and test for better results"
   ]
  },
  {
   "cell_type": "code",
   "execution_count": 23,
   "metadata": {},
   "outputs": [
    {
     "data": {
      "text/plain": [
       "<matplotlib.axes._subplots.AxesSubplot at 0x1b67d080550>"
      ]
     },
     "execution_count": 23,
     "metadata": {},
     "output_type": "execute_result"
    },
    {
     "data": {
      "image/png": "[encoded data removed]",
      "text/plain": [
       "<Figure size 432x288 with 1 Axes>"
      ]
     },
     "metadata": {
      "needs_background": "light"
     },
     "output_type": "display_data"
    }
   ],
   "source": [
    "sns.boxplot(y=train.Item_Outlet_Sales)"
   ]
  },
  {
   "cell_type": "code",
   "execution_count": 24,
   "metadata": {},
   "outputs": [],
   "source": [
    "#------------------------------------------"
   ]
  },
  {
   "cell_type": "code",
   "execution_count": 25,
   "metadata": {},
   "outputs": [
    {
     "data": {
      "text/plain": [
       "<matplotlib.axes._subplots.AxesSubplot at 0x1b67d141198>"
      ]
     },
     "execution_count": 25,
     "metadata": {},
     "output_type": "execute_result"
    },
    {
     "data": {
      "image/png": "[encoded data removed]",
      "text/plain": [
       "<Figure size 1584x576 with 1 Axes>"
      ]
     },
     "metadata": {
      "needs_background": "light"
     },
     "output_type": "display_data"
    }
   ],
   "source": [
    "plt.figure(figsize=(22,8))\n",
    "sns.boxplot(train.Item_Type,y=train.Item_MRP)"
   ]
  },
  {
   "cell_type": "code",
   "execution_count": 26,
   "metadata": {},
   "outputs": [
    {
     "data": {
      "text/plain": [
       "<matplotlib.axes._subplots.AxesSubplot at 0x1b67d6abc88>"
      ]
     },
     "execution_count": 26,
     "metadata": {},
     "output_type": "execute_result"
    },
    {
     "data": {
      "image/png": "[encoded data removed]",
      "text/plain": [
       "<Figure size 1440x576 with 1 Axes>"
      ]
     },
     "metadata": {
      "needs_background": "light"
     },
     "output_type": "display_data"
    }
   ],
   "source": [
    "plt.figure(figsize=(20,8))\n",
    "sns.boxplot(train.Item_Type,y=train.Item_Outlet_Sales)"
   ]
  },
  {
   "cell_type": "code",
   "execution_count": 27,
   "metadata": {},
   "outputs": [
    {
     "data": {
      "text/plain": [
       "<matplotlib.axes._subplots.AxesSubplot at 0x1b67d464d68>"
      ]
     },
     "execution_count": 27,
     "metadata": {},
     "output_type": "execute_result"
    },
    {
     "data": {
      "image/png": "[encoded data removed]",
      "text/plain": [
       "<Figure size 1080x576 with 1 Axes>"
      ]
     },
     "metadata": {
      "needs_background": "light"
     },
     "output_type": "display_data"
    }
   ],
   "source": [
    "plt.figure(figsize=(15,8))\n",
    "sns.boxplot(x=train.Outlet_Type,y=train.Item_Outlet_Sales)"
   ]
  },
  {
   "cell_type": "raw",
   "metadata": {},
   "source": [
    "Item sales does differ according to Outlet type."
   ]
  },
  {
   "cell_type": "code",
   "execution_count": 28,
   "metadata": {},
   "outputs": [
    {
     "data": {
      "text/plain": [
       "<matplotlib.axes._subplots.AxesSubplot at 0x1b67d464dd8>"
      ]
     },
     "execution_count": 28,
     "metadata": {},
     "output_type": "execute_result"
    },
    {
     "data": {
      "image/png": "[encoded data removed]",
      "text/plain": [
       "<Figure size 1080x576 with 1 Axes>"
      ]
     },
     "metadata": {
      "needs_background": "light"
     },
     "output_type": "display_data"
    }
   ],
   "source": [
    "plt.figure(figsize=(15,8))\n",
    "sns.boxplot(x=train.Outlet_Location_Type,y=train.Item_Outlet_Sales)"
   ]
  },
  {
   "cell_type": "code",
   "execution_count": 29,
   "metadata": {},
   "outputs": [
    {
     "data": {
      "text/plain": [
       "<matplotlib.axes._subplots.AxesSubplot at 0x1b67d449860>"
      ]
     },
     "execution_count": 29,
     "metadata": {},
     "output_type": "execute_result"
    },
    {
     "data": {
      "image/png": "[encoded data removed]",
      "text/plain": [
       "<Figure size 1080x576 with 1 Axes>"
      ]
     },
     "metadata": {
      "needs_background": "light"
     },
     "output_type": "display_data"
    }
   ],
   "source": [
    "plt.figure(figsize=(15,8))\n",
    "sns.boxplot(x=train.Outlet_Size,y=train.Item_Outlet_Sales)"
   ]
  },
  {
   "cell_type": "raw",
   "metadata": {},
   "source": [
    "item sales do differ as per the putlet size"
   ]
  },
  {
   "cell_type": "code",
   "execution_count": 30,
   "metadata": {},
   "outputs": [
    {
     "data": {
      "text/plain": [
       "<matplotlib.axes._subplots.AxesSubplot at 0x1b67d6281d0>"
      ]
     },
     "execution_count": 30,
     "metadata": {},
     "output_type": "execute_result"
    },
    {
     "data": {
      "image/png": "[encoded data removed]",
      "text/plain": [
       "<Figure size 432x288 with 1 Axes>"
      ]
     },
     "metadata": {
      "needs_background": "light"
     },
     "output_type": "display_data"
    }
   ],
   "source": [
    "sns.countplot(train.Outlet_Location_Type,hue=train.Outlet_Type)"
   ]
  },
  {
   "cell_type": "code",
   "execution_count": 31,
   "metadata": {},
   "outputs": [
    {
     "data": {
      "text/plain": [
       "<matplotlib.axes._subplots.AxesSubplot at 0x1b67d63f908>"
      ]
     },
     "execution_count": 31,
     "metadata": {},
     "output_type": "execute_result"
    },
    {
     "data": {
      "image/png": "[encoded data removed]",
      "text/plain": [
       "<Figure size 1800x576 with 1 Axes>"
      ]
     },
     "metadata": {
      "needs_background": "light"
     },
     "output_type": "display_data"
    }
   ],
   "source": [
    "plt.figure(figsize=(25,8))\n",
    "sns.countplot(train.Item_Type)"
   ]
  },
  {
   "cell_type": "code",
   "execution_count": 32,
   "metadata": {},
   "outputs": [
    {
     "data": {
      "text/plain": [
       "<matplotlib.axes._subplots.AxesSubplot at 0x1b67d982e80>"
      ]
     },
     "execution_count": 32,
     "metadata": {},
     "output_type": "execute_result"
    },
    {
     "data": {
      "image/png": "[encoded data removed]",
      "text/plain": [
       "<Figure size 1800x576 with 1 Axes>"
      ]
     },
     "metadata": {
      "needs_background": "light"
     },
     "output_type": "display_data"
    }
   ],
   "source": [
    "plt.figure(figsize=(25,8))\n",
    "sns.countplot(train.Item_Fat_Content,hue=train.Outlet_Location_Type)"
   ]
  },
  {
   "cell_type": "code",
   "execution_count": 33,
   "metadata": {},
   "outputs": [
    {
     "data": {
      "text/plain": [
       "<matplotlib.collections.PathCollection at 0x1b67dae4860>"
      ]
     },
     "execution_count": 33,
     "metadata": {},
     "output_type": "execute_result"
    },
    {
     "data": {
      "image/png": "[encoded data removed]",
      "text/plain": [
       "<Figure size 432x288 with 1 Axes>"
      ]
     },
     "metadata": {
      "needs_background": "light"
     },
     "output_type": "display_data"
    }
   ],
   "source": [
    "# Item Weight vs Sales\n",
    "plt.scatter(train.Item_Weight, \n",
    "            train.Item_Outlet_Sales, color = \"blue\")"
   ]
  },
  {
   "cell_type": "raw",
   "metadata": {},
   "source": [
    "Items weight has no effect on sales"
   ]
  },
  {
   "cell_type": "code",
   "execution_count": 34,
   "metadata": {},
   "outputs": [
    {
     "data": {
      "text/plain": [
       "<matplotlib.collections.PathCollection at 0x1b67db544e0>"
      ]
     },
     "execution_count": 34,
     "metadata": {},
     "output_type": "execute_result"
    },
    {
     "data": {
      "image/png": "[encoded data removed]",
      "text/plain": [
       "<Figure size 720x288 with 1 Axes>"
      ]
     },
     "metadata": {
      "needs_background": "light"
     },
     "output_type": "display_data"
    }
   ],
   "source": [
    "# Item Visibility vs Sales\n",
    "plt.figure(figsize = [10,4])\n",
    "plt.scatter(train.Item_Visibility, \n",
    "            train.Item_Outlet_Sales, color = \"red\")"
   ]
  },
  {
   "cell_type": "raw",
   "metadata": {},
   "source": [
    "Item Visibility has not effect on Sales"
   ]
  },
  {
   "cell_type": "code",
   "execution_count": 35,
   "metadata": {},
   "outputs": [
    {
     "data": {
      "text/plain": [
       "<matplotlib.collections.PathCollection at 0x1b67dbaf9b0>"
      ]
     },
     "execution_count": 35,
     "metadata": {},
     "output_type": "execute_result"
    },
    {
     "data": {
      "image/png": "[encoded data removed]",
      "text/plain": [
       "<Figure size 720x288 with 1 Axes>"
      ]
     },
     "metadata": {
      "needs_background": "light"
     },
     "output_type": "display_data"
    }
   ],
   "source": [
    "# Item MRP vs Sales\n",
    "plt.figure(figsize = [10,4])\n",
    "plt.scatter(x=train.Item_MRP, \n",
    "            y=train.Item_Outlet_Sales, color = \"brown\")"
   ]
  },
  {
   "cell_type": "raw",
   "metadata": {},
   "source": [
    "Item sales does increase with every unit increase in item mrp "
   ]
  },
  {
   "cell_type": "code",
   "execution_count": 36,
   "metadata": {},
   "outputs": [
    {
     "data": {
      "text/plain": [
       "<matplotlib.axes._subplots.AxesSubplot at 0x1b67dbeee10>"
      ]
     },
     "execution_count": 36,
     "metadata": {},
     "output_type": "execute_result"
    },
    {
     "data": {
      "image/png": "[encoded data removed]",
      "text/plain": [
       "<Figure size 1080x576 with 1 Axes>"
      ]
     },
     "metadata": {
      "needs_background": "light"
     },
     "output_type": "display_data"
    }
   ],
   "source": [
    "plt.figure(figsize=(15,8))\n",
    "sns.boxplot(x=train.Outlet_Establishment_Year,y=train.Item_Outlet_Sales)"
   ]
  },
  {
   "cell_type": "raw",
   "metadata": {},
   "source": [
    "Sales do differ according to Outlet_Establishment year"
   ]
  },
  {
   "cell_type": "code",
   "execution_count": 37,
   "metadata": {},
   "outputs": [
    {
     "data": {
      "text/plain": [
       "<matplotlib.axes._subplots.AxesSubplot at 0x1b67f6f01d0>"
      ]
     },
     "execution_count": 37,
     "metadata": {},
     "output_type": "execute_result"
    },
    {
     "data": {
      "image/png": "[encoded data removed]",
      "text/plain": [
       "<Figure size 1080x576 with 1 Axes>"
      ]
     },
     "metadata": {
      "needs_background": "light"
     },
     "output_type": "display_data"
    }
   ],
   "source": [
    "plt.figure(figsize=(15,8))\n",
    "sns.boxplot(x=train.Outlet_Identifier,y=train.Item_Outlet_Sales)"
   ]
  },
  {
   "cell_type": "raw",
   "metadata": {},
   "source": [
    "Sales do differ according to Outlet_Identifier"
   ]
  },
  {
   "cell_type": "code",
   "execution_count": 38,
   "metadata": {},
   "outputs": [
    {
     "data": {
      "text/html": [
       "<div>\n",
       "<style scoped>\n",
       "    .dataframe tbody tr th:only-of-type {\n",
       "        vertical-align: middle;\n",
       "    }\n",
       "\n",
       "    .dataframe tbody tr th {\n",
       "        vertical-align: top;\n",
       "    }\n",
       "\n",
       "    .dataframe thead th {\n",
       "        text-align: right;\n",
       "    }\n",
       "</style>\n",
       "<table border=\"1\" class=\"dataframe\">\n",
       "  <thead>\n",
       "    <tr style=\"text-align: right;\">\n",
       "      <th></th>\n",
       "      <th>Item_Identifier</th>\n",
       "      <th>Item_Weight</th>\n",
       "      <th>Item_Fat_Content</th>\n",
       "      <th>Item_Visibility</th>\n",
       "      <th>Item_Type</th>\n",
       "      <th>Item_MRP</th>\n",
       "      <th>Outlet_Identifier</th>\n",
       "      <th>Outlet_Establishment_Year</th>\n",
       "      <th>Outlet_Size</th>\n",
       "      <th>Outlet_Location_Type</th>\n",
       "      <th>Outlet_Type</th>\n",
       "      <th>Item_Outlet_Sales</th>\n",
       "    </tr>\n",
       "  </thead>\n",
       "  <tbody>\n",
       "    <tr>\n",
       "      <th>0</th>\n",
       "      <td>FDA15</td>\n",
       "      <td>9.30</td>\n",
       "      <td>Low Fat</td>\n",
       "      <td>0.016047</td>\n",
       "      <td>Dairy</td>\n",
       "      <td>249.8092</td>\n",
       "      <td>OUT049</td>\n",
       "      <td>1999</td>\n",
       "      <td>Medium</td>\n",
       "      <td>Tier 1</td>\n",
       "      <td>Supermarket Type1</td>\n",
       "      <td>3735.1380</td>\n",
       "    </tr>\n",
       "    <tr>\n",
       "      <th>1</th>\n",
       "      <td>DRC01</td>\n",
       "      <td>5.92</td>\n",
       "      <td>Regular</td>\n",
       "      <td>0.019278</td>\n",
       "      <td>Soft Drinks</td>\n",
       "      <td>48.2692</td>\n",
       "      <td>OUT018</td>\n",
       "      <td>2009</td>\n",
       "      <td>Medium</td>\n",
       "      <td>Tier 3</td>\n",
       "      <td>Supermarket Type2</td>\n",
       "      <td>443.4228</td>\n",
       "    </tr>\n",
       "    <tr>\n",
       "      <th>2</th>\n",
       "      <td>FDN15</td>\n",
       "      <td>17.50</td>\n",
       "      <td>Low Fat</td>\n",
       "      <td>0.016760</td>\n",
       "      <td>Meat</td>\n",
       "      <td>141.6180</td>\n",
       "      <td>OUT049</td>\n",
       "      <td>1999</td>\n",
       "      <td>Medium</td>\n",
       "      <td>Tier 1</td>\n",
       "      <td>Supermarket Type1</td>\n",
       "      <td>2097.2700</td>\n",
       "    </tr>\n",
       "    <tr>\n",
       "      <th>3</th>\n",
       "      <td>FDX07</td>\n",
       "      <td>19.20</td>\n",
       "      <td>Regular</td>\n",
       "      <td>0.000000</td>\n",
       "      <td>Fruits and Vegetables</td>\n",
       "      <td>182.0950</td>\n",
       "      <td>OUT010</td>\n",
       "      <td>1998</td>\n",
       "      <td>NaN</td>\n",
       "      <td>Tier 3</td>\n",
       "      <td>Grocery Store</td>\n",
       "      <td>732.3800</td>\n",
       "    </tr>\n",
       "    <tr>\n",
       "      <th>4</th>\n",
       "      <td>NCD19</td>\n",
       "      <td>8.93</td>\n",
       "      <td>Low Fat</td>\n",
       "      <td>0.000000</td>\n",
       "      <td>Household</td>\n",
       "      <td>53.8614</td>\n",
       "      <td>OUT013</td>\n",
       "      <td>1987</td>\n",
       "      <td>High</td>\n",
       "      <td>Tier 3</td>\n",
       "      <td>Supermarket Type1</td>\n",
       "      <td>994.7052</td>\n",
       "    </tr>\n",
       "  </tbody>\n",
       "</table>\n",
       "</div>"
      ],
      "text/plain": [
       "  Item_Identifier  Item_Weight Item_Fat_Content  Item_Visibility  \\\n",
       "0           FDA15         9.30          Low Fat         0.016047   \n",
       "1           DRC01         5.92          Regular         0.019278   \n",
       "2           FDN15        17.50          Low Fat         0.016760   \n",
       "3           FDX07        19.20          Regular         0.000000   \n",
       "4           NCD19         8.93          Low Fat         0.000000   \n",
       "\n",
       "               Item_Type  Item_MRP Outlet_Identifier  \\\n",
       "0                  Dairy  249.8092            OUT049   \n",
       "1            Soft Drinks   48.2692            OUT018   \n",
       "2                   Meat  141.6180            OUT049   \n",
       "3  Fruits and Vegetables  182.0950            OUT010   \n",
       "4              Household   53.8614            OUT013   \n",
       "\n",
       "   Outlet_Establishment_Year Outlet_Size Outlet_Location_Type  \\\n",
       "0                       1999      Medium               Tier 1   \n",
       "1                       2009      Medium               Tier 3   \n",
       "2                       1999      Medium               Tier 1   \n",
       "3                       1998         NaN               Tier 3   \n",
       "4                       1987        High               Tier 3   \n",
       "\n",
       "         Outlet_Type  Item_Outlet_Sales  \n",
       "0  Supermarket Type1          3735.1380  \n",
       "1  Supermarket Type2           443.4228  \n",
       "2  Supermarket Type1          2097.2700  \n",
       "3      Grocery Store           732.3800  \n",
       "4  Supermarket Type1           994.7052  "
      ]
     },
     "execution_count": 38,
     "metadata": {},
     "output_type": "execute_result"
    }
   ],
   "source": [
    "train.head()"
   ]
  },
  {
   "cell_type": "code",
   "execution_count": 39,
   "metadata": {},
   "outputs": [
    {
     "data": {
      "text/html": [
       "<div>\n",
       "<style scoped>\n",
       "    .dataframe tbody tr th:only-of-type {\n",
       "        vertical-align: middle;\n",
       "    }\n",
       "\n",
       "    .dataframe tbody tr th {\n",
       "        vertical-align: top;\n",
       "    }\n",
       "\n",
       "    .dataframe thead th {\n",
       "        text-align: right;\n",
       "    }\n",
       "</style>\n",
       "<table border=\"1\" class=\"dataframe\">\n",
       "  <thead>\n",
       "    <tr style=\"text-align: right;\">\n",
       "      <th>Item_Fat_Content</th>\n",
       "      <th>LF</th>\n",
       "      <th>Low Fat</th>\n",
       "      <th>Regular</th>\n",
       "      <th>low fat</th>\n",
       "      <th>reg</th>\n",
       "    </tr>\n",
       "  </thead>\n",
       "  <tbody>\n",
       "    <tr>\n",
       "      <th>count</th>\n",
       "      <td>316.000000</td>\n",
       "      <td>5089.000000</td>\n",
       "      <td>2889.000000</td>\n",
       "      <td>112.000000</td>\n",
       "      <td>117.000000</td>\n",
       "    </tr>\n",
       "    <tr>\n",
       "      <th>mean</th>\n",
       "      <td>2073.551928</td>\n",
       "      <td>2164.477336</td>\n",
       "      <td>2235.186702</td>\n",
       "      <td>2087.740737</td>\n",
       "      <td>1962.192268</td>\n",
       "    </tr>\n",
       "    <tr>\n",
       "      <th>std</th>\n",
       "      <td>1535.282582</td>\n",
       "      <td>1706.599391</td>\n",
       "      <td>1727.715941</td>\n",
       "      <td>1747.723146</td>\n",
       "      <td>1543.170658</td>\n",
       "    </tr>\n",
       "    <tr>\n",
       "      <th>min</th>\n",
       "      <td>40.613800</td>\n",
       "      <td>33.290000</td>\n",
       "      <td>33.955800</td>\n",
       "      <td>83.890800</td>\n",
       "      <td>37.950600</td>\n",
       "    </tr>\n",
       "    <tr>\n",
       "      <th>25%</th>\n",
       "      <td>729.051000</td>\n",
       "      <td>826.923600</td>\n",
       "      <td>860.213600</td>\n",
       "      <td>912.146000</td>\n",
       "      <td>798.960000</td>\n",
       "    </tr>\n",
       "    <tr>\n",
       "      <th>50%</th>\n",
       "      <td>1797.660000</td>\n",
       "      <td>1765.701600</td>\n",
       "      <td>1845.597600</td>\n",
       "      <td>1614.232100</td>\n",
       "      <td>1492.723600</td>\n",
       "    </tr>\n",
       "    <tr>\n",
       "      <th>75%</th>\n",
       "      <td>2990.107800</td>\n",
       "      <td>3057.353600</td>\n",
       "      <td>3219.808800</td>\n",
       "      <td>2753.415900</td>\n",
       "      <td>2821.660400</td>\n",
       "    </tr>\n",
       "    <tr>\n",
       "      <th>max</th>\n",
       "      <td>7503.566000</td>\n",
       "      <td>13086.964800</td>\n",
       "      <td>12117.560000</td>\n",
       "      <td>9562.219600</td>\n",
       "      <td>7833.802800</td>\n",
       "    </tr>\n",
       "  </tbody>\n",
       "</table>\n",
       "</div>"
      ],
      "text/plain": [
       "Item_Fat_Content           LF       Low Fat       Regular      low fat  \\\n",
       "count              316.000000   5089.000000   2889.000000   112.000000   \n",
       "mean              2073.551928   2164.477336   2235.186702  2087.740737   \n",
       "std               1535.282582   1706.599391   1727.715941  1747.723146   \n",
       "min                 40.613800     33.290000     33.955800    83.890800   \n",
       "25%                729.051000    826.923600    860.213600   912.146000   \n",
       "50%               1797.660000   1765.701600   1845.597600  1614.232100   \n",
       "75%               2990.107800   3057.353600   3219.808800  2753.415900   \n",
       "max               7503.566000  13086.964800  12117.560000  9562.219600   \n",
       "\n",
       "Item_Fat_Content          reg  \n",
       "count              117.000000  \n",
       "mean              1962.192268  \n",
       "std               1543.170658  \n",
       "min                 37.950600  \n",
       "25%                798.960000  \n",
       "50%               1492.723600  \n",
       "75%               2821.660400  \n",
       "max               7833.802800  "
      ]
     },
     "execution_count": 39,
     "metadata": {},
     "output_type": "execute_result"
    }
   ],
   "source": [
    "train.groupby(\"Item_Fat_Content\")[\"Item_Outlet_Sales\"].describe().T"
   ]
  },
  {
   "cell_type": "code",
   "execution_count": 40,
   "metadata": {},
   "outputs": [
    {
     "data": {
      "text/plain": [
       "Item_Identifier\n",
       "DRA12    11.600\n",
       "DRA24    19.350\n",
       "DRA59     8.270\n",
       "DRB01     7.390\n",
       "DRB13     6.115\n",
       "DRB24     8.785\n",
       "DRB25    12.300\n",
       "DRB48    16.750\n",
       "DRC01     5.920\n",
       "DRC12    17.850\n",
       "DRC13     8.260\n",
       "DRC24    17.850\n",
       "DRC25     5.730\n",
       "DRC27    13.800\n",
       "DRC36    13.000\n",
       "DRC49     8.670\n",
       "DRD01    12.100\n",
       "DRD12     6.960\n",
       "DRD13    15.000\n",
       "DRD15    10.600\n",
       "DRD24    13.850\n",
       "DRD25     6.135\n",
       "DRD27    18.750\n",
       "DRD37     9.800\n",
       "DRD49     9.895\n",
       "DRD60    15.700\n",
       "DRE01    10.100\n",
       "DRE03    19.600\n",
       "DRE12     4.590\n",
       "DRE13     6.280\n",
       "          ...  \n",
       "NCX05    15.200\n",
       "NCX06    17.600\n",
       "NCX17    21.250\n",
       "NCX18    14.150\n",
       "NCX29    10.000\n",
       "NCX30    16.700\n",
       "NCX41    19.000\n",
       "NCX42     6.360\n",
       "NCX53    20.100\n",
       "NCX54     9.195\n",
       "NCY05    13.500\n",
       "NCY06    15.250\n",
       "NCY17    18.200\n",
       "NCY18     7.285\n",
       "NCY29    13.650\n",
       "NCY30    20.250\n",
       "NCY41    16.750\n",
       "NCY42     6.380\n",
       "NCY53    20.000\n",
       "NCY54     8.430\n",
       "NCZ05     8.485\n",
       "NCZ06    19.600\n",
       "NCZ17    12.150\n",
       "NCZ18     7.825\n",
       "NCZ29    15.000\n",
       "NCZ30     6.590\n",
       "NCZ41    19.850\n",
       "NCZ42    10.500\n",
       "NCZ53     9.600\n",
       "NCZ54    14.650\n",
       "Name: Item_Weight, Length: 1559, dtype: float64"
      ]
     },
     "execution_count": 40,
     "metadata": {},
     "output_type": "execute_result"
    }
   ],
   "source": [
    "train.groupby('Item_Identifier')['Item_Weight'].mean()"
   ]
  },
  {
   "cell_type": "code",
   "execution_count": 41,
   "metadata": {},
   "outputs": [
    {
     "data": {
      "text/html": [
       "<div>\n",
       "<style scoped>\n",
       "    .dataframe tbody tr th:only-of-type {\n",
       "        vertical-align: middle;\n",
       "    }\n",
       "\n",
       "    .dataframe tbody tr th {\n",
       "        vertical-align: top;\n",
       "    }\n",
       "\n",
       "    .dataframe thead th {\n",
       "        text-align: right;\n",
       "    }\n",
       "</style>\n",
       "<table border=\"1\" class=\"dataframe\">\n",
       "  <thead>\n",
       "    <tr style=\"text-align: right;\">\n",
       "      <th></th>\n",
       "      <th>Item_Identifier</th>\n",
       "      <th>Item_Weight</th>\n",
       "      <th>Item_Fat_Content</th>\n",
       "      <th>Item_Visibility</th>\n",
       "      <th>Item_Type</th>\n",
       "      <th>Item_MRP</th>\n",
       "      <th>Outlet_Identifier</th>\n",
       "      <th>Outlet_Establishment_Year</th>\n",
       "      <th>Outlet_Size</th>\n",
       "      <th>Outlet_Location_Type</th>\n",
       "      <th>Outlet_Type</th>\n",
       "      <th>Item_Outlet_Sales</th>\n",
       "    </tr>\n",
       "  </thead>\n",
       "  <tbody>\n",
       "    <tr>\n",
       "      <th>0</th>\n",
       "      <td>FDA15</td>\n",
       "      <td>9.30</td>\n",
       "      <td>Low Fat</td>\n",
       "      <td>0.016047</td>\n",
       "      <td>Dairy</td>\n",
       "      <td>249.8092</td>\n",
       "      <td>OUT049</td>\n",
       "      <td>1999</td>\n",
       "      <td>Medium</td>\n",
       "      <td>Tier 1</td>\n",
       "      <td>Supermarket Type1</td>\n",
       "      <td>3735.1380</td>\n",
       "    </tr>\n",
       "    <tr>\n",
       "      <th>1</th>\n",
       "      <td>DRC01</td>\n",
       "      <td>5.92</td>\n",
       "      <td>Regular</td>\n",
       "      <td>0.019278</td>\n",
       "      <td>Soft Drinks</td>\n",
       "      <td>48.2692</td>\n",
       "      <td>OUT018</td>\n",
       "      <td>2009</td>\n",
       "      <td>Medium</td>\n",
       "      <td>Tier 3</td>\n",
       "      <td>Supermarket Type2</td>\n",
       "      <td>443.4228</td>\n",
       "    </tr>\n",
       "    <tr>\n",
       "      <th>2</th>\n",
       "      <td>FDN15</td>\n",
       "      <td>17.50</td>\n",
       "      <td>Low Fat</td>\n",
       "      <td>0.016760</td>\n",
       "      <td>Meat</td>\n",
       "      <td>141.6180</td>\n",
       "      <td>OUT049</td>\n",
       "      <td>1999</td>\n",
       "      <td>Medium</td>\n",
       "      <td>Tier 1</td>\n",
       "      <td>Supermarket Type1</td>\n",
       "      <td>2097.2700</td>\n",
       "    </tr>\n",
       "    <tr>\n",
       "      <th>3</th>\n",
       "      <td>FDX07</td>\n",
       "      <td>19.20</td>\n",
       "      <td>Regular</td>\n",
       "      <td>0.000000</td>\n",
       "      <td>Fruits and Vegetables</td>\n",
       "      <td>182.0950</td>\n",
       "      <td>OUT010</td>\n",
       "      <td>1998</td>\n",
       "      <td>NaN</td>\n",
       "      <td>Tier 3</td>\n",
       "      <td>Grocery Store</td>\n",
       "      <td>732.3800</td>\n",
       "    </tr>\n",
       "    <tr>\n",
       "      <th>4</th>\n",
       "      <td>NCD19</td>\n",
       "      <td>8.93</td>\n",
       "      <td>Low Fat</td>\n",
       "      <td>0.000000</td>\n",
       "      <td>Household</td>\n",
       "      <td>53.8614</td>\n",
       "      <td>OUT013</td>\n",
       "      <td>1987</td>\n",
       "      <td>High</td>\n",
       "      <td>Tier 3</td>\n",
       "      <td>Supermarket Type1</td>\n",
       "      <td>994.7052</td>\n",
       "    </tr>\n",
       "  </tbody>\n",
       "</table>\n",
       "</div>"
      ],
      "text/plain": [
       "  Item_Identifier  Item_Weight Item_Fat_Content  Item_Visibility  \\\n",
       "0           FDA15         9.30          Low Fat         0.016047   \n",
       "1           DRC01         5.92          Regular         0.019278   \n",
       "2           FDN15        17.50          Low Fat         0.016760   \n",
       "3           FDX07        19.20          Regular         0.000000   \n",
       "4           NCD19         8.93          Low Fat         0.000000   \n",
       "\n",
       "               Item_Type  Item_MRP Outlet_Identifier  \\\n",
       "0                  Dairy  249.8092            OUT049   \n",
       "1            Soft Drinks   48.2692            OUT018   \n",
       "2                   Meat  141.6180            OUT049   \n",
       "3  Fruits and Vegetables  182.0950            OUT010   \n",
       "4              Household   53.8614            OUT013   \n",
       "\n",
       "   Outlet_Establishment_Year Outlet_Size Outlet_Location_Type  \\\n",
       "0                       1999      Medium               Tier 1   \n",
       "1                       2009      Medium               Tier 3   \n",
       "2                       1999      Medium               Tier 1   \n",
       "3                       1998         NaN               Tier 3   \n",
       "4                       1987        High               Tier 3   \n",
       "\n",
       "         Outlet_Type  Item_Outlet_Sales  \n",
       "0  Supermarket Type1          3735.1380  \n",
       "1  Supermarket Type2           443.4228  \n",
       "2  Supermarket Type1          2097.2700  \n",
       "3      Grocery Store           732.3800  \n",
       "4  Supermarket Type1           994.7052  "
      ]
     },
     "execution_count": 41,
     "metadata": {},
     "output_type": "execute_result"
    }
   ],
   "source": [
    "train.head()"
   ]
  },
  {
   "cell_type": "raw",
   "metadata": {},
   "source": [
    "We see that item weight is almost similar according to Item_Identifier"
   ]
  },
  {
   "cell_type": "code",
   "execution_count": 42,
   "metadata": {},
   "outputs": [],
   "source": [
    "\n",
    "data['Item_Weight']=data.groupby('Item_Identifier')['Item_Weight'].transform(lambda x:x.fillna(x.mean())) \n",
    " "
   ]
  },
  {
   "cell_type": "code",
   "execution_count": 43,
   "metadata": {},
   "outputs": [],
   "source": [
    "data['Item_Weight'] = data['Item_Weight'].fillna(data['Item_Weight'].mean())"
   ]
  },
  {
   "cell_type": "raw",
   "metadata": {},
   "source": [
    "We now impute the mean weight according to the item identifier."
   ]
  },
  {
   "cell_type": "code",
   "execution_count": 44,
   "metadata": {},
   "outputs": [
    {
     "data": {
      "text/plain": [
       "Item_Identifier                 0\n",
       "Item_Weight                     0\n",
       "Item_Fat_Content                0\n",
       "Item_Visibility                 0\n",
       "Item_Type                       0\n",
       "Item_MRP                        0\n",
       "Outlet_Identifier               0\n",
       "Outlet_Establishment_Year       0\n",
       "Outlet_Size                  4016\n",
       "Outlet_Location_Type            0\n",
       "Outlet_Type                     0\n",
       "Item_Outlet_Sales            5681\n",
       "dtype: int64"
      ]
     },
     "execution_count": 44,
     "metadata": {},
     "output_type": "execute_result"
    }
   ],
   "source": [
    "data.isnull().sum()"
   ]
  },
  {
   "cell_type": "code",
   "execution_count": 45,
   "metadata": {},
   "outputs": [
    {
     "data": {
      "text/plain": [
       "<matplotlib.axes._subplots.AxesSubplot at 0x1b600075ba8>"
      ]
     },
     "execution_count": 45,
     "metadata": {},
     "output_type": "execute_result"
    },
    {
     "data": {
      "image/png": "[encoded data removed]",
      "text/plain": [
       "<Figure size 1080x576 with 1 Axes>"
      ]
     },
     "metadata": {
      "needs_background": "light"
     },
     "output_type": "display_data"
    }
   ],
   "source": [
    "plt.figure(figsize=(15,8))\n",
    "sns.countplot(train.Outlet_Type,hue=train.Outlet_Size)"
   ]
  },
  {
   "cell_type": "code",
   "execution_count": 46,
   "metadata": {},
   "outputs": [
    {
     "data": {
      "text/plain": [
       "<matplotlib.axes._subplots.AxesSubplot at 0x1b6002315f8>"
      ]
     },
     "execution_count": 46,
     "metadata": {},
     "output_type": "execute_result"
    },
    {
     "data": {
      "image/png": "[encoded data removed]",
      "text/plain": [
       "<Figure size 432x288 with 1 Axes>"
      ]
     },
     "metadata": {
      "needs_background": "light"
     },
     "output_type": "display_data"
    }
   ],
   "source": [
    "sns.countplot(train.Outlet_Location_Type,hue=train.Outlet_Size)"
   ]
  },
  {
   "cell_type": "code",
   "execution_count": 47,
   "metadata": {},
   "outputs": [
    {
     "data": {
      "text/plain": [
       "Outlet_Size  Outlet_Location_Type\n",
       "High         Tier 3                  1553\n",
       "Medium       Tier 3                  3105\n",
       "             Tier 1                  1550\n",
       "Small        Tier 1                  2430\n",
       "             Tier 2                  1550\n",
       "Name: Outlet_Location_Type, dtype: int64"
      ]
     },
     "execution_count": 47,
     "metadata": {},
     "output_type": "execute_result"
    }
   ],
   "source": [
    "data.groupby(\"Outlet_Size\")[\"Outlet_Location_Type\"].value_counts()"
   ]
  },
  {
   "cell_type": "code",
   "execution_count": 48,
   "metadata": {},
   "outputs": [
    {
     "data": {
      "text/plain": [
       "Outlet_Location_Type  Outlet_Type        Outlet_Size\n",
       "Tier 1                Grocery Store      Small           880\n",
       "                      Supermarket Type1  Medium         1550\n",
       "                                         Small          1550\n",
       "Tier 2                Supermarket Type1  Small          1550\n",
       "Tier 3                Supermarket Type1  High           1553\n",
       "                      Supermarket Type2  Medium         1546\n",
       "                      Supermarket Type3  Medium         1559\n",
       "Name: Outlet_Size, dtype: int64"
      ]
     },
     "execution_count": 48,
     "metadata": {},
     "output_type": "execute_result"
    }
   ],
   "source": [
    "data.groupby(['Outlet_Location_Type','Outlet_Type'])['Outlet_Size'].value_counts()"
   ]
  },
  {
   "cell_type": "code",
   "execution_count": 49,
   "metadata": {},
   "outputs": [
    {
     "data": {
      "text/plain": [
       "Outlet_Location_Type  Outlet_Type         \n",
       "Tier 1                Grocery Store      0     Small\n",
       "                      Supermarket Type1  0    Medium\n",
       "                                         1     Small\n",
       "Tier 2                Supermarket Type1  0     Small\n",
       "Tier 3                Supermarket Type1  0      High\n",
       "                      Supermarket Type2  0    Medium\n",
       "                      Supermarket Type3  0    Medium\n",
       "Name: Outlet_Size, dtype: object"
      ]
     },
     "execution_count": 49,
     "metadata": {},
     "output_type": "execute_result"
    }
   ],
   "source": [
    "data.groupby(['Outlet_Location_Type','Outlet_Type'])['Outlet_Size'].apply(lambda x:x.mode())"
   ]
  },
  {
   "cell_type": "raw",
   "metadata": {},
   "source": [
    "We see that the Outlet size varies considerably according to the Outlet location type and outlet type"
   ]
  },
  {
   "cell_type": "raw",
   "metadata": {},
   "source": [
    "We then impute the outset size in variation with the Outlet location type and outlet type"
   ]
  },
  {
   "cell_type": "code",
   "execution_count": 50,
   "metadata": {},
   "outputs": [
    {
     "data": {
      "text/plain": [
       "Item_Identifier                 0\n",
       "Item_Weight                     0\n",
       "Item_Fat_Content                0\n",
       "Item_Visibility                 0\n",
       "Item_Type                       0\n",
       "Item_MRP                        0\n",
       "Outlet_Identifier               0\n",
       "Outlet_Establishment_Year       0\n",
       "Outlet_Size                  3091\n",
       "Outlet_Location_Type            0\n",
       "Outlet_Type                     0\n",
       "Item_Outlet_Sales            1856\n",
       "dtype: int64"
      ]
     },
     "execution_count": 50,
     "metadata": {},
     "output_type": "execute_result"
    }
   ],
   "source": [
    "data[(data.Outlet_Location_Type=='Tier 2')&(data.Outlet_Type=='Supermarket Type1')].isnull().sum()"
   ]
  },
  {
   "cell_type": "code",
   "execution_count": 51,
   "metadata": {},
   "outputs": [],
   "source": [
    "#data['Item_Weight']=data.groupby('Item_Identifier')['Item_Weight'].transform(lambda x:x.fillna(x.mean())) \n",
    "#data['Outlet_Size']=data.groupby(['Outlet_Location_Type','Outlet_Type'])['Outlet_Size'].transform(lambda x:x.fillna(x.mode()))"
   ]
  },
  {
   "cell_type": "code",
   "execution_count": 52,
   "metadata": {},
   "outputs": [
    {
     "data": {
      "text/html": [
       "<div>\n",
       "<style scoped>\n",
       "    .dataframe tbody tr th:only-of-type {\n",
       "        vertical-align: middle;\n",
       "    }\n",
       "\n",
       "    .dataframe tbody tr th {\n",
       "        vertical-align: top;\n",
       "    }\n",
       "\n",
       "    .dataframe thead th {\n",
       "        text-align: right;\n",
       "    }\n",
       "</style>\n",
       "<table border=\"1\" class=\"dataframe\">\n",
       "  <thead>\n",
       "    <tr style=\"text-align: right;\">\n",
       "      <th></th>\n",
       "      <th>Item_Identifier</th>\n",
       "      <th>Item_Weight</th>\n",
       "      <th>Item_Fat_Content</th>\n",
       "      <th>Item_Visibility</th>\n",
       "      <th>Item_Type</th>\n",
       "      <th>Item_MRP</th>\n",
       "      <th>Outlet_Identifier</th>\n",
       "      <th>Outlet_Establishment_Year</th>\n",
       "      <th>Outlet_Size</th>\n",
       "      <th>Outlet_Location_Type</th>\n",
       "      <th>Outlet_Type</th>\n",
       "      <th>Item_Outlet_Sales</th>\n",
       "    </tr>\n",
       "  </thead>\n",
       "  <tbody>\n",
       "    <tr>\n",
       "      <th>7</th>\n",
       "      <td>FDP10</td>\n",
       "      <td>19.000</td>\n",
       "      <td>Low Fat</td>\n",
       "      <td>0.127470</td>\n",
       "      <td>Snack Foods</td>\n",
       "      <td>107.7622</td>\n",
       "      <td>OUT027</td>\n",
       "      <td>1985</td>\n",
       "      <td>Medium</td>\n",
       "      <td>Tier 3</td>\n",
       "      <td>Supermarket Type3</td>\n",
       "      <td>4022.7636</td>\n",
       "    </tr>\n",
       "    <tr>\n",
       "      <th>18</th>\n",
       "      <td>DRI11</td>\n",
       "      <td>8.260</td>\n",
       "      <td>Low Fat</td>\n",
       "      <td>0.034238</td>\n",
       "      <td>Hard Drinks</td>\n",
       "      <td>113.2834</td>\n",
       "      <td>OUT027</td>\n",
       "      <td>1985</td>\n",
       "      <td>Medium</td>\n",
       "      <td>Tier 3</td>\n",
       "      <td>Supermarket Type3</td>\n",
       "      <td>2303.6680</td>\n",
       "    </tr>\n",
       "    <tr>\n",
       "      <th>21</th>\n",
       "      <td>FDW12</td>\n",
       "      <td>8.315</td>\n",
       "      <td>Regular</td>\n",
       "      <td>0.035400</td>\n",
       "      <td>Baking Goods</td>\n",
       "      <td>144.5444</td>\n",
       "      <td>OUT027</td>\n",
       "      <td>1985</td>\n",
       "      <td>Medium</td>\n",
       "      <td>Tier 3</td>\n",
       "      <td>Supermarket Type3</td>\n",
       "      <td>4064.0432</td>\n",
       "    </tr>\n",
       "    <tr>\n",
       "      <th>36</th>\n",
       "      <td>FDV20</td>\n",
       "      <td>20.200</td>\n",
       "      <td>Regular</td>\n",
       "      <td>0.059512</td>\n",
       "      <td>Fruits and Vegetables</td>\n",
       "      <td>128.0678</td>\n",
       "      <td>OUT027</td>\n",
       "      <td>1985</td>\n",
       "      <td>Medium</td>\n",
       "      <td>Tier 3</td>\n",
       "      <td>Supermarket Type3</td>\n",
       "      <td>2797.6916</td>\n",
       "    </tr>\n",
       "    <tr>\n",
       "      <th>38</th>\n",
       "      <td>FDX10</td>\n",
       "      <td>6.385</td>\n",
       "      <td>Regular</td>\n",
       "      <td>0.123111</td>\n",
       "      <td>Snack Foods</td>\n",
       "      <td>36.9874</td>\n",
       "      <td>OUT027</td>\n",
       "      <td>1985</td>\n",
       "      <td>Medium</td>\n",
       "      <td>Tier 3</td>\n",
       "      <td>Supermarket Type3</td>\n",
       "      <td>388.1614</td>\n",
       "    </tr>\n",
       "    <tr>\n",
       "      <th>39</th>\n",
       "      <td>FDB34</td>\n",
       "      <td>15.250</td>\n",
       "      <td>Low Fat</td>\n",
       "      <td>0.026481</td>\n",
       "      <td>Snack Foods</td>\n",
       "      <td>87.6198</td>\n",
       "      <td>OUT027</td>\n",
       "      <td>1985</td>\n",
       "      <td>Medium</td>\n",
       "      <td>Tier 3</td>\n",
       "      <td>Supermarket Type3</td>\n",
       "      <td>2180.4950</td>\n",
       "    </tr>\n",
       "    <tr>\n",
       "      <th>62</th>\n",
       "      <td>FDF09</td>\n",
       "      <td>6.215</td>\n",
       "      <td>Low Fat</td>\n",
       "      <td>0.012090</td>\n",
       "      <td>Fruits and Vegetables</td>\n",
       "      <td>38.2848</td>\n",
       "      <td>OUT027</td>\n",
       "      <td>1985</td>\n",
       "      <td>Medium</td>\n",
       "      <td>Tier 3</td>\n",
       "      <td>Supermarket Type3</td>\n",
       "      <td>484.7024</td>\n",
       "    </tr>\n",
       "    <tr>\n",
       "      <th>64</th>\n",
       "      <td>FDY45</td>\n",
       "      <td>17.500</td>\n",
       "      <td>Low Fat</td>\n",
       "      <td>0.026016</td>\n",
       "      <td>Snack Foods</td>\n",
       "      <td>255.8356</td>\n",
       "      <td>OUT027</td>\n",
       "      <td>1985</td>\n",
       "      <td>Medium</td>\n",
       "      <td>Tier 3</td>\n",
       "      <td>Supermarket Type3</td>\n",
       "      <td>2543.3560</td>\n",
       "    </tr>\n",
       "    <tr>\n",
       "      <th>84</th>\n",
       "      <td>FDR12</td>\n",
       "      <td>12.600</td>\n",
       "      <td>Regular</td>\n",
       "      <td>0.031382</td>\n",
       "      <td>Baking Goods</td>\n",
       "      <td>171.3764</td>\n",
       "      <td>OUT027</td>\n",
       "      <td>1985</td>\n",
       "      <td>Medium</td>\n",
       "      <td>Tier 3</td>\n",
       "      <td>Supermarket Type3</td>\n",
       "      <td>3091.9752</td>\n",
       "    </tr>\n",
       "    <tr>\n",
       "      <th>87</th>\n",
       "      <td>FDQ49</td>\n",
       "      <td>20.200</td>\n",
       "      <td>Regular</td>\n",
       "      <td>0.039058</td>\n",
       "      <td>Breakfast</td>\n",
       "      <td>155.9630</td>\n",
       "      <td>OUT027</td>\n",
       "      <td>1985</td>\n",
       "      <td>Medium</td>\n",
       "      <td>Tier 3</td>\n",
       "      <td>Supermarket Type3</td>\n",
       "      <td>3285.7230</td>\n",
       "    </tr>\n",
       "    <tr>\n",
       "      <th>98</th>\n",
       "      <td>NCP18</td>\n",
       "      <td>12.150</td>\n",
       "      <td>Low Fat</td>\n",
       "      <td>0.028460</td>\n",
       "      <td>Household</td>\n",
       "      <td>149.9708</td>\n",
       "      <td>OUT027</td>\n",
       "      <td>1985</td>\n",
       "      <td>Medium</td>\n",
       "      <td>Tier 3</td>\n",
       "      <td>Supermarket Type3</td>\n",
       "      <td>4363.6532</td>\n",
       "    </tr>\n",
       "    <tr>\n",
       "      <th>101</th>\n",
       "      <td>FDD10</td>\n",
       "      <td>20.600</td>\n",
       "      <td>Regular</td>\n",
       "      <td>0.045798</td>\n",
       "      <td>Snack Foods</td>\n",
       "      <td>178.5344</td>\n",
       "      <td>OUT027</td>\n",
       "      <td>1985</td>\n",
       "      <td>Medium</td>\n",
       "      <td>Tier 3</td>\n",
       "      <td>Supermarket Type3</td>\n",
       "      <td>2854.9504</td>\n",
       "    </tr>\n",
       "    <tr>\n",
       "      <th>113</th>\n",
       "      <td>FDX34</td>\n",
       "      <td>6.195</td>\n",
       "      <td>Low Fat</td>\n",
       "      <td>0.071637</td>\n",
       "      <td>Snack Foods</td>\n",
       "      <td>121.7098</td>\n",
       "      <td>OUT027</td>\n",
       "      <td>1985</td>\n",
       "      <td>Medium</td>\n",
       "      <td>Tier 3</td>\n",
       "      <td>Supermarket Type3</td>\n",
       "      <td>4097.3332</td>\n",
       "    </tr>\n",
       "    <tr>\n",
       "      <th>130</th>\n",
       "      <td>FDY25</td>\n",
       "      <td>12.000</td>\n",
       "      <td>Low Fat</td>\n",
       "      <td>0.033810</td>\n",
       "      <td>Canned</td>\n",
       "      <td>180.5976</td>\n",
       "      <td>OUT027</td>\n",
       "      <td>1985</td>\n",
       "      <td>Medium</td>\n",
       "      <td>Tier 3</td>\n",
       "      <td>Supermarket Type3</td>\n",
       "      <td>7968.2944</td>\n",
       "    </tr>\n",
       "    <tr>\n",
       "      <th>132</th>\n",
       "      <td>NCR53</td>\n",
       "      <td>12.150</td>\n",
       "      <td>Low Fat</td>\n",
       "      <td>0.144338</td>\n",
       "      <td>Health and Hygiene</td>\n",
       "      <td>224.4404</td>\n",
       "      <td>OUT027</td>\n",
       "      <td>1985</td>\n",
       "      <td>Medium</td>\n",
       "      <td>Tier 3</td>\n",
       "      <td>Supermarket Type3</td>\n",
       "      <td>6976.2524</td>\n",
       "    </tr>\n",
       "    <tr>\n",
       "      <th>136</th>\n",
       "      <td>FDH35</td>\n",
       "      <td>18.250</td>\n",
       "      <td>Low Fat</td>\n",
       "      <td>0.059957</td>\n",
       "      <td>Starchy Foods</td>\n",
       "      <td>165.4526</td>\n",
       "      <td>OUT027</td>\n",
       "      <td>1985</td>\n",
       "      <td>Medium</td>\n",
       "      <td>Tier 3</td>\n",
       "      <td>Supermarket Type3</td>\n",
       "      <td>5262.4832</td>\n",
       "    </tr>\n",
       "    <tr>\n",
       "      <th>153</th>\n",
       "      <td>DRK12</td>\n",
       "      <td>9.500</td>\n",
       "      <td>Low Fat</td>\n",
       "      <td>0.041683</td>\n",
       "      <td>Soft Drinks</td>\n",
       "      <td>31.2900</td>\n",
       "      <td>OUT027</td>\n",
       "      <td>1985</td>\n",
       "      <td>Medium</td>\n",
       "      <td>Tier 3</td>\n",
       "      <td>Supermarket Type3</td>\n",
       "      <td>898.8300</td>\n",
       "    </tr>\n",
       "    <tr>\n",
       "      <th>161</th>\n",
       "      <td>FDR07</td>\n",
       "      <td>21.350</td>\n",
       "      <td>Low Fat</td>\n",
       "      <td>0.077367</td>\n",
       "      <td>Fruits and Vegetables</td>\n",
       "      <td>97.0094</td>\n",
       "      <td>OUT027</td>\n",
       "      <td>1985</td>\n",
       "      <td>Medium</td>\n",
       "      <td>Tier 3</td>\n",
       "      <td>Supermarket Type3</td>\n",
       "      <td>1808.9786</td>\n",
       "    </tr>\n",
       "    <tr>\n",
       "      <th>168</th>\n",
       "      <td>NCB30</td>\n",
       "      <td>14.600</td>\n",
       "      <td>Low Fat</td>\n",
       "      <td>0.025579</td>\n",
       "      <td>Household</td>\n",
       "      <td>198.8084</td>\n",
       "      <td>OUT027</td>\n",
       "      <td>1985</td>\n",
       "      <td>Medium</td>\n",
       "      <td>Tier 3</td>\n",
       "      <td>Supermarket Type3</td>\n",
       "      <td>5555.4352</td>\n",
       "    </tr>\n",
       "    <tr>\n",
       "      <th>180</th>\n",
       "      <td>FDQ28</td>\n",
       "      <td>14.000</td>\n",
       "      <td>Regular</td>\n",
       "      <td>0.060134</td>\n",
       "      <td>Frozen Foods</td>\n",
       "      <td>153.0656</td>\n",
       "      <td>OUT027</td>\n",
       "      <td>1985</td>\n",
       "      <td>Medium</td>\n",
       "      <td>Tier 3</td>\n",
       "      <td>Supermarket Type3</td>\n",
       "      <td>6024.1584</td>\n",
       "    </tr>\n",
       "    <tr>\n",
       "      <th>184</th>\n",
       "      <td>FDT12</td>\n",
       "      <td>6.215</td>\n",
       "      <td>Regular</td>\n",
       "      <td>0.049381</td>\n",
       "      <td>Baking Goods</td>\n",
       "      <td>226.8062</td>\n",
       "      <td>OUT027</td>\n",
       "      <td>1985</td>\n",
       "      <td>Medium</td>\n",
       "      <td>Tier 3</td>\n",
       "      <td>Supermarket Type3</td>\n",
       "      <td>4739.8302</td>\n",
       "    </tr>\n",
       "    <tr>\n",
       "      <th>194</th>\n",
       "      <td>NCX06</td>\n",
       "      <td>17.600</td>\n",
       "      <td>Low Fat</td>\n",
       "      <td>0.015611</td>\n",
       "      <td>Household</td>\n",
       "      <td>182.5976</td>\n",
       "      <td>OUT027</td>\n",
       "      <td>1985</td>\n",
       "      <td>Medium</td>\n",
       "      <td>Tier 3</td>\n",
       "      <td>Supermarket Type3</td>\n",
       "      <td>5070.7328</td>\n",
       "    </tr>\n",
       "    <tr>\n",
       "      <th>198</th>\n",
       "      <td>FDE40</td>\n",
       "      <td>15.600</td>\n",
       "      <td>Regular</td>\n",
       "      <td>0.098664</td>\n",
       "      <td>Dairy</td>\n",
       "      <td>62.9194</td>\n",
       "      <td>OUT027</td>\n",
       "      <td>1985</td>\n",
       "      <td>Medium</td>\n",
       "      <td>Tier 3</td>\n",
       "      <td>Supermarket Type3</td>\n",
       "      <td>2105.2596</td>\n",
       "    </tr>\n",
       "    <tr>\n",
       "      <th>199</th>\n",
       "      <td>FDX49</td>\n",
       "      <td>4.615</td>\n",
       "      <td>Regular</td>\n",
       "      <td>0.101339</td>\n",
       "      <td>Canned</td>\n",
       "      <td>232.6300</td>\n",
       "      <td>OUT027</td>\n",
       "      <td>1985</td>\n",
       "      <td>Medium</td>\n",
       "      <td>Tier 3</td>\n",
       "      <td>Supermarket Type3</td>\n",
       "      <td>5359.6900</td>\n",
       "    </tr>\n",
       "    <tr>\n",
       "      <th>203</th>\n",
       "      <td>FDI24</td>\n",
       "      <td>10.300</td>\n",
       "      <td>Low Fat</td>\n",
       "      <td>0.078362</td>\n",
       "      <td>Baking Goods</td>\n",
       "      <td>177.9370</td>\n",
       "      <td>OUT027</td>\n",
       "      <td>1985</td>\n",
       "      <td>Medium</td>\n",
       "      <td>Tier 3</td>\n",
       "      <td>Supermarket Type3</td>\n",
       "      <td>6704.6060</td>\n",
       "    </tr>\n",
       "    <tr>\n",
       "      <th>229</th>\n",
       "      <td>FDX25</td>\n",
       "      <td>16.700</td>\n",
       "      <td>Low Fat</td>\n",
       "      <td>0.101562</td>\n",
       "      <td>Canned</td>\n",
       "      <td>181.9292</td>\n",
       "      <td>OUT027</td>\n",
       "      <td>1985</td>\n",
       "      <td>Medium</td>\n",
       "      <td>Tier 3</td>\n",
       "      <td>Supermarket Type3</td>\n",
       "      <td>3101.2964</td>\n",
       "    </tr>\n",
       "    <tr>\n",
       "      <th>230</th>\n",
       "      <td>NCX42</td>\n",
       "      <td>6.360</td>\n",
       "      <td>Low Fat</td>\n",
       "      <td>0.005950</td>\n",
       "      <td>Household</td>\n",
       "      <td>165.6526</td>\n",
       "      <td>OUT027</td>\n",
       "      <td>1985</td>\n",
       "      <td>Medium</td>\n",
       "      <td>Tier 3</td>\n",
       "      <td>Supermarket Type3</td>\n",
       "      <td>4769.1254</td>\n",
       "    </tr>\n",
       "    <tr>\n",
       "      <th>231</th>\n",
       "      <td>FDG33</td>\n",
       "      <td>5.365</td>\n",
       "      <td>Regular</td>\n",
       "      <td>0.139561</td>\n",
       "      <td>Seafood</td>\n",
       "      <td>170.4764</td>\n",
       "      <td>OUT027</td>\n",
       "      <td>1985</td>\n",
       "      <td>Medium</td>\n",
       "      <td>Tier 3</td>\n",
       "      <td>Supermarket Type3</td>\n",
       "      <td>3435.5280</td>\n",
       "    </tr>\n",
       "    <tr>\n",
       "      <th>235</th>\n",
       "      <td>DRM47</td>\n",
       "      <td>9.300</td>\n",
       "      <td>Low Fat</td>\n",
       "      <td>0.043574</td>\n",
       "      <td>Hard Drinks</td>\n",
       "      <td>192.8846</td>\n",
       "      <td>OUT027</td>\n",
       "      <td>1985</td>\n",
       "      <td>Medium</td>\n",
       "      <td>Tier 3</td>\n",
       "      <td>Supermarket Type3</td>\n",
       "      <td>2293.0152</td>\n",
       "    </tr>\n",
       "    <tr>\n",
       "      <th>238</th>\n",
       "      <td>FDX21</td>\n",
       "      <td>7.050</td>\n",
       "      <td>Low Fat</td>\n",
       "      <td>0.084555</td>\n",
       "      <td>Snack Foods</td>\n",
       "      <td>109.8912</td>\n",
       "      <td>OUT027</td>\n",
       "      <td>1985</td>\n",
       "      <td>Medium</td>\n",
       "      <td>Tier 3</td>\n",
       "      <td>Supermarket Type3</td>\n",
       "      <td>2074.6328</td>\n",
       "    </tr>\n",
       "    <tr>\n",
       "      <th>...</th>\n",
       "      <td>...</td>\n",
       "      <td>...</td>\n",
       "      <td>...</td>\n",
       "      <td>...</td>\n",
       "      <td>...</td>\n",
       "      <td>...</td>\n",
       "      <td>...</td>\n",
       "      <td>...</td>\n",
       "      <td>...</td>\n",
       "      <td>...</td>\n",
       "      <td>...</td>\n",
       "      <td>...</td>\n",
       "    </tr>\n",
       "    <tr>\n",
       "      <th>13932</th>\n",
       "      <td>NCB55</td>\n",
       "      <td>15.700</td>\n",
       "      <td>Low Fat</td>\n",
       "      <td>0.159885</td>\n",
       "      <td>Household</td>\n",
       "      <td>59.2562</td>\n",
       "      <td>OUT027</td>\n",
       "      <td>1985</td>\n",
       "      <td>Medium</td>\n",
       "      <td>Tier 3</td>\n",
       "      <td>Supermarket Type3</td>\n",
       "      <td>NaN</td>\n",
       "    </tr>\n",
       "    <tr>\n",
       "      <th>13948</th>\n",
       "      <td>FDT44</td>\n",
       "      <td>16.600</td>\n",
       "      <td>Low Fat</td>\n",
       "      <td>0.102488</td>\n",
       "      <td>Fruits and Vegetables</td>\n",
       "      <td>117.1466</td>\n",
       "      <td>OUT027</td>\n",
       "      <td>1985</td>\n",
       "      <td>Medium</td>\n",
       "      <td>Tier 3</td>\n",
       "      <td>Supermarket Type3</td>\n",
       "      <td>NaN</td>\n",
       "    </tr>\n",
       "    <tr>\n",
       "      <th>13954</th>\n",
       "      <td>DRF37</td>\n",
       "      <td>17.250</td>\n",
       "      <td>Low Fat</td>\n",
       "      <td>0.083924</td>\n",
       "      <td>Soft Drinks</td>\n",
       "      <td>261.3910</td>\n",
       "      <td>OUT027</td>\n",
       "      <td>1985</td>\n",
       "      <td>Medium</td>\n",
       "      <td>Tier 3</td>\n",
       "      <td>Supermarket Type3</td>\n",
       "      <td>NaN</td>\n",
       "    </tr>\n",
       "    <tr>\n",
       "      <th>13957</th>\n",
       "      <td>FDZ27</td>\n",
       "      <td>7.935</td>\n",
       "      <td>Low Fat</td>\n",
       "      <td>0.017073</td>\n",
       "      <td>Dairy</td>\n",
       "      <td>49.5350</td>\n",
       "      <td>OUT027</td>\n",
       "      <td>1985</td>\n",
       "      <td>Medium</td>\n",
       "      <td>Tier 3</td>\n",
       "      <td>Supermarket Type3</td>\n",
       "      <td>NaN</td>\n",
       "    </tr>\n",
       "    <tr>\n",
       "      <th>13964</th>\n",
       "      <td>FDJ52</td>\n",
       "      <td>7.145</td>\n",
       "      <td>Low Fat</td>\n",
       "      <td>0.017701</td>\n",
       "      <td>Frozen Foods</td>\n",
       "      <td>161.5578</td>\n",
       "      <td>OUT027</td>\n",
       "      <td>1985</td>\n",
       "      <td>Medium</td>\n",
       "      <td>Tier 3</td>\n",
       "      <td>Supermarket Type3</td>\n",
       "      <td>NaN</td>\n",
       "    </tr>\n",
       "    <tr>\n",
       "      <th>13977</th>\n",
       "      <td>FDV11</td>\n",
       "      <td>9.100</td>\n",
       "      <td>Regular</td>\n",
       "      <td>0.081272</td>\n",
       "      <td>Breads</td>\n",
       "      <td>176.3054</td>\n",
       "      <td>OUT027</td>\n",
       "      <td>1985</td>\n",
       "      <td>Medium</td>\n",
       "      <td>Tier 3</td>\n",
       "      <td>Supermarket Type3</td>\n",
       "      <td>NaN</td>\n",
       "    </tr>\n",
       "    <tr>\n",
       "      <th>13982</th>\n",
       "      <td>NCK19</td>\n",
       "      <td>9.800</td>\n",
       "      <td>Low Fat</td>\n",
       "      <td>0.090028</td>\n",
       "      <td>Others</td>\n",
       "      <td>192.5478</td>\n",
       "      <td>OUT027</td>\n",
       "      <td>1985</td>\n",
       "      <td>Medium</td>\n",
       "      <td>Tier 3</td>\n",
       "      <td>Supermarket Type3</td>\n",
       "      <td>NaN</td>\n",
       "    </tr>\n",
       "    <tr>\n",
       "      <th>13993</th>\n",
       "      <td>FDJ20</td>\n",
       "      <td>20.700</td>\n",
       "      <td>Regular</td>\n",
       "      <td>0.099690</td>\n",
       "      <td>Fruits and Vegetables</td>\n",
       "      <td>124.8388</td>\n",
       "      <td>OUT027</td>\n",
       "      <td>1985</td>\n",
       "      <td>Medium</td>\n",
       "      <td>Tier 3</td>\n",
       "      <td>Supermarket Type3</td>\n",
       "      <td>NaN</td>\n",
       "    </tr>\n",
       "    <tr>\n",
       "      <th>14008</th>\n",
       "      <td>FDH46</td>\n",
       "      <td>6.935</td>\n",
       "      <td>Regular</td>\n",
       "      <td>0.041082</td>\n",
       "      <td>Snack Foods</td>\n",
       "      <td>100.5332</td>\n",
       "      <td>OUT027</td>\n",
       "      <td>1985</td>\n",
       "      <td>Medium</td>\n",
       "      <td>Tier 3</td>\n",
       "      <td>Supermarket Type3</td>\n",
       "      <td>NaN</td>\n",
       "    </tr>\n",
       "    <tr>\n",
       "      <th>14040</th>\n",
       "      <td>DRO35</td>\n",
       "      <td>13.850</td>\n",
       "      <td>Low Fat</td>\n",
       "      <td>0.034403</td>\n",
       "      <td>Hard Drinks</td>\n",
       "      <td>117.7492</td>\n",
       "      <td>OUT027</td>\n",
       "      <td>1985</td>\n",
       "      <td>Medium</td>\n",
       "      <td>Tier 3</td>\n",
       "      <td>Supermarket Type3</td>\n",
       "      <td>NaN</td>\n",
       "    </tr>\n",
       "    <tr>\n",
       "      <th>14042</th>\n",
       "      <td>FDY43</td>\n",
       "      <td>14.850</td>\n",
       "      <td>Low Fat</td>\n",
       "      <td>0.000000</td>\n",
       "      <td>Fruits and Vegetables</td>\n",
       "      <td>169.2474</td>\n",
       "      <td>OUT027</td>\n",
       "      <td>1985</td>\n",
       "      <td>Medium</td>\n",
       "      <td>Tier 3</td>\n",
       "      <td>Supermarket Type3</td>\n",
       "      <td>NaN</td>\n",
       "    </tr>\n",
       "    <tr>\n",
       "      <th>14049</th>\n",
       "      <td>FDW33</td>\n",
       "      <td>9.395</td>\n",
       "      <td>Low Fat</td>\n",
       "      <td>0.098641</td>\n",
       "      <td>Snack Foods</td>\n",
       "      <td>104.7280</td>\n",
       "      <td>OUT027</td>\n",
       "      <td>1985</td>\n",
       "      <td>Medium</td>\n",
       "      <td>Tier 3</td>\n",
       "      <td>Supermarket Type3</td>\n",
       "      <td>NaN</td>\n",
       "    </tr>\n",
       "    <tr>\n",
       "      <th>14055</th>\n",
       "      <td>FDP44</td>\n",
       "      <td>16.500</td>\n",
       "      <td>Regular</td>\n",
       "      <td>0.079328</td>\n",
       "      <td>Fruits and Vegetables</td>\n",
       "      <td>102.7332</td>\n",
       "      <td>OUT027</td>\n",
       "      <td>1985</td>\n",
       "      <td>Medium</td>\n",
       "      <td>Tier 3</td>\n",
       "      <td>Supermarket Type3</td>\n",
       "      <td>NaN</td>\n",
       "    </tr>\n",
       "    <tr>\n",
       "      <th>14086</th>\n",
       "      <td>NCN05</td>\n",
       "      <td>8.235</td>\n",
       "      <td>Low Fat</td>\n",
       "      <td>0.014390</td>\n",
       "      <td>Health and Hygiene</td>\n",
       "      <td>184.7950</td>\n",
       "      <td>OUT027</td>\n",
       "      <td>1985</td>\n",
       "      <td>Medium</td>\n",
       "      <td>Tier 3</td>\n",
       "      <td>Supermarket Type3</td>\n",
       "      <td>NaN</td>\n",
       "    </tr>\n",
       "    <tr>\n",
       "      <th>14089</th>\n",
       "      <td>FDW47</td>\n",
       "      <td>15.000</td>\n",
       "      <td>Low Fat</td>\n",
       "      <td>0.046151</td>\n",
       "      <td>Breads</td>\n",
       "      <td>123.8414</td>\n",
       "      <td>OUT027</td>\n",
       "      <td>1985</td>\n",
       "      <td>Medium</td>\n",
       "      <td>Tier 3</td>\n",
       "      <td>Supermarket Type3</td>\n",
       "      <td>NaN</td>\n",
       "    </tr>\n",
       "    <tr>\n",
       "      <th>14090</th>\n",
       "      <td>FDT51</td>\n",
       "      <td>11.650</td>\n",
       "      <td>Regular</td>\n",
       "      <td>0.010866</td>\n",
       "      <td>Meat</td>\n",
       "      <td>111.4544</td>\n",
       "      <td>OUT027</td>\n",
       "      <td>1985</td>\n",
       "      <td>Medium</td>\n",
       "      <td>Tier 3</td>\n",
       "      <td>Supermarket Type3</td>\n",
       "      <td>NaN</td>\n",
       "    </tr>\n",
       "    <tr>\n",
       "      <th>14116</th>\n",
       "      <td>FDU22</td>\n",
       "      <td>12.350</td>\n",
       "      <td>Low Fat</td>\n",
       "      <td>0.092845</td>\n",
       "      <td>Snack Foods</td>\n",
       "      <td>116.8124</td>\n",
       "      <td>OUT027</td>\n",
       "      <td>1985</td>\n",
       "      <td>Medium</td>\n",
       "      <td>Tier 3</td>\n",
       "      <td>Supermarket Type3</td>\n",
       "      <td>NaN</td>\n",
       "    </tr>\n",
       "    <tr>\n",
       "      <th>14132</th>\n",
       "      <td>FDP28</td>\n",
       "      <td>13.650</td>\n",
       "      <td>Regular</td>\n",
       "      <td>0.080250</td>\n",
       "      <td>Frozen Foods</td>\n",
       "      <td>259.4936</td>\n",
       "      <td>OUT027</td>\n",
       "      <td>1985</td>\n",
       "      <td>Medium</td>\n",
       "      <td>Tier 3</td>\n",
       "      <td>Supermarket Type3</td>\n",
       "      <td>NaN</td>\n",
       "    </tr>\n",
       "    <tr>\n",
       "      <th>14138</th>\n",
       "      <td>FDF04</td>\n",
       "      <td>17.500</td>\n",
       "      <td>Low Fat</td>\n",
       "      <td>0.013571</td>\n",
       "      <td>Frozen Foods</td>\n",
       "      <td>258.5304</td>\n",
       "      <td>OUT027</td>\n",
       "      <td>1985</td>\n",
       "      <td>Medium</td>\n",
       "      <td>Tier 3</td>\n",
       "      <td>Supermarket Type3</td>\n",
       "      <td>NaN</td>\n",
       "    </tr>\n",
       "    <tr>\n",
       "      <th>14148</th>\n",
       "      <td>FDQ44</td>\n",
       "      <td>20.500</td>\n",
       "      <td>Low Fat</td>\n",
       "      <td>0.035965</td>\n",
       "      <td>Fruits and Vegetables</td>\n",
       "      <td>121.1756</td>\n",
       "      <td>OUT027</td>\n",
       "      <td>1985</td>\n",
       "      <td>Medium</td>\n",
       "      <td>Tier 3</td>\n",
       "      <td>Supermarket Type3</td>\n",
       "      <td>NaN</td>\n",
       "    </tr>\n",
       "    <tr>\n",
       "      <th>14149</th>\n",
       "      <td>FDL50</td>\n",
       "      <td>12.150</td>\n",
       "      <td>Regular</td>\n",
       "      <td>0.042108</td>\n",
       "      <td>Canned</td>\n",
       "      <td>125.5046</td>\n",
       "      <td>OUT027</td>\n",
       "      <td>1985</td>\n",
       "      <td>Medium</td>\n",
       "      <td>Tier 3</td>\n",
       "      <td>Supermarket Type3</td>\n",
       "      <td>NaN</td>\n",
       "    </tr>\n",
       "    <tr>\n",
       "      <th>14150</th>\n",
       "      <td>FDW57</td>\n",
       "      <td>8.310</td>\n",
       "      <td>Regular</td>\n",
       "      <td>0.115117</td>\n",
       "      <td>Snack Foods</td>\n",
       "      <td>178.6028</td>\n",
       "      <td>OUT027</td>\n",
       "      <td>1985</td>\n",
       "      <td>Medium</td>\n",
       "      <td>Tier 3</td>\n",
       "      <td>Supermarket Type3</td>\n",
       "      <td>NaN</td>\n",
       "    </tr>\n",
       "    <tr>\n",
       "      <th>14157</th>\n",
       "      <td>NCV42</td>\n",
       "      <td>6.260</td>\n",
       "      <td>Low Fat</td>\n",
       "      <td>0.031270</td>\n",
       "      <td>Household</td>\n",
       "      <td>110.1228</td>\n",
       "      <td>OUT027</td>\n",
       "      <td>1985</td>\n",
       "      <td>Medium</td>\n",
       "      <td>Tier 3</td>\n",
       "      <td>Supermarket Type3</td>\n",
       "      <td>NaN</td>\n",
       "    </tr>\n",
       "    <tr>\n",
       "      <th>14163</th>\n",
       "      <td>FDI60</td>\n",
       "      <td>7.220</td>\n",
       "      <td>Regular</td>\n",
       "      <td>0.038136</td>\n",
       "      <td>Baking Goods</td>\n",
       "      <td>62.8510</td>\n",
       "      <td>OUT027</td>\n",
       "      <td>1985</td>\n",
       "      <td>Medium</td>\n",
       "      <td>Tier 3</td>\n",
       "      <td>Supermarket Type3</td>\n",
       "      <td>NaN</td>\n",
       "    </tr>\n",
       "    <tr>\n",
       "      <th>14171</th>\n",
       "      <td>FDK26</td>\n",
       "      <td>5.460</td>\n",
       "      <td>Regular</td>\n",
       "      <td>0.000000</td>\n",
       "      <td>Canned</td>\n",
       "      <td>187.5240</td>\n",
       "      <td>OUT027</td>\n",
       "      <td>1985</td>\n",
       "      <td>Medium</td>\n",
       "      <td>Tier 3</td>\n",
       "      <td>Supermarket Type3</td>\n",
       "      <td>NaN</td>\n",
       "    </tr>\n",
       "    <tr>\n",
       "      <th>14178</th>\n",
       "      <td>FDX32</td>\n",
       "      <td>15.100</td>\n",
       "      <td>Regular</td>\n",
       "      <td>0.099375</td>\n",
       "      <td>Fruits and Vegetables</td>\n",
       "      <td>143.6786</td>\n",
       "      <td>OUT027</td>\n",
       "      <td>1985</td>\n",
       "      <td>Medium</td>\n",
       "      <td>Tier 3</td>\n",
       "      <td>Supermarket Type3</td>\n",
       "      <td>NaN</td>\n",
       "    </tr>\n",
       "    <tr>\n",
       "      <th>14179</th>\n",
       "      <td>FDC39</td>\n",
       "      <td>7.405</td>\n",
       "      <td>Low Fat</td>\n",
       "      <td>0.158425</td>\n",
       "      <td>Dairy</td>\n",
       "      <td>207.8296</td>\n",
       "      <td>OUT027</td>\n",
       "      <td>1985</td>\n",
       "      <td>Medium</td>\n",
       "      <td>Tier 3</td>\n",
       "      <td>Supermarket Type3</td>\n",
       "      <td>NaN</td>\n",
       "    </tr>\n",
       "    <tr>\n",
       "      <th>14184</th>\n",
       "      <td>DRG37</td>\n",
       "      <td>16.200</td>\n",
       "      <td>Low Fat</td>\n",
       "      <td>0.000000</td>\n",
       "      <td>Soft Drinks</td>\n",
       "      <td>155.7972</td>\n",
       "      <td>OUT027</td>\n",
       "      <td>1985</td>\n",
       "      <td>Medium</td>\n",
       "      <td>Tier 3</td>\n",
       "      <td>Supermarket Type3</td>\n",
       "      <td>NaN</td>\n",
       "    </tr>\n",
       "    <tr>\n",
       "      <th>14188</th>\n",
       "      <td>DRE03</td>\n",
       "      <td>19.600</td>\n",
       "      <td>Low Fat</td>\n",
       "      <td>0.024110</td>\n",
       "      <td>Dairy</td>\n",
       "      <td>46.0718</td>\n",
       "      <td>OUT027</td>\n",
       "      <td>1985</td>\n",
       "      <td>Medium</td>\n",
       "      <td>Tier 3</td>\n",
       "      <td>Supermarket Type3</td>\n",
       "      <td>NaN</td>\n",
       "    </tr>\n",
       "    <tr>\n",
       "      <th>14192</th>\n",
       "      <td>FDN31</td>\n",
       "      <td>11.500</td>\n",
       "      <td>Low Fat</td>\n",
       "      <td>0.072529</td>\n",
       "      <td>Fruits and Vegetables</td>\n",
       "      <td>188.0530</td>\n",
       "      <td>OUT027</td>\n",
       "      <td>1985</td>\n",
       "      <td>Medium</td>\n",
       "      <td>Tier 3</td>\n",
       "      <td>Supermarket Type3</td>\n",
       "      <td>NaN</td>\n",
       "    </tr>\n",
       "  </tbody>\n",
       "</table>\n",
       "<p>1559 rows × 12 columns</p>\n",
       "</div>"
      ],
      "text/plain": [
       "      Item_Identifier  Item_Weight Item_Fat_Content  Item_Visibility  \\\n",
       "7               FDP10       19.000          Low Fat         0.127470   \n",
       "18              DRI11        8.260          Low Fat         0.034238   \n",
       "21              FDW12        8.315          Regular         0.035400   \n",
       "36              FDV20       20.200          Regular         0.059512   \n",
       "38              FDX10        6.385          Regular         0.123111   \n",
       "39              FDB34       15.250          Low Fat         0.026481   \n",
       "62              FDF09        6.215          Low Fat         0.012090   \n",
       "64              FDY45       17.500          Low Fat         0.026016   \n",
       "84              FDR12       12.600          Regular         0.031382   \n",
       "87              FDQ49       20.200          Regular         0.039058   \n",
       "98              NCP18       12.150          Low Fat         0.028460   \n",
       "101             FDD10       20.600          Regular         0.045798   \n",
       "113             FDX34        6.195          Low Fat         0.071637   \n",
       "130             FDY25       12.000          Low Fat         0.033810   \n",
       "132             NCR53       12.150          Low Fat         0.144338   \n",
       "136             FDH35       18.250          Low Fat         0.059957   \n",
       "153             DRK12        9.500          Low Fat         0.041683   \n",
       "161             FDR07       21.350          Low Fat         0.077367   \n",
       "168             NCB30       14.600          Low Fat         0.025579   \n",
       "180             FDQ28       14.000          Regular         0.060134   \n",
       "184             FDT12        6.215          Regular         0.049381   \n",
       "194             NCX06       17.600          Low Fat         0.015611   \n",
       "198             FDE40       15.600          Regular         0.098664   \n",
       "199             FDX49        4.615          Regular         0.101339   \n",
       "203             FDI24       10.300          Low Fat         0.078362   \n",
       "229             FDX25       16.700          Low Fat         0.101562   \n",
       "230             NCX42        6.360          Low Fat         0.005950   \n",
       "231             FDG33        5.365          Regular         0.139561   \n",
       "235             DRM47        9.300          Low Fat         0.043574   \n",
       "238             FDX21        7.050          Low Fat         0.084555   \n",
       "...               ...          ...              ...              ...   \n",
       "13932           NCB55       15.700          Low Fat         0.159885   \n",
       "13948           FDT44       16.600          Low Fat         0.102488   \n",
       "13954           DRF37       17.250          Low Fat         0.083924   \n",
       "13957           FDZ27        7.935          Low Fat         0.017073   \n",
       "13964           FDJ52        7.145          Low Fat         0.017701   \n",
       "13977           FDV11        9.100          Regular         0.081272   \n",
       "13982           NCK19        9.800          Low Fat         0.090028   \n",
       "13993           FDJ20       20.700          Regular         0.099690   \n",
       "14008           FDH46        6.935          Regular         0.041082   \n",
       "14040           DRO35       13.850          Low Fat         0.034403   \n",
       "14042           FDY43       14.850          Low Fat         0.000000   \n",
       "14049           FDW33        9.395          Low Fat         0.098641   \n",
       "14055           FDP44       16.500          Regular         0.079328   \n",
       "14086           NCN05        8.235          Low Fat         0.014390   \n",
       "14089           FDW47       15.000          Low Fat         0.046151   \n",
       "14090           FDT51       11.650          Regular         0.010866   \n",
       "14116           FDU22       12.350          Low Fat         0.092845   \n",
       "14132           FDP28       13.650          Regular         0.080250   \n",
       "14138           FDF04       17.500          Low Fat         0.013571   \n",
       "14148           FDQ44       20.500          Low Fat         0.035965   \n",
       "14149           FDL50       12.150          Regular         0.042108   \n",
       "14150           FDW57        8.310          Regular         0.115117   \n",
       "14157           NCV42        6.260          Low Fat         0.031270   \n",
       "14163           FDI60        7.220          Regular         0.038136   \n",
       "14171           FDK26        5.460          Regular         0.000000   \n",
       "14178           FDX32       15.100          Regular         0.099375   \n",
       "14179           FDC39        7.405          Low Fat         0.158425   \n",
       "14184           DRG37       16.200          Low Fat         0.000000   \n",
       "14188           DRE03       19.600          Low Fat         0.024110   \n",
       "14192           FDN31       11.500          Low Fat         0.072529   \n",
       "\n",
       "                   Item_Type  Item_MRP Outlet_Identifier  \\\n",
       "7                Snack Foods  107.7622            OUT027   \n",
       "18               Hard Drinks  113.2834            OUT027   \n",
       "21              Baking Goods  144.5444            OUT027   \n",
       "36     Fruits and Vegetables  128.0678            OUT027   \n",
       "38               Snack Foods   36.9874            OUT027   \n",
       "39               Snack Foods   87.6198            OUT027   \n",
       "62     Fruits and Vegetables   38.2848            OUT027   \n",
       "64               Snack Foods  255.8356            OUT027   \n",
       "84              Baking Goods  171.3764            OUT027   \n",
       "87                 Breakfast  155.9630            OUT027   \n",
       "98                 Household  149.9708            OUT027   \n",
       "101              Snack Foods  178.5344            OUT027   \n",
       "113              Snack Foods  121.7098            OUT027   \n",
       "130                   Canned  180.5976            OUT027   \n",
       "132       Health and Hygiene  224.4404            OUT027   \n",
       "136            Starchy Foods  165.4526            OUT027   \n",
       "153              Soft Drinks   31.2900            OUT027   \n",
       "161    Fruits and Vegetables   97.0094            OUT027   \n",
       "168                Household  198.8084            OUT027   \n",
       "180             Frozen Foods  153.0656            OUT027   \n",
       "184             Baking Goods  226.8062            OUT027   \n",
       "194                Household  182.5976            OUT027   \n",
       "198                    Dairy   62.9194            OUT027   \n",
       "199                   Canned  232.6300            OUT027   \n",
       "203             Baking Goods  177.9370            OUT027   \n",
       "229                   Canned  181.9292            OUT027   \n",
       "230                Household  165.6526            OUT027   \n",
       "231                  Seafood  170.4764            OUT027   \n",
       "235              Hard Drinks  192.8846            OUT027   \n",
       "238              Snack Foods  109.8912            OUT027   \n",
       "...                      ...       ...               ...   \n",
       "13932              Household   59.2562            OUT027   \n",
       "13948  Fruits and Vegetables  117.1466            OUT027   \n",
       "13954            Soft Drinks  261.3910            OUT027   \n",
       "13957                  Dairy   49.5350            OUT027   \n",
       "13964           Frozen Foods  161.5578            OUT027   \n",
       "13977                 Breads  176.3054            OUT027   \n",
       "13982                 Others  192.5478            OUT027   \n",
       "13993  Fruits and Vegetables  124.8388            OUT027   \n",
       "14008            Snack Foods  100.5332            OUT027   \n",
       "14040            Hard Drinks  117.7492            OUT027   \n",
       "14042  Fruits and Vegetables  169.2474            OUT027   \n",
       "14049            Snack Foods  104.7280            OUT027   \n",
       "14055  Fruits and Vegetables  102.7332            OUT027   \n",
       "14086     Health and Hygiene  184.7950            OUT027   \n",
       "14089                 Breads  123.8414            OUT027   \n",
       "14090                   Meat  111.4544            OUT027   \n",
       "14116            Snack Foods  116.8124            OUT027   \n",
       "14132           Frozen Foods  259.4936            OUT027   \n",
       "14138           Frozen Foods  258.5304            OUT027   \n",
       "14148  Fruits and Vegetables  121.1756            OUT027   \n",
       "14149                 Canned  125.5046            OUT027   \n",
       "14150            Snack Foods  178.6028            OUT027   \n",
       "14157              Household  110.1228            OUT027   \n",
       "14163           Baking Goods   62.8510            OUT027   \n",
       "14171                 Canned  187.5240            OUT027   \n",
       "14178  Fruits and Vegetables  143.6786            OUT027   \n",
       "14179                  Dairy  207.8296            OUT027   \n",
       "14184            Soft Drinks  155.7972            OUT027   \n",
       "14188                  Dairy   46.0718            OUT027   \n",
       "14192  Fruits and Vegetables  188.0530            OUT027   \n",
       "\n",
       "       Outlet_Establishment_Year Outlet_Size Outlet_Location_Type  \\\n",
       "7                           1985      Medium               Tier 3   \n",
       "18                          1985      Medium               Tier 3   \n",
       "21                          1985      Medium               Tier 3   \n",
       "36                          1985      Medium               Tier 3   \n",
       "38                          1985      Medium               Tier 3   \n",
       "39                          1985      Medium               Tier 3   \n",
       "62                          1985      Medium               Tier 3   \n",
       "64                          1985      Medium               Tier 3   \n",
       "84                          1985      Medium               Tier 3   \n",
       "87                          1985      Medium               Tier 3   \n",
       "98                          1985      Medium               Tier 3   \n",
       "101                         1985      Medium               Tier 3   \n",
       "113                         1985      Medium               Tier 3   \n",
       "130                         1985      Medium               Tier 3   \n",
       "132                         1985      Medium               Tier 3   \n",
       "136                         1985      Medium               Tier 3   \n",
       "153                         1985      Medium               Tier 3   \n",
       "161                         1985      Medium               Tier 3   \n",
       "168                         1985      Medium               Tier 3   \n",
       "180                         1985      Medium               Tier 3   \n",
       "184                         1985      Medium               Tier 3   \n",
       "194                         1985      Medium               Tier 3   \n",
       "198                         1985      Medium               Tier 3   \n",
       "199                         1985      Medium               Tier 3   \n",
       "203                         1985      Medium               Tier 3   \n",
       "229                         1985      Medium               Tier 3   \n",
       "230                         1985      Medium               Tier 3   \n",
       "231                         1985      Medium               Tier 3   \n",
       "235                         1985      Medium               Tier 3   \n",
       "238                         1985      Medium               Tier 3   \n",
       "...                          ...         ...                  ...   \n",
       "13932                       1985      Medium               Tier 3   \n",
       "13948                       1985      Medium               Tier 3   \n",
       "13954                       1985      Medium               Tier 3   \n",
       "13957                       1985      Medium               Tier 3   \n",
       "13964                       1985      Medium               Tier 3   \n",
       "13977                       1985      Medium               Tier 3   \n",
       "13982                       1985      Medium               Tier 3   \n",
       "13993                       1985      Medium               Tier 3   \n",
       "14008                       1985      Medium               Tier 3   \n",
       "14040                       1985      Medium               Tier 3   \n",
       "14042                       1985      Medium               Tier 3   \n",
       "14049                       1985      Medium               Tier 3   \n",
       "14055                       1985      Medium               Tier 3   \n",
       "14086                       1985      Medium               Tier 3   \n",
       "14089                       1985      Medium               Tier 3   \n",
       "14090                       1985      Medium               Tier 3   \n",
       "14116                       1985      Medium               Tier 3   \n",
       "14132                       1985      Medium               Tier 3   \n",
       "14138                       1985      Medium               Tier 3   \n",
       "14148                       1985      Medium               Tier 3   \n",
       "14149                       1985      Medium               Tier 3   \n",
       "14150                       1985      Medium               Tier 3   \n",
       "14157                       1985      Medium               Tier 3   \n",
       "14163                       1985      Medium               Tier 3   \n",
       "14171                       1985      Medium               Tier 3   \n",
       "14178                       1985      Medium               Tier 3   \n",
       "14179                       1985      Medium               Tier 3   \n",
       "14184                       1985      Medium               Tier 3   \n",
       "14188                       1985      Medium               Tier 3   \n",
       "14192                       1985      Medium               Tier 3   \n",
       "\n",
       "             Outlet_Type  Item_Outlet_Sales  \n",
       "7      Supermarket Type3          4022.7636  \n",
       "18     Supermarket Type3          2303.6680  \n",
       "21     Supermarket Type3          4064.0432  \n",
       "36     Supermarket Type3          2797.6916  \n",
       "38     Supermarket Type3           388.1614  \n",
       "39     Supermarket Type3          2180.4950  \n",
       "62     Supermarket Type3           484.7024  \n",
       "64     Supermarket Type3          2543.3560  \n",
       "84     Supermarket Type3          3091.9752  \n",
       "87     Supermarket Type3          3285.7230  \n",
       "98     Supermarket Type3          4363.6532  \n",
       "101    Supermarket Type3          2854.9504  \n",
       "113    Supermarket Type3          4097.3332  \n",
       "130    Supermarket Type3          7968.2944  \n",
       "132    Supermarket Type3          6976.2524  \n",
       "136    Supermarket Type3          5262.4832  \n",
       "153    Supermarket Type3           898.8300  \n",
       "161    Supermarket Type3          1808.9786  \n",
       "168    Supermarket Type3          5555.4352  \n",
       "180    Supermarket Type3          6024.1584  \n",
       "184    Supermarket Type3          4739.8302  \n",
       "194    Supermarket Type3          5070.7328  \n",
       "198    Supermarket Type3          2105.2596  \n",
       "199    Supermarket Type3          5359.6900  \n",
       "203    Supermarket Type3          6704.6060  \n",
       "229    Supermarket Type3          3101.2964  \n",
       "230    Supermarket Type3          4769.1254  \n",
       "231    Supermarket Type3          3435.5280  \n",
       "235    Supermarket Type3          2293.0152  \n",
       "238    Supermarket Type3          2074.6328  \n",
       "...                  ...                ...  \n",
       "13932  Supermarket Type3                NaN  \n",
       "13948  Supermarket Type3                NaN  \n",
       "13954  Supermarket Type3                NaN  \n",
       "13957  Supermarket Type3                NaN  \n",
       "13964  Supermarket Type3                NaN  \n",
       "13977  Supermarket Type3                NaN  \n",
       "13982  Supermarket Type3                NaN  \n",
       "13993  Supermarket Type3                NaN  \n",
       "14008  Supermarket Type3                NaN  \n",
       "14040  Supermarket Type3                NaN  \n",
       "14042  Supermarket Type3                NaN  \n",
       "14049  Supermarket Type3                NaN  \n",
       "14055  Supermarket Type3                NaN  \n",
       "14086  Supermarket Type3                NaN  \n",
       "14089  Supermarket Type3                NaN  \n",
       "14090  Supermarket Type3                NaN  \n",
       "14116  Supermarket Type3                NaN  \n",
       "14132  Supermarket Type3                NaN  \n",
       "14138  Supermarket Type3                NaN  \n",
       "14148  Supermarket Type3                NaN  \n",
       "14149  Supermarket Type3                NaN  \n",
       "14150  Supermarket Type3                NaN  \n",
       "14157  Supermarket Type3                NaN  \n",
       "14163  Supermarket Type3                NaN  \n",
       "14171  Supermarket Type3                NaN  \n",
       "14178  Supermarket Type3                NaN  \n",
       "14179  Supermarket Type3                NaN  \n",
       "14184  Supermarket Type3                NaN  \n",
       "14188  Supermarket Type3                NaN  \n",
       "14192  Supermarket Type3                NaN  \n",
       "\n",
       "[1559 rows x 12 columns]"
      ]
     },
     "execution_count": 52,
     "metadata": {},
     "output_type": "execute_result"
    }
   ],
   "source": [
    "data[(data['Outlet_Type']=='Supermarket Type3')&(data['Outlet_Location_Type']=='Tier 3')]"
   ]
  },
  {
   "cell_type": "code",
   "execution_count": 53,
   "metadata": {},
   "outputs": [],
   "source": [
    "#data[]"
   ]
  },
  {
   "cell_type": "code",
   "execution_count": 54,
   "metadata": {},
   "outputs": [],
   "source": [
    "data.loc[(data.Outlet_Location_Type=='Tier 3')&(data.Outlet_Type=='Grocery Store'),\"Outlet_Size\"]='Small'"
   ]
  },
  {
   "cell_type": "code",
   "execution_count": 55,
   "metadata": {},
   "outputs": [],
   "source": [
    "data.loc[(data['Outlet_Type']=='Supermarket Type1')&(data['Outlet_Location_Type']=='Tier 2'),\"Outlet_Size\"]='Small'"
   ]
  },
  {
   "cell_type": "code",
   "execution_count": 56,
   "metadata": {},
   "outputs": [
    {
     "data": {
      "text/html": [
       "<div>\n",
       "<style scoped>\n",
       "    .dataframe tbody tr th:only-of-type {\n",
       "        vertical-align: middle;\n",
       "    }\n",
       "\n",
       "    .dataframe tbody tr th {\n",
       "        vertical-align: top;\n",
       "    }\n",
       "\n",
       "    .dataframe thead th {\n",
       "        text-align: right;\n",
       "    }\n",
       "</style>\n",
       "<table border=\"1\" class=\"dataframe\">\n",
       "  <thead>\n",
       "    <tr style=\"text-align: right;\">\n",
       "      <th></th>\n",
       "      <th>Item_Identifier</th>\n",
       "      <th>Item_Weight</th>\n",
       "      <th>Item_Fat_Content</th>\n",
       "      <th>Item_Visibility</th>\n",
       "      <th>Item_Type</th>\n",
       "      <th>Item_MRP</th>\n",
       "      <th>Outlet_Identifier</th>\n",
       "      <th>Outlet_Establishment_Year</th>\n",
       "      <th>Outlet_Size</th>\n",
       "      <th>Outlet_Location_Type</th>\n",
       "      <th>Outlet_Type</th>\n",
       "      <th>Item_Outlet_Sales</th>\n",
       "    </tr>\n",
       "  </thead>\n",
       "  <tbody>\n",
       "  </tbody>\n",
       "</table>\n",
       "</div>"
      ],
      "text/plain": [
       "Empty DataFrame\n",
       "Columns: [Item_Identifier, Item_Weight, Item_Fat_Content, Item_Visibility, Item_Type, Item_MRP, Outlet_Identifier, Outlet_Establishment_Year, Outlet_Size, Outlet_Location_Type, Outlet_Type, Item_Outlet_Sales]\n",
       "Index: []"
      ]
     },
     "execution_count": 56,
     "metadata": {},
     "output_type": "execute_result"
    }
   ],
   "source": [
    "data[data['Outlet_Size'].isna()]"
   ]
  },
  {
   "cell_type": "code",
   "execution_count": 57,
   "metadata": {},
   "outputs": [
    {
     "data": {
      "text/plain": [
       "array(['Medium', 'Small', 'High'], dtype=object)"
      ]
     },
     "execution_count": 57,
     "metadata": {},
     "output_type": "execute_result"
    }
   ],
   "source": [
    "data.Outlet_Size.unique()"
   ]
  },
  {
   "cell_type": "code",
   "execution_count": 58,
   "metadata": {},
   "outputs": [
    {
     "data": {
      "text/plain": [
       "Item_Identifier                 0\n",
       "Item_Weight                     0\n",
       "Item_Fat_Content                0\n",
       "Item_Visibility                 0\n",
       "Item_Type                       0\n",
       "Item_MRP                        0\n",
       "Outlet_Identifier               0\n",
       "Outlet_Establishment_Year       0\n",
       "Outlet_Size                     0\n",
       "Outlet_Location_Type            0\n",
       "Outlet_Type                     0\n",
       "Item_Outlet_Sales            5681\n",
       "dtype: int64"
      ]
     },
     "execution_count": 58,
     "metadata": {},
     "output_type": "execute_result"
    }
   ],
   "source": [
    "data.isnull().sum()"
   ]
  },
  {
   "cell_type": "code",
   "execution_count": 59,
   "metadata": {},
   "outputs": [],
   "source": [
    "idlist = []\n",
    "for i in data.Item_Identifier:\n",
    "    idlist.append(str(i)[:2])\n",
    "    \n",
    "# combined.Item_Identifier.str[:3]"
   ]
  },
  {
   "cell_type": "code",
   "execution_count": 60,
   "metadata": {},
   "outputs": [],
   "source": [
    "data[\"Item_Id\"] = pd.Series(idlist)"
   ]
  },
  {
   "cell_type": "code",
   "execution_count": 61,
   "metadata": {},
   "outputs": [
    {
     "data": {
      "text/plain": [
       "array(['FD', 'DR', 'NC'], dtype=object)"
      ]
     },
     "execution_count": 61,
     "metadata": {},
     "output_type": "execute_result"
    }
   ],
   "source": [
    "data.Item_Id.unique()"
   ]
  },
  {
   "cell_type": "code",
   "execution_count": 62,
   "metadata": {},
   "outputs": [
    {
     "data": {
      "text/plain": [
       "628"
      ]
     },
     "execution_count": 62,
     "metadata": {},
     "output_type": "execute_result"
    }
   ],
   "source": [
    "data.Item_Weight.nunique()"
   ]
  },
  {
   "cell_type": "code",
   "execution_count": 63,
   "metadata": {},
   "outputs": [
    {
     "data": {
      "text/plain": [
       "'def weight_id(x):\\n    if(x<=6):\\n        return(\"4-6\")\\n    elif((x<=10) and (x>6)):\\n        return(\"10-6\")\\n    elif((x<=13) and (x>10)):\\n        return(\"13-10\")\\n    elif((x<=15.5) and (x>13)):\\n        return(\"15.5-13\")\\n    elif((x<=17.5) and (x>15.5)):\\n        return(\"17.5-15.5\")\\n    elif((x<=20.5) and (x>17.5)):\\n        return(\"20.5-17.5\")\\n    else:\\n        return(\"20.5-22\")'"
      ]
     },
     "execution_count": 63,
     "metadata": {},
     "output_type": "execute_result"
    }
   ],
   "source": [
    "'''def weight_id(x):\n",
    "    if(x<=6):\n",
    "        return(\"4-6\")\n",
    "    elif((x<=10) and (x>6)):\n",
    "        return(\"10-6\")\n",
    "    elif((x<=13) and (x>10)):\n",
    "        return(\"13-10\")\n",
    "    elif((x<=15.5) and (x>13)):\n",
    "        return(\"15.5-13\")\n",
    "    elif((x<=17.5) and (x>15.5)):\n",
    "        return(\"17.5-15.5\")\n",
    "    elif((x<=20.5) and (x>17.5)):\n",
    "        return(\"20.5-17.5\")\n",
    "    else:\n",
    "        return(\"20.5-22\")'''"
   ]
  },
  {
   "cell_type": "code",
   "execution_count": 64,
   "metadata": {},
   "outputs": [],
   "source": [
    "#data['Weight_ID'] = data.Item_Weight.apply(weight_id)"
   ]
  },
  {
   "cell_type": "code",
   "execution_count": 65,
   "metadata": {},
   "outputs": [],
   "source": [
    "#data.groupby('Item_Id')['Weight_ID'].value_counts()"
   ]
  },
  {
   "cell_type": "code",
   "execution_count": 66,
   "metadata": {},
   "outputs": [
    {
     "data": {
      "text/plain": [
       "Item_Identifier                 0\n",
       "Item_Weight                     0\n",
       "Item_Fat_Content                0\n",
       "Item_Visibility                 0\n",
       "Item_Type                       0\n",
       "Item_MRP                        0\n",
       "Outlet_Identifier               0\n",
       "Outlet_Establishment_Year       0\n",
       "Outlet_Size                     0\n",
       "Outlet_Location_Type            0\n",
       "Outlet_Type                     0\n",
       "Item_Outlet_Sales            5681\n",
       "Item_Id                         0\n",
       "dtype: int64"
      ]
     },
     "execution_count": 66,
     "metadata": {},
     "output_type": "execute_result"
    }
   ],
   "source": [
    "data.isnull().sum()"
   ]
  },
  {
   "cell_type": "code",
   "execution_count": 67,
   "metadata": {},
   "outputs": [],
   "source": [
    "#data.columns"
   ]
  },
  {
   "cell_type": "code",
   "execution_count": 68,
   "metadata": {},
   "outputs": [],
   "source": [
    "#data['Outlet_Establishment_Year'].value_counts()"
   ]
  },
  {
   "cell_type": "code",
   "execution_count": 69,
   "metadata": {},
   "outputs": [],
   "source": [
    "#train['Outlet_Establishment_Year'].dtype"
   ]
  },
  {
   "cell_type": "code",
   "execution_count": 70,
   "metadata": {},
   "outputs": [
    {
     "data": {
      "text/plain": [
       "'def Year_Group(x):\\n    if((x>=1980) and (x<1990)):\\n        return(\"1980 decade\")\\n    elif((x>=1990) and (x<2000)):\\n        return(\"1990 decade\")\\n    elif((x>=2000) and (x<2010)):\\n        return(\"2000 decade\")\\n    else:\\n        return(\"Recent store\")\\n    '"
      ]
     },
     "execution_count": 70,
     "metadata": {},
     "output_type": "execute_result"
    }
   ],
   "source": [
    "'''def Year_Group(x):\n",
    "    if((x>=1980) and (x<1990)):\n",
    "        return(\"1980 decade\")\n",
    "    elif((x>=1990) and (x<2000)):\n",
    "        return(\"1990 decade\")\n",
    "    elif((x>=2000) and (x<2010)):\n",
    "        return(\"2000 decade\")\n",
    "    else:\n",
    "        return(\"Recent store\")\n",
    "    '''"
   ]
  },
  {
   "cell_type": "code",
   "execution_count": 71,
   "metadata": {},
   "outputs": [],
   "source": [
    "#data['Year_Group'] = data.Outlet_Establishment_Year.apply(Year_Group)"
   ]
  },
  {
   "cell_type": "code",
   "execution_count": 72,
   "metadata": {},
   "outputs": [],
   "source": [
    "data.Outlet_Establishment_Year=data.Outlet_Establishment_Year.astype('object')"
   ]
  },
  {
   "cell_type": "code",
   "execution_count": 73,
   "metadata": {},
   "outputs": [
    {
     "data": {
      "text/plain": [
       "Item_Identifier                 0\n",
       "Item_Weight                     0\n",
       "Item_Fat_Content                0\n",
       "Item_Visibility                 0\n",
       "Item_Type                       0\n",
       "Item_MRP                        0\n",
       "Outlet_Identifier               0\n",
       "Outlet_Establishment_Year       0\n",
       "Outlet_Size                     0\n",
       "Outlet_Location_Type            0\n",
       "Outlet_Type                     0\n",
       "Item_Outlet_Sales            5681\n",
       "Item_Id                         0\n",
       "dtype: int64"
      ]
     },
     "execution_count": 73,
     "metadata": {},
     "output_type": "execute_result"
    }
   ],
   "source": [
    "data.isnull().sum()"
   ]
  },
  {
   "cell_type": "code",
   "execution_count": 74,
   "metadata": {},
   "outputs": [],
   "source": [
    "#------------------------"
   ]
  },
  {
   "cell_type": "code",
   "execution_count": 75,
   "metadata": {},
   "outputs": [
    {
     "name": "stdout",
     "output_type": "stream",
     "text": [
      "<class 'pandas.core.frame.DataFrame'>\n",
      "RangeIndex: 14204 entries, 0 to 14203\n",
      "Data columns (total 13 columns):\n",
      "Item_Identifier              14204 non-null object\n",
      "Item_Weight                  14204 non-null float64\n",
      "Item_Fat_Content             14204 non-null object\n",
      "Item_Visibility              14204 non-null float64\n",
      "Item_Type                    14204 non-null object\n",
      "Item_MRP                     14204 non-null float64\n",
      "Outlet_Identifier            14204 non-null object\n",
      "Outlet_Establishment_Year    14204 non-null object\n",
      "Outlet_Size                  14204 non-null object\n",
      "Outlet_Location_Type         14204 non-null object\n",
      "Outlet_Type                  14204 non-null object\n",
      "Item_Outlet_Sales            8523 non-null float64\n",
      "Item_Id                      14204 non-null object\n",
      "dtypes: float64(4), object(9)\n",
      "memory usage: 1.4+ MB\n"
     ]
    }
   ],
   "source": [
    "data.info()"
   ]
  },
  {
   "cell_type": "code",
   "execution_count": 76,
   "metadata": {},
   "outputs": [],
   "source": [
    "traindata = data.loc[0:8522]\n",
    "testdata = data.loc[8523:]"
   ]
  },
  {
   "cell_type": "code",
   "execution_count": 77,
   "metadata": {},
   "outputs": [
    {
     "data": {
      "text/plain": [
       "(8523, 13)"
      ]
     },
     "execution_count": 77,
     "metadata": {},
     "output_type": "execute_result"
    }
   ],
   "source": [
    "traindata.shape"
   ]
  },
  {
   "cell_type": "code",
   "execution_count": 78,
   "metadata": {},
   "outputs": [
    {
     "data": {
      "text/plain": [
       "(5681, 13)"
      ]
     },
     "execution_count": 78,
     "metadata": {},
     "output_type": "execute_result"
    }
   ],
   "source": [
    "testdata.shape"
   ]
  },
  {
   "cell_type": "code",
   "execution_count": 79,
   "metadata": {},
   "outputs": [
    {
     "name": "stderr",
     "output_type": "stream",
     "text": [
      "C:\\Users\\Navika\\Anaconda3\\lib\\site-packages\\pandas\\core\\frame.py:3940: SettingWithCopyWarning: \n",
      "A value is trying to be set on a copy of a slice from a DataFrame\n",
      "\n",
      "See the caveats in the documentation: http://pandas.pydata.org/pandas-docs/stable/indexing.html#indexing-view-versus-copy\n",
      "  errors=errors)\n"
     ]
    }
   ],
   "source": [
    "traindata.drop(['Item_Identifier','Item_Visibility','Item_Weight',],axis=1,inplace=True)"
   ]
  },
  {
   "cell_type": "code",
   "execution_count": 80,
   "metadata": {},
   "outputs": [],
   "source": [
    "testdata.drop(['Item_Identifier','Item_Outlet_Sales','Item_Visibility','Item_Weight'],axis=1,inplace=True)"
   ]
  },
  {
   "cell_type": "code",
   "execution_count": 81,
   "metadata": {},
   "outputs": [],
   "source": [
    "traindummy = pd.get_dummies(traindata)"
   ]
  },
  {
   "cell_type": "code",
   "execution_count": 82,
   "metadata": {},
   "outputs": [],
   "source": [
    "testdummy = pd.get_dummies(testdata)"
   ]
  },
  {
   "cell_type": "code",
   "execution_count": 83,
   "metadata": {},
   "outputs": [],
   "source": [
    "traindummy = traindummy.transform(lambda x: x**0.5)"
   ]
  },
  {
   "cell_type": "code",
   "execution_count": 84,
   "metadata": {},
   "outputs": [],
   "source": [
    "testdummy = testdummy.transform(lambda x: x**0.5)"
   ]
  },
  {
   "cell_type": "code",
   "execution_count": 85,
   "metadata": {},
   "outputs": [
    {
     "data": {
      "text/plain": [
       "(8523, 52)"
      ]
     },
     "execution_count": 85,
     "metadata": {},
     "output_type": "execute_result"
    }
   ],
   "source": [
    "traindummy.shape"
   ]
  },
  {
   "cell_type": "code",
   "execution_count": 86,
   "metadata": {},
   "outputs": [
    {
     "data": {
      "text/plain": [
       "(5681, 51)"
      ]
     },
     "execution_count": 86,
     "metadata": {},
     "output_type": "execute_result"
    }
   ],
   "source": [
    "testdummy.shape"
   ]
  },
  {
   "cell_type": "code",
   "execution_count": 87,
   "metadata": {},
   "outputs": [
    {
     "name": "stdout",
     "output_type": "stream",
     "text": [
      "Item_Outlet_Sales\n"
     ]
    }
   ],
   "source": [
    "for x in traindummy.columns:\n",
    "    if(x not in testdummy.columns):\n",
    "        print(x)"
   ]
  },
  {
   "cell_type": "code",
   "execution_count": 88,
   "metadata": {},
   "outputs": [],
   "source": [
    "#Upper_limit = 3101.296400 + 1.5 * (3101.296400-834.247400)"
   ]
  },
  {
   "cell_type": "code",
   "execution_count": 89,
   "metadata": {},
   "outputs": [],
   "source": [
    "#Upper_limit"
   ]
  },
  {
   "cell_type": "code",
   "execution_count": 90,
   "metadata": {},
   "outputs": [],
   "source": [
    "#newtrain = newtrain[newtrain['Item_Outlet_Sales']<=Upper_limit]"
   ]
  },
  {
   "cell_type": "code",
   "execution_count": null,
   "metadata": {},
   "outputs": [],
   "source": []
  },
  {
   "cell_type": "code",
   "execution_count": 91,
   "metadata": {},
   "outputs": [
    {
     "name": "stdout",
     "output_type": "stream",
     "text": [
      "<class 'pandas.core.frame.DataFrame'>\n",
      "RangeIndex: 8523 entries, 0 to 8522\n",
      "Data columns (total 52 columns):\n",
      "Item_MRP                           8523 non-null float64\n",
      "Item_Outlet_Sales                  8523 non-null float64\n",
      "Item_Fat_Content_Low Fat           8523 non-null float64\n",
      "Item_Fat_Content_Regular           8523 non-null float64\n",
      "Item_Type_Baking Goods             8523 non-null float64\n",
      "Item_Type_Breads                   8523 non-null float64\n",
      "Item_Type_Breakfast                8523 non-null float64\n",
      "Item_Type_Canned                   8523 non-null float64\n",
      "Item_Type_Dairy                    8523 non-null float64\n",
      "Item_Type_Frozen Foods             8523 non-null float64\n",
      "Item_Type_Fruits and Vegetables    8523 non-null float64\n",
      "Item_Type_Hard Drinks              8523 non-null float64\n",
      "Item_Type_Health and Hygiene       8523 non-null float64\n",
      "Item_Type_Household                8523 non-null float64\n",
      "Item_Type_Meat                     8523 non-null float64\n",
      "Item_Type_Others                   8523 non-null float64\n",
      "Item_Type_Seafood                  8523 non-null float64\n",
      "Item_Type_Snack Foods              8523 non-null float64\n",
      "Item_Type_Soft Drinks              8523 non-null float64\n",
      "Item_Type_Starchy Foods            8523 non-null float64\n",
      "Outlet_Identifier_OUT010           8523 non-null float64\n",
      "Outlet_Identifier_OUT013           8523 non-null float64\n",
      "Outlet_Identifier_OUT017           8523 non-null float64\n",
      "Outlet_Identifier_OUT018           8523 non-null float64\n",
      "Outlet_Identifier_OUT019           8523 non-null float64\n",
      "Outlet_Identifier_OUT027           8523 non-null float64\n",
      "Outlet_Identifier_OUT035           8523 non-null float64\n",
      "Outlet_Identifier_OUT045           8523 non-null float64\n",
      "Outlet_Identifier_OUT046           8523 non-null float64\n",
      "Outlet_Identifier_OUT049           8523 non-null float64\n",
      "Outlet_Establishment_Year_1985     8523 non-null float64\n",
      "Outlet_Establishment_Year_1987     8523 non-null float64\n",
      "Outlet_Establishment_Year_1997     8523 non-null float64\n",
      "Outlet_Establishment_Year_1998     8523 non-null float64\n",
      "Outlet_Establishment_Year_1999     8523 non-null float64\n",
      "Outlet_Establishment_Year_2002     8523 non-null float64\n",
      "Outlet_Establishment_Year_2004     8523 non-null float64\n",
      "Outlet_Establishment_Year_2007     8523 non-null float64\n",
      "Outlet_Establishment_Year_2009     8523 non-null float64\n",
      "Outlet_Size_High                   8523 non-null float64\n",
      "Outlet_Size_Medium                 8523 non-null float64\n",
      "Outlet_Size_Small                  8523 non-null float64\n",
      "Outlet_Location_Type_Tier 1        8523 non-null float64\n",
      "Outlet_Location_Type_Tier 2        8523 non-null float64\n",
      "Outlet_Location_Type_Tier 3        8523 non-null float64\n",
      "Outlet_Type_Grocery Store          8523 non-null float64\n",
      "Outlet_Type_Supermarket Type1      8523 non-null float64\n",
      "Outlet_Type_Supermarket Type2      8523 non-null float64\n",
      "Outlet_Type_Supermarket Type3      8523 non-null float64\n",
      "Item_Id_DR                         8523 non-null float64\n",
      "Item_Id_FD                         8523 non-null float64\n",
      "Item_Id_NC                         8523 non-null float64\n",
      "dtypes: float64(52)\n",
      "memory usage: 3.4 MB\n"
     ]
    }
   ],
   "source": [
    "traindummy.info()"
   ]
  },
  {
   "cell_type": "code",
   "execution_count": 92,
   "metadata": {},
   "outputs": [
    {
     "data": {
      "text/plain": [
       "Index(['Item_MRP', 'Item_Outlet_Sales', 'Item_Fat_Content_Low Fat',\n",
       "       'Item_Fat_Content_Regular', 'Item_Type_Baking Goods',\n",
       "       'Item_Type_Breads', 'Item_Type_Breakfast', 'Item_Type_Canned',\n",
       "       'Item_Type_Dairy', 'Item_Type_Frozen Foods',\n",
       "       'Item_Type_Fruits and Vegetables', 'Item_Type_Hard Drinks',\n",
       "       'Item_Type_Health and Hygiene', 'Item_Type_Household', 'Item_Type_Meat',\n",
       "       'Item_Type_Others', 'Item_Type_Seafood', 'Item_Type_Snack Foods',\n",
       "       'Item_Type_Soft Drinks', 'Item_Type_Starchy Foods',\n",
       "       'Outlet_Identifier_OUT010', 'Outlet_Identifier_OUT013',\n",
       "       'Outlet_Identifier_OUT017', 'Outlet_Identifier_OUT018',\n",
       "       'Outlet_Identifier_OUT019', 'Outlet_Identifier_OUT027',\n",
       "       'Outlet_Identifier_OUT035', 'Outlet_Identifier_OUT045',\n",
       "       'Outlet_Identifier_OUT046', 'Outlet_Identifier_OUT049',\n",
       "       'Outlet_Establishment_Year_1985', 'Outlet_Establishment_Year_1987',\n",
       "       'Outlet_Establishment_Year_1997', 'Outlet_Establishment_Year_1998',\n",
       "       'Outlet_Establishment_Year_1999', 'Outlet_Establishment_Year_2002',\n",
       "       'Outlet_Establishment_Year_2004', 'Outlet_Establishment_Year_2007',\n",
       "       'Outlet_Establishment_Year_2009', 'Outlet_Size_High',\n",
       "       'Outlet_Size_Medium', 'Outlet_Size_Small',\n",
       "       'Outlet_Location_Type_Tier 1', 'Outlet_Location_Type_Tier 2',\n",
       "       'Outlet_Location_Type_Tier 3', 'Outlet_Type_Grocery Store',\n",
       "       'Outlet_Type_Supermarket Type1', 'Outlet_Type_Supermarket Type2',\n",
       "       'Outlet_Type_Supermarket Type3', 'Item_Id_DR', 'Item_Id_FD',\n",
       "       'Item_Id_NC'],\n",
       "      dtype='object')"
      ]
     },
     "execution_count": 92,
     "metadata": {},
     "output_type": "execute_result"
    }
   ],
   "source": [
    "traindummy.columns"
   ]
  },
  {
   "cell_type": "code",
   "execution_count": 93,
   "metadata": {},
   "outputs": [
    {
     "name": "stdout",
     "output_type": "stream",
     "text": [
      "<class 'pandas.core.frame.DataFrame'>\n",
      "RangeIndex: 5681 entries, 8523 to 14203\n",
      "Data columns (total 51 columns):\n",
      "Item_MRP                           5681 non-null float64\n",
      "Item_Fat_Content_Low Fat           5681 non-null float64\n",
      "Item_Fat_Content_Regular           5681 non-null float64\n",
      "Item_Type_Baking Goods             5681 non-null float64\n",
      "Item_Type_Breads                   5681 non-null float64\n",
      "Item_Type_Breakfast                5681 non-null float64\n",
      "Item_Type_Canned                   5681 non-null float64\n",
      "Item_Type_Dairy                    5681 non-null float64\n",
      "Item_Type_Frozen Foods             5681 non-null float64\n",
      "Item_Type_Fruits and Vegetables    5681 non-null float64\n",
      "Item_Type_Hard Drinks              5681 non-null float64\n",
      "Item_Type_Health and Hygiene       5681 non-null float64\n",
      "Item_Type_Household                5681 non-null float64\n",
      "Item_Type_Meat                     5681 non-null float64\n",
      "Item_Type_Others                   5681 non-null float64\n",
      "Item_Type_Seafood                  5681 non-null float64\n",
      "Item_Type_Snack Foods              5681 non-null float64\n",
      "Item_Type_Soft Drinks              5681 non-null float64\n",
      "Item_Type_Starchy Foods            5681 non-null float64\n",
      "Outlet_Identifier_OUT010           5681 non-null float64\n",
      "Outlet_Identifier_OUT013           5681 non-null float64\n",
      "Outlet_Identifier_OUT017           5681 non-null float64\n",
      "Outlet_Identifier_OUT018           5681 non-null float64\n",
      "Outlet_Identifier_OUT019           5681 non-null float64\n",
      "Outlet_Identifier_OUT027           5681 non-null float64\n",
      "Outlet_Identifier_OUT035           5681 non-null float64\n",
      "Outlet_Identifier_OUT045           5681 non-null float64\n",
      "Outlet_Identifier_OUT046           5681 non-null float64\n",
      "Outlet_Identifier_OUT049           5681 non-null float64\n",
      "Outlet_Establishment_Year_1985     5681 non-null float64\n",
      "Outlet_Establishment_Year_1987     5681 non-null float64\n",
      "Outlet_Establishment_Year_1997     5681 non-null float64\n",
      "Outlet_Establishment_Year_1998     5681 non-null float64\n",
      "Outlet_Establishment_Year_1999     5681 non-null float64\n",
      "Outlet_Establishment_Year_2002     5681 non-null float64\n",
      "Outlet_Establishment_Year_2004     5681 non-null float64\n",
      "Outlet_Establishment_Year_2007     5681 non-null float64\n",
      "Outlet_Establishment_Year_2009     5681 non-null float64\n",
      "Outlet_Size_High                   5681 non-null float64\n",
      "Outlet_Size_Medium                 5681 non-null float64\n",
      "Outlet_Size_Small                  5681 non-null float64\n",
      "Outlet_Location_Type_Tier 1        5681 non-null float64\n",
      "Outlet_Location_Type_Tier 2        5681 non-null float64\n",
      "Outlet_Location_Type_Tier 3        5681 non-null float64\n",
      "Outlet_Type_Grocery Store          5681 non-null float64\n",
      "Outlet_Type_Supermarket Type1      5681 non-null float64\n",
      "Outlet_Type_Supermarket Type2      5681 non-null float64\n",
      "Outlet_Type_Supermarket Type3      5681 non-null float64\n",
      "Item_Id_DR                         5681 non-null float64\n",
      "Item_Id_FD                         5681 non-null float64\n",
      "Item_Id_NC                         5681 non-null float64\n",
      "dtypes: float64(51)\n",
      "memory usage: 2.2 MB\n"
     ]
    }
   ],
   "source": [
    "testdummy.info()"
   ]
  },
  {
   "cell_type": "code",
   "execution_count": 94,
   "metadata": {},
   "outputs": [
    {
     "data": {
      "text/plain": [
       "Item_MRP                           0\n",
       "Item_Fat_Content_Low Fat           0\n",
       "Item_Fat_Content_Regular           0\n",
       "Item_Type_Baking Goods             0\n",
       "Item_Type_Breads                   0\n",
       "Item_Type_Breakfast                0\n",
       "Item_Type_Canned                   0\n",
       "Item_Type_Dairy                    0\n",
       "Item_Type_Frozen Foods             0\n",
       "Item_Type_Fruits and Vegetables    0\n",
       "Item_Type_Hard Drinks              0\n",
       "Item_Type_Health and Hygiene       0\n",
       "Item_Type_Household                0\n",
       "Item_Type_Meat                     0\n",
       "Item_Type_Others                   0\n",
       "Item_Type_Seafood                  0\n",
       "Item_Type_Snack Foods              0\n",
       "Item_Type_Soft Drinks              0\n",
       "Item_Type_Starchy Foods            0\n",
       "Outlet_Identifier_OUT010           0\n",
       "Outlet_Identifier_OUT013           0\n",
       "Outlet_Identifier_OUT017           0\n",
       "Outlet_Identifier_OUT018           0\n",
       "Outlet_Identifier_OUT019           0\n",
       "Outlet_Identifier_OUT027           0\n",
       "Outlet_Identifier_OUT035           0\n",
       "Outlet_Identifier_OUT045           0\n",
       "Outlet_Identifier_OUT046           0\n",
       "Outlet_Identifier_OUT049           0\n",
       "Outlet_Establishment_Year_1985     0\n",
       "Outlet_Establishment_Year_1987     0\n",
       "Outlet_Establishment_Year_1997     0\n",
       "Outlet_Establishment_Year_1998     0\n",
       "Outlet_Establishment_Year_1999     0\n",
       "Outlet_Establishment_Year_2002     0\n",
       "Outlet_Establishment_Year_2004     0\n",
       "Outlet_Establishment_Year_2007     0\n",
       "Outlet_Establishment_Year_2009     0\n",
       "Outlet_Size_High                   0\n",
       "Outlet_Size_Medium                 0\n",
       "Outlet_Size_Small                  0\n",
       "Outlet_Location_Type_Tier 1        0\n",
       "Outlet_Location_Type_Tier 2        0\n",
       "Outlet_Location_Type_Tier 3        0\n",
       "Outlet_Type_Grocery Store          0\n",
       "Outlet_Type_Supermarket Type1      0\n",
       "Outlet_Type_Supermarket Type2      0\n",
       "Outlet_Type_Supermarket Type3      0\n",
       "Item_Id_DR                         0\n",
       "Item_Id_FD                         0\n",
       "Item_Id_NC                         0\n",
       "dtype: int64"
      ]
     },
     "execution_count": 94,
     "metadata": {},
     "output_type": "execute_result"
    }
   ],
   "source": [
    "testdummy.isnull().sum()"
   ]
  },
  {
   "cell_type": "code",
   "execution_count": 95,
   "metadata": {},
   "outputs": [],
   "source": [
    "x = traindummy.drop(['Item_Outlet_Sales'],axis=1)\n",
    "y = traindummy['Item_Outlet_Sales']"
   ]
  },
  {
   "cell_type": "code",
   "execution_count": 96,
   "metadata": {},
   "outputs": [],
   "source": [
    "# splitting data as X_train and X_test\n",
    "from sklearn.model_selection import train_test_split\n",
    "xtrain, xtest, ytrain, ytest = train_test_split(x, y, test_size = 0.2,random_state = 123)"
   ]
  },
  {
   "cell_type": "code",
   "execution_count": 97,
   "metadata": {},
   "outputs": [],
   "source": [
    "# Building the first model with all the features\n",
    "from sklearn.linear_model import LinearRegression\n",
    "# instantiate\n",
    "lm = LinearRegression(normalize=False)\n",
    "\n",
    "# fit\n",
    "from sklearn.metrics import r2_score\n",
    "pred = lm.fit(xtrain,ytrain).predict(xtest)"
   ]
  },
  {
   "cell_type": "code",
   "execution_count": 98,
   "metadata": {},
   "outputs": [
    {
     "name": "stdout",
     "output_type": "stream",
     "text": [
      "0.6695169496412605\n"
     ]
    }
   ],
   "source": [
    "print(r2_score(y_true=ytest, y_pred=pred))"
   ]
  },
  {
   "cell_type": "code",
   "execution_count": 99,
   "metadata": {},
   "outputs": [
    {
     "name": "stdout",
     "output_type": "stream",
     "text": [
      "10.591506924626104\n"
     ]
    }
   ],
   "source": [
    "from sklearn.metrics import mean_squared_error\n",
    "mse=mean_squared_error(ytest,pred)\n",
    "lr_rmse_score=np.sqrt(mse)\n",
    "print(lr_rmse_score)"
   ]
  },
  {
   "cell_type": "code",
   "execution_count": 100,
   "metadata": {},
   "outputs": [],
   "source": [
    "# Building the first model with all the features\n",
    "from sklearn.linear_model import LinearRegression\n",
    "# instantiate\n",
    "lm = LinearRegression()\n",
    "\n",
    "# fit # predict \n",
    "pred_lr = lm.fit(xtrain, ytrain).predict(testdummy)"
   ]
  },
  {
   "cell_type": "code",
   "execution_count": 101,
   "metadata": {},
   "outputs": [
    {
     "name": "stdout",
     "output_type": "stream",
     "text": [
      "R^2 score:0.6623845029567073\n"
     ]
    }
   ],
   "source": [
    "print(f'R^2 score:{lm.score(x,y)}')"
   ]
  },
  {
   "cell_type": "code",
   "execution_count": 102,
   "metadata": {},
   "outputs": [
    {
     "name": "stdout",
     "output_type": "stream",
     "text": [
      "R^2 score:0.6605084778847541\n"
     ]
    }
   ],
   "source": [
    "print(f'R^2 score:{lm.score(xtrain,ytrain)}')"
   ]
  },
  {
   "cell_type": "code",
   "execution_count": 103,
   "metadata": {},
   "outputs": [
    {
     "name": "stdout",
     "output_type": "stream",
     "text": [
      "R^2 score:0.6695169496412605\n"
     ]
    }
   ],
   "source": [
    "print(f'R^2 score:{lm.score(xtest,ytest)}')"
   ]
  },
  {
   "cell_type": "code",
   "execution_count": 104,
   "metadata": {},
   "outputs": [
    {
     "name": "stderr",
     "output_type": "stream",
     "text": [
      "C:\\Users\\Navika\\Anaconda3\\lib\\site-packages\\numpy\\core\\fromnumeric.py:2389: FutureWarning: Method .ptp is deprecated and will be removed in a future version. Use numpy.ptp instead.\n",
      "  return ptp(axis=axis, out=out, **kwargs)\n"
     ]
    },
    {
     "data": {
      "text/html": [
       "<table class=\"simpletable\">\n",
       "<caption>OLS Regression Results</caption>\n",
       "<tr>\n",
       "  <th>Dep. Variable:</th>    <td>Item_Outlet_Sales</td> <th>  R-squared:         </th> <td>   0.675</td> \n",
       "</tr>\n",
       "<tr>\n",
       "  <th>Model:</th>                   <td>OLS</td>        <th>  Adj. R-squared:    </th> <td>   0.670</td> \n",
       "</tr>\n",
       "<tr>\n",
       "  <th>Method:</th>             <td>Least Squares</td>   <th>  F-statistic:       </th> <td>   128.9</td> \n",
       "</tr>\n",
       "<tr>\n",
       "  <th>Date:</th>             <td>Wed, 08 Jan 2020</td>  <th>  Prob (F-statistic):</th>  <td>  0.00</td>  \n",
       "</tr>\n",
       "<tr>\n",
       "  <th>Time:</th>                 <td>19:12:22</td>      <th>  Log-Likelihood:    </th> <td> -6429.6</td> \n",
       "</tr>\n",
       "<tr>\n",
       "  <th>No. Observations:</th>      <td>  1705</td>       <th>  AIC:               </th> <td>1.292e+04</td>\n",
       "</tr>\n",
       "<tr>\n",
       "  <th>Df Residuals:</th>          <td>  1677</td>       <th>  BIC:               </th> <td>1.307e+04</td>\n",
       "</tr>\n",
       "<tr>\n",
       "  <th>Df Model:</th>              <td>    27</td>       <th>                     </th>     <td> </td>    \n",
       "</tr>\n",
       "<tr>\n",
       "  <th>Covariance Type:</th>      <td>nonrobust</td>     <th>                     </th>     <td> </td>    \n",
       "</tr>\n",
       "</table>\n",
       "<table class=\"simpletable\">\n",
       "<tr>\n",
       "                 <td></td>                    <th>coef</th>     <th>std err</th>      <th>t</th>      <th>P>|t|</th>  <th>[0.025</th>    <th>0.975]</th>  \n",
       "</tr>\n",
       "<tr>\n",
       "  <th>const</th>                           <td>   -0.8539</td> <td>    0.388</td> <td>   -2.203</td> <td> 0.028</td> <td>   -1.614</td> <td>   -0.094</td>\n",
       "</tr>\n",
       "<tr>\n",
       "  <th>Item_MRP</th>                        <td>    3.6897</td> <td>    0.094</td> <td>   39.117</td> <td> 0.000</td> <td>    3.505</td> <td>    3.875</td>\n",
       "</tr>\n",
       "<tr>\n",
       "  <th>Item_Fat_Content_Low Fat</th>        <td>   -0.6274</td> <td>    0.335</td> <td>   -1.876</td> <td> 0.061</td> <td>   -1.284</td> <td>    0.029</td>\n",
       "</tr>\n",
       "<tr>\n",
       "  <th>Item_Fat_Content_Regular</th>        <td>   -0.2265</td> <td>    0.378</td> <td>   -0.600</td> <td> 0.549</td> <td>   -0.967</td> <td>    0.514</td>\n",
       "</tr>\n",
       "<tr>\n",
       "  <th>Item_Type_Baking Goods</th>          <td>   -0.8901</td> <td>    1.094</td> <td>   -0.814</td> <td> 0.416</td> <td>   -3.035</td> <td>    1.255</td>\n",
       "</tr>\n",
       "<tr>\n",
       "  <th>Item_Type_Breads</th>                <td>    0.4170</td> <td>    1.643</td> <td>    0.254</td> <td> 0.800</td> <td>   -2.805</td> <td>    3.639</td>\n",
       "</tr>\n",
       "<tr>\n",
       "  <th>Item_Type_Breakfast</th>             <td>   -0.9051</td> <td>    2.224</td> <td>   -0.407</td> <td> 0.684</td> <td>   -5.268</td> <td>    3.458</td>\n",
       "</tr>\n",
       "<tr>\n",
       "  <th>Item_Type_Canned</th>                <td>   -1.0116</td> <td>    1.008</td> <td>   -1.003</td> <td> 0.316</td> <td>   -2.989</td> <td>    0.966</td>\n",
       "</tr>\n",
       "<tr>\n",
       "  <th>Item_Type_Dairy</th>                 <td>   -2.1071</td> <td>    0.991</td> <td>   -2.127</td> <td> 0.034</td> <td>   -4.050</td> <td>   -0.164</td>\n",
       "</tr>\n",
       "<tr>\n",
       "  <th>Item_Type_Frozen Foods</th>          <td>   -0.9043</td> <td>    0.946</td> <td>   -0.956</td> <td> 0.339</td> <td>   -2.760</td> <td>    0.952</td>\n",
       "</tr>\n",
       "<tr>\n",
       "  <th>Item_Type_Fruits and Vegetables</th> <td>   -1.1820</td> <td>    0.854</td> <td>   -1.384</td> <td> 0.167</td> <td>   -2.857</td> <td>    0.493</td>\n",
       "</tr>\n",
       "<tr>\n",
       "  <th>Item_Type_Hard Drinks</th>           <td>    4.0003</td> <td>    2.395</td> <td>    1.670</td> <td> 0.095</td> <td>   -0.697</td> <td>    8.698</td>\n",
       "</tr>\n",
       "<tr>\n",
       "  <th>Item_Type_Health and Hygiene</th>    <td>    0.0141</td> <td>    1.009</td> <td>    0.014</td> <td> 0.989</td> <td>   -1.964</td> <td>    1.992</td>\n",
       "</tr>\n",
       "<tr>\n",
       "  <th>Item_Type_Household</th>             <td>   -0.7330</td> <td>    0.869</td> <td>   -0.843</td> <td> 0.399</td> <td>   -2.438</td> <td>    0.972</td>\n",
       "</tr>\n",
       "<tr>\n",
       "  <th>Item_Type_Meat</th>                  <td>    0.1923</td> <td>    1.185</td> <td>    0.162</td> <td> 0.871</td> <td>   -2.132</td> <td>    2.517</td>\n",
       "</tr>\n",
       "<tr>\n",
       "  <th>Item_Type_Others</th>                <td>    0.7297</td> <td>    1.565</td> <td>    0.466</td> <td> 0.641</td> <td>   -2.340</td> <td>    3.800</td>\n",
       "</tr>\n",
       "<tr>\n",
       "  <th>Item_Type_Seafood</th>               <td>   -1.4333</td> <td>    2.601</td> <td>   -0.551</td> <td> 0.582</td> <td>   -6.534</td> <td>    3.667</td>\n",
       "</tr>\n",
       "<tr>\n",
       "  <th>Item_Type_Snack Foods</th>           <td>   -0.3647</td> <td>    0.861</td> <td>   -0.424</td> <td> 0.672</td> <td>   -2.053</td> <td>    1.323</td>\n",
       "</tr>\n",
       "<tr>\n",
       "  <th>Item_Type_Soft Drinks</th>           <td>    1.2334</td> <td>    2.195</td> <td>    0.562</td> <td> 0.574</td> <td>   -3.072</td> <td>    5.539</td>\n",
       "</tr>\n",
       "<tr>\n",
       "  <th>Item_Type_Starchy Foods</th>         <td>    2.0903</td> <td>    1.919</td> <td>    1.089</td> <td> 0.276</td> <td>   -1.674</td> <td>    5.854</td>\n",
       "</tr>\n",
       "<tr>\n",
       "  <th>Outlet_Identifier_OUT010</th>        <td>   -4.4719</td> <td>    0.289</td> <td>  -15.476</td> <td> 0.000</td> <td>   -5.039</td> <td>   -3.905</td>\n",
       "</tr>\n",
       "<tr>\n",
       "  <th>Outlet_Identifier_OUT013</th>        <td>   -0.5673</td> <td>    0.212</td> <td>   -2.676</td> <td> 0.008</td> <td>   -0.983</td> <td>   -0.152</td>\n",
       "</tr>\n",
       "<tr>\n",
       "  <th>Outlet_Identifier_OUT017</th>        <td>    1.1136</td> <td>    0.337</td> <td>    3.304</td> <td> 0.001</td> <td>    0.453</td> <td>    1.775</td>\n",
       "</tr>\n",
       "<tr>\n",
       "  <th>Outlet_Identifier_OUT018</th>        <td>   -1.1982</td> <td>    0.231</td> <td>   -5.189</td> <td> 0.000</td> <td>   -1.651</td> <td>   -0.745</td>\n",
       "</tr>\n",
       "<tr>\n",
       "  <th>Outlet_Identifier_OUT019</th>        <td>   -5.9677</td> <td>    0.337</td> <td>  -17.728</td> <td> 0.000</td> <td>   -6.628</td> <td>   -5.307</td>\n",
       "</tr>\n",
       "<tr>\n",
       "  <th>Outlet_Identifier_OUT027</th>        <td>    6.1668</td> <td>    0.231</td> <td>   26.734</td> <td> 0.000</td> <td>    5.714</td> <td>    6.619</td>\n",
       "</tr>\n",
       "<tr>\n",
       "  <th>Outlet_Identifier_OUT035</th>        <td>    1.1304</td> <td>    0.321</td> <td>    3.526</td> <td> 0.000</td> <td>    0.502</td> <td>    1.759</td>\n",
       "</tr>\n",
       "<tr>\n",
       "  <th>Outlet_Identifier_OUT045</th>        <td>    0.0643</td> <td>    0.324</td> <td>    0.199</td> <td> 0.843</td> <td>   -0.571</td> <td>    0.699</td>\n",
       "</tr>\n",
       "<tr>\n",
       "  <th>Outlet_Identifier_OUT046</th>        <td>    3.2578</td> <td>    0.307</td> <td>   10.618</td> <td> 0.000</td> <td>    2.656</td> <td>    3.860</td>\n",
       "</tr>\n",
       "<tr>\n",
       "  <th>Outlet_Identifier_OUT049</th>        <td>   -0.3818</td> <td>    0.244</td> <td>   -1.565</td> <td> 0.118</td> <td>   -0.860</td> <td>    0.097</td>\n",
       "</tr>\n",
       "<tr>\n",
       "  <th>Outlet_Establishment_Year_1985</th>  <td>    0.1991</td> <td>    0.325</td> <td>    0.613</td> <td> 0.540</td> <td>   -0.438</td> <td>    0.836</td>\n",
       "</tr>\n",
       "<tr>\n",
       "  <th>Outlet_Establishment_Year_1987</th>  <td>   -0.5673</td> <td>    0.212</td> <td>   -2.676</td> <td> 0.008</td> <td>   -0.983</td> <td>   -0.152</td>\n",
       "</tr>\n",
       "<tr>\n",
       "  <th>Outlet_Establishment_Year_1997</th>  <td>    3.2578</td> <td>    0.307</td> <td>   10.618</td> <td> 0.000</td> <td>    2.656</td> <td>    3.860</td>\n",
       "</tr>\n",
       "<tr>\n",
       "  <th>Outlet_Establishment_Year_1998</th>  <td>   -4.4719</td> <td>    0.289</td> <td>  -15.476</td> <td> 0.000</td> <td>   -5.039</td> <td>   -3.905</td>\n",
       "</tr>\n",
       "<tr>\n",
       "  <th>Outlet_Establishment_Year_1999</th>  <td>   -0.3818</td> <td>    0.244</td> <td>   -1.565</td> <td> 0.118</td> <td>   -0.860</td> <td>    0.097</td>\n",
       "</tr>\n",
       "<tr>\n",
       "  <th>Outlet_Establishment_Year_2002</th>  <td>    0.0643</td> <td>    0.324</td> <td>    0.199</td> <td> 0.843</td> <td>   -0.571</td> <td>    0.699</td>\n",
       "</tr>\n",
       "<tr>\n",
       "  <th>Outlet_Establishment_Year_2004</th>  <td>    1.1304</td> <td>    0.321</td> <td>    3.526</td> <td> 0.000</td> <td>    0.502</td> <td>    1.759</td>\n",
       "</tr>\n",
       "<tr>\n",
       "  <th>Outlet_Establishment_Year_2007</th>  <td>    1.1136</td> <td>    0.337</td> <td>    3.304</td> <td> 0.001</td> <td>    0.453</td> <td>    1.775</td>\n",
       "</tr>\n",
       "<tr>\n",
       "  <th>Outlet_Establishment_Year_2009</th>  <td>   -1.1982</td> <td>    0.231</td> <td>   -5.189</td> <td> 0.000</td> <td>   -1.651</td> <td>   -0.745</td>\n",
       "</tr>\n",
       "<tr>\n",
       "  <th>Outlet_Size_High</th>                <td>   -0.5673</td> <td>    0.212</td> <td>   -2.676</td> <td> 0.008</td> <td>   -0.983</td> <td>   -0.152</td>\n",
       "</tr>\n",
       "<tr>\n",
       "  <th>Outlet_Size_Medium</th>              <td>    4.5868</td> <td>    0.258</td> <td>   17.757</td> <td> 0.000</td> <td>    4.080</td> <td>    5.093</td>\n",
       "</tr>\n",
       "<tr>\n",
       "  <th>Outlet_Size_Small</th>               <td>   -4.8735</td> <td>    0.271</td> <td>  -17.968</td> <td> 0.000</td> <td>   -5.405</td> <td>   -4.341</td>\n",
       "</tr>\n",
       "<tr>\n",
       "  <th>Outlet_Location_Type_Tier 1</th>     <td>   -3.0917</td> <td>    0.276</td> <td>  -11.208</td> <td> 0.000</td> <td>   -3.633</td> <td>   -2.551</td>\n",
       "</tr>\n",
       "<tr>\n",
       "  <th>Outlet_Location_Type_Tier 2</th>     <td>    2.3084</td> <td>    0.217</td> <td>   10.647</td> <td> 0.000</td> <td>    1.883</td> <td>    2.734</td>\n",
       "</tr>\n",
       "<tr>\n",
       "  <th>Outlet_Location_Type_Tier 3</th>     <td>   -0.0706</td> <td>    0.298</td> <td>   -0.237</td> <td> 0.813</td> <td>   -0.655</td> <td>    0.514</td>\n",
       "</tr>\n",
       "<tr>\n",
       "  <th>Outlet_Type_Grocery Store</th>       <td>  -10.4397</td> <td>    0.279</td> <td>  -37.396</td> <td> 0.000</td> <td>  -10.987</td> <td>   -9.892</td>\n",
       "</tr>\n",
       "<tr>\n",
       "  <th>Outlet_Type_Supermarket Type1</th>   <td>    4.6171</td> <td>    0.276</td> <td>   16.745</td> <td> 0.000</td> <td>    4.076</td> <td>    5.158</td>\n",
       "</tr>\n",
       "<tr>\n",
       "  <th>Outlet_Type_Supermarket Type2</th>   <td>   -1.1982</td> <td>    0.231</td> <td>   -5.189</td> <td> 0.000</td> <td>   -1.651</td> <td>   -0.745</td>\n",
       "</tr>\n",
       "<tr>\n",
       "  <th>Outlet_Type_Supermarket Type3</th>   <td>    6.1668</td> <td>    0.231</td> <td>   26.734</td> <td> 0.000</td> <td>    5.714</td> <td>    6.619</td>\n",
       "</tr>\n",
       "<tr>\n",
       "  <th>Item_Id_DR</th>                      <td>   -1.9774</td> <td>    1.464</td> <td>   -1.351</td> <td> 0.177</td> <td>   -4.848</td> <td>    0.894</td>\n",
       "</tr>\n",
       "<tr>\n",
       "  <th>Item_Id_FD</th>                      <td>    1.1125</td> <td>    0.974</td> <td>    1.142</td> <td> 0.254</td> <td>   -0.798</td> <td>    3.023</td>\n",
       "</tr>\n",
       "<tr>\n",
       "  <th>Item_Id_NC</th>                      <td>    0.0109</td> <td>    0.631</td> <td>    0.017</td> <td> 0.986</td> <td>   -1.227</td> <td>    1.248</td>\n",
       "</tr>\n",
       "</table>\n",
       "<table class=\"simpletable\">\n",
       "<tr>\n",
       "  <th>Omnibus:</th>       <td>14.678</td> <th>  Durbin-Watson:     </th> <td>   2.053</td>\n",
       "</tr>\n",
       "<tr>\n",
       "  <th>Prob(Omnibus):</th> <td> 0.001</td> <th>  Jarque-Bera (JB):  </th> <td>  19.344</td>\n",
       "</tr>\n",
       "<tr>\n",
       "  <th>Skew:</th>          <td>-0.107</td> <th>  Prob(JB):          </th> <td>6.30e-05</td>\n",
       "</tr>\n",
       "<tr>\n",
       "  <th>Kurtosis:</th>      <td> 3.476</td> <th>  Cond. No.          </th> <td>3.56e+16</td>\n",
       "</tr>\n",
       "</table><br/><br/>Warnings:<br/>[1] Standard Errors assume that the covariance matrix of the errors is correctly specified.<br/>[2] The smallest eigenvalue is 1.94e-28. This might indicate that there are<br/>strong multicollinearity problems or that the design matrix is singular."
      ],
      "text/plain": [
       "<class 'statsmodels.iolib.summary.Summary'>\n",
       "\"\"\"\n",
       "                            OLS Regression Results                            \n",
       "==============================================================================\n",
       "Dep. Variable:      Item_Outlet_Sales   R-squared:                       0.675\n",
       "Model:                            OLS   Adj. R-squared:                  0.670\n",
       "Method:                 Least Squares   F-statistic:                     128.9\n",
       "Date:                Wed, 08 Jan 2020   Prob (F-statistic):               0.00\n",
       "Time:                        19:12:22   Log-Likelihood:                -6429.6\n",
       "No. Observations:                1705   AIC:                         1.292e+04\n",
       "Df Residuals:                    1677   BIC:                         1.307e+04\n",
       "Df Model:                          27                                         \n",
       "Covariance Type:            nonrobust                                         \n",
       "===================================================================================================\n",
       "                                      coef    std err          t      P>|t|      [0.025      0.975]\n",
       "---------------------------------------------------------------------------------------------------\n",
       "const                              -0.8539      0.388     -2.203      0.028      -1.614      -0.094\n",
       "Item_MRP                            3.6897      0.094     39.117      0.000       3.505       3.875\n",
       "Item_Fat_Content_Low Fat           -0.6274      0.335     -1.876      0.061      -1.284       0.029\n",
       "Item_Fat_Content_Regular           -0.2265      0.378     -0.600      0.549      -0.967       0.514\n",
       "Item_Type_Baking Goods             -0.8901      1.094     -0.814      0.416      -3.035       1.255\n",
       "Item_Type_Breads                    0.4170      1.643      0.254      0.800      -2.805       3.639\n",
       "Item_Type_Breakfast                -0.9051      2.224     -0.407      0.684      -5.268       3.458\n",
       "Item_Type_Canned                   -1.0116      1.008     -1.003      0.316      -2.989       0.966\n",
       "Item_Type_Dairy                    -2.1071      0.991     -2.127      0.034      -4.050      -0.164\n",
       "Item_Type_Frozen Foods             -0.9043      0.946     -0.956      0.339      -2.760       0.952\n",
       "Item_Type_Fruits and Vegetables    -1.1820      0.854     -1.384      0.167      -2.857       0.493\n",
       "Item_Type_Hard Drinks               4.0003      2.395      1.670      0.095      -0.697       8.698\n",
       "Item_Type_Health and Hygiene        0.0141      1.009      0.014      0.989      -1.964       1.992\n",
       "Item_Type_Household                -0.7330      0.869     -0.843      0.399      -2.438       0.972\n",
       "Item_Type_Meat                      0.1923      1.185      0.162      0.871      -2.132       2.517\n",
       "Item_Type_Others                    0.7297      1.565      0.466      0.641      -2.340       3.800\n",
       "Item_Type_Seafood                  -1.4333      2.601     -0.551      0.582      -6.534       3.667\n",
       "Item_Type_Snack Foods              -0.3647      0.861     -0.424      0.672      -2.053       1.323\n",
       "Item_Type_Soft Drinks               1.2334      2.195      0.562      0.574      -3.072       5.539\n",
       "Item_Type_Starchy Foods             2.0903      1.919      1.089      0.276      -1.674       5.854\n",
       "Outlet_Identifier_OUT010           -4.4719      0.289    -15.476      0.000      -5.039      -3.905\n",
       "Outlet_Identifier_OUT013           -0.5673      0.212     -2.676      0.008      -0.983      -0.152\n",
       "Outlet_Identifier_OUT017            1.1136      0.337      3.304      0.001       0.453       1.775\n",
       "Outlet_Identifier_OUT018           -1.1982      0.231     -5.189      0.000      -1.651      -0.745\n",
       "Outlet_Identifier_OUT019           -5.9677      0.337    -17.728      0.000      -6.628      -5.307\n",
       "Outlet_Identifier_OUT027            6.1668      0.231     26.734      0.000       5.714       6.619\n",
       "Outlet_Identifier_OUT035            1.1304      0.321      3.526      0.000       0.502       1.759\n",
       "Outlet_Identifier_OUT045            0.0643      0.324      0.199      0.843      -0.571       0.699\n",
       "Outlet_Identifier_OUT046            3.2578      0.307     10.618      0.000       2.656       3.860\n",
       "Outlet_Identifier_OUT049           -0.3818      0.244     -1.565      0.118      -0.860       0.097\n",
       "Outlet_Establishment_Year_1985      0.1991      0.325      0.613      0.540      -0.438       0.836\n",
       "Outlet_Establishment_Year_1987     -0.5673      0.212     -2.676      0.008      -0.983      -0.152\n",
       "Outlet_Establishment_Year_1997      3.2578      0.307     10.618      0.000       2.656       3.860\n",
       "Outlet_Establishment_Year_1998     -4.4719      0.289    -15.476      0.000      -5.039      -3.905\n",
       "Outlet_Establishment_Year_1999     -0.3818      0.244     -1.565      0.118      -0.860       0.097\n",
       "Outlet_Establishment_Year_2002      0.0643      0.324      0.199      0.843      -0.571       0.699\n",
       "Outlet_Establishment_Year_2004      1.1304      0.321      3.526      0.000       0.502       1.759\n",
       "Outlet_Establishment_Year_2007      1.1136      0.337      3.304      0.001       0.453       1.775\n",
       "Outlet_Establishment_Year_2009     -1.1982      0.231     -5.189      0.000      -1.651      -0.745\n",
       "Outlet_Size_High                   -0.5673      0.212     -2.676      0.008      -0.983      -0.152\n",
       "Outlet_Size_Medium                  4.5868      0.258     17.757      0.000       4.080       5.093\n",
       "Outlet_Size_Small                  -4.8735      0.271    -17.968      0.000      -5.405      -4.341\n",
       "Outlet_Location_Type_Tier 1        -3.0917      0.276    -11.208      0.000      -3.633      -2.551\n",
       "Outlet_Location_Type_Tier 2         2.3084      0.217     10.647      0.000       1.883       2.734\n",
       "Outlet_Location_Type_Tier 3        -0.0706      0.298     -0.237      0.813      -0.655       0.514\n",
       "Outlet_Type_Grocery Store         -10.4397      0.279    -37.396      0.000     -10.987      -9.892\n",
       "Outlet_Type_Supermarket Type1       4.6171      0.276     16.745      0.000       4.076       5.158\n",
       "Outlet_Type_Supermarket Type2      -1.1982      0.231     -5.189      0.000      -1.651      -0.745\n",
       "Outlet_Type_Supermarket Type3       6.1668      0.231     26.734      0.000       5.714       6.619\n",
       "Item_Id_DR                         -1.9774      1.464     -1.351      0.177      -4.848       0.894\n",
       "Item_Id_FD                          1.1125      0.974      1.142      0.254      -0.798       3.023\n",
       "Item_Id_NC                          0.0109      0.631      0.017      0.986      -1.227       1.248\n",
       "==============================================================================\n",
       "Omnibus:                       14.678   Durbin-Watson:                   2.053\n",
       "Prob(Omnibus):                  0.001   Jarque-Bera (JB):               19.344\n",
       "Skew:                          -0.107   Prob(JB):                     6.30e-05\n",
       "Kurtosis:                       3.476   Cond. No.                     3.56e+16\n",
       "==============================================================================\n",
       "\n",
       "Warnings:\n",
       "[1] Standard Errors assume that the covariance matrix of the errors is correctly specified.\n",
       "[2] The smallest eigenvalue is 1.94e-28. This might indicate that there are\n",
       "strong multicollinearity problems or that the design matrix is singular.\n",
       "\"\"\""
      ]
     },
     "execution_count": 104,
     "metadata": {},
     "output_type": "execute_result"
    }
   ],
   "source": [
    "import statsmodels.api as sm\n",
    "X_constant = sm.add_constant(xtest)\n",
    "model = sm.OLS(ytest, X_constant).fit()\n",
    "predictions = model.predict(X_constant)\n",
    "model.summary()"
   ]
  },
  {
   "cell_type": "code",
   "execution_count": 105,
   "metadata": {},
   "outputs": [
    {
     "data": {
      "text/plain": [
       "4532    -5.724871\n",
       "186      3.468626\n",
       "7557   -23.181910\n",
       "6308    -4.630259\n",
       "7297     6.308050\n",
       "2711   -11.891242\n",
       "7374     1.129669\n",
       "714     -9.689173\n",
       "2886     4.284089\n",
       "7559    -4.553821\n",
       "6568    22.279482\n",
       "7176    -5.999339\n",
       "6320     2.141888\n",
       "8489    11.042523\n",
       "426     17.878204\n",
       "5509   -10.443671\n",
       "8297    -1.309464\n",
       "1796    -1.446509\n",
       "6929     9.955212\n",
       "1173    15.721282\n",
       "2895    -0.435759\n",
       "2633    -2.187099\n",
       "878     -7.824901\n",
       "8196   -18.745421\n",
       "7974    -9.570272\n",
       "3494    19.666586\n",
       "1831    -5.705069\n",
       "2134   -22.710592\n",
       "5444    12.846662\n",
       "1012    22.003241\n",
       "          ...    \n",
       "3585   -11.985411\n",
       "5243     1.806699\n",
       "6420    17.515585\n",
       "2453    -6.915845\n",
       "6575     2.460385\n",
       "374      1.698594\n",
       "4031     7.443464\n",
       "3249   -11.600267\n",
       "4881     2.378485\n",
       "3241    12.249460\n",
       "11       1.381483\n",
       "8478    25.211434\n",
       "4369   -18.274347\n",
       "271    -14.128542\n",
       "7744    -8.869188\n",
       "1254    25.757805\n",
       "5703    -4.592403\n",
       "2139    -9.517791\n",
       "6278     8.114197\n",
       "3973    -3.969013\n",
       "6574     3.196922\n",
       "1074    16.394897\n",
       "1085     8.676501\n",
       "3746   -12.341546\n",
       "1878    -0.869074\n",
       "3045    -2.154166\n",
       "629     -0.315699\n",
       "746     -2.240287\n",
       "2661   -25.964868\n",
       "6153    -5.410572\n",
       "Length: 1705, dtype: float64"
      ]
     },
     "execution_count": 105,
     "metadata": {},
     "output_type": "execute_result"
    }
   ],
   "source": [
    "sns.set(style = 'whitegrid')\n",
    "\n",
    "residuals = model.resid\n",
    "residuals"
   ]
  },
  {
   "cell_type": "code",
   "execution_count": 106,
   "metadata": {},
   "outputs": [
    {
     "data": {
      "image/png": "[encoded data removed]",
      "text/plain": [
       "<Figure size 432x288 with 1 Axes>"
      ]
     },
     "metadata": {},
     "output_type": "display_data"
    }
   ],
   "source": [
    "ax = sns.residplot(ytest, residuals, lowess = True, color = 'g')\n",
    "ax.set(xlabel = 'Fitted value', ylabel = 'Residuals', title = 'Residual vs Fitted Plot \\n')\n",
    "plt.show()"
   ]
  },
  {
   "cell_type": "raw",
   "metadata": {},
   "source": [
    "The  plot patterns are non-random (U-shaped and inverted U), suggesting a better fit for a non-linear model."
   ]
  },
  {
   "cell_type": "raw",
   "metadata": {},
   "source": [
    "In regression, a transformation to achieve linearity is a special kind of nonlinear transformation. It is a nonlinear transformation that increases the linear relationship between two variables."
   ]
  },
  {
   "cell_type": "code",
   "execution_count": 107,
   "metadata": {},
   "outputs": [
    {
     "data": {
      "text/plain": [
       "<matplotlib.axes._subplots.AxesSubplot at 0x1b601a0b390>"
      ]
     },
     "execution_count": 107,
     "metadata": {},
     "output_type": "execute_result"
    },
    {
     "data": {
      "image/png": "[encoded data removed]",
      "text/plain": [
       "<Figure size 432x288 with 1 Axes>"
      ]
     },
     "metadata": {},
     "output_type": "display_data"
    }
   ],
   "source": [
    "sns.distplot(residuals)"
   ]
  },
  {
   "cell_type": "code",
   "execution_count": 108,
   "metadata": {},
   "outputs": [
    {
     "data": {
      "text/plain": [
       "<matplotlib.axes._subplots.AxesSubplot at 0x1b601abdb00>"
      ]
     },
     "execution_count": 108,
     "metadata": {},
     "output_type": "execute_result"
    },
    {
     "data": {
      "image/png": "[encoded data removed]",
      "text/plain": [
       "<Figure size 432x288 with 1 Axes>"
      ]
     },
     "metadata": {},
     "output_type": "display_data"
    }
   ],
   "source": [
    "sns.scatterplot(ytest, pred)"
   ]
  },
  {
   "cell_type": "code",
   "execution_count": 109,
   "metadata": {},
   "outputs": [
    {
     "data": {
      "image/png": "[encoded data removed]",
      "text/plain": [
       "<Figure size 432x288 with 1 Axes>"
      ]
     },
     "metadata": {},
     "output_type": "display_data"
    }
   ],
   "source": [
    "sns.regplot(x=ytest, y=pred, lowess=True, line_kws={'color': 'red'})\n",
    "plt.title('Observed vs. Predicted Values', fontsize=16)\n",
    "plt.xlabel='Predicted'\n",
    "plt.ylabel='Observed'"
   ]
  },
  {
   "cell_type": "raw",
   "metadata": {},
   "source": [
    "As we can see that there is presence of heteroskedacity. We do scaling to tackle this.\n",
    "Scaling not having much difference."
   ]
  },
  {
   "cell_type": "code",
   "execution_count": 110,
   "metadata": {},
   "outputs": [],
   "source": [
    "from sklearn.tree import DecisionTreeRegressor\n",
    "dtr=DecisionTreeRegressor()\n",
    "dtr.fit(xtrain,ytrain)\n",
    "pred_dtr=dtr.predict(xtest)"
   ]
  },
  {
   "cell_type": "code",
   "execution_count": 111,
   "metadata": {},
   "outputs": [
    {
     "name": "stdout",
     "output_type": "stream",
     "text": [
      "0.3330042827325639\n",
      "R^2 score:0.9995653668289124\n",
      "R^2 score:0.3330042827325639\n"
     ]
    }
   ],
   "source": [
    "print(r2_score(y_true=ytest, y_pred=pred_dtr))\n",
    "print(f'R^2 score:{dtr.score(xtrain,ytrain)}')\n",
    "print(f'R^2 score:{dtr.score(xtest,ytest)}')"
   ]
  },
  {
   "cell_type": "code",
   "execution_count": 112,
   "metadata": {},
   "outputs": [],
   "source": [
    "from sklearn.tree import DecisionTreeRegressor\n",
    "dtr=DecisionTreeRegressor()\n",
    "dtr.fit(xtrain,ytrain)\n",
    "pred_dtr2=dtr.predict(testdummy)"
   ]
  },
  {
   "cell_type": "code",
   "execution_count": 113,
   "metadata": {},
   "outputs": [
    {
     "data": {
      "text/plain": [
       "'from sklearn.model_selection import cross_val_score\\nrmse = cross_val_score(dtr, x, y, scoring=\\'neg_mean_squared_error\\', cv = 10)\\nprint(-(rmse))\\n#get the mean of each fold \\nprint(\"Accuracy of Model with Cross Validation is:\",(-(rmse)).mean())'"
      ]
     },
     "execution_count": 113,
     "metadata": {},
     "output_type": "execute_result"
    }
   ],
   "source": [
    "'''from sklearn.model_selection import cross_val_score\n",
    "rmse = cross_val_score(dtr, x, y, scoring='neg_mean_squared_error', cv = 10)\n",
    "print(-(rmse))\n",
    "#get the mean of each fold \n",
    "print(\"Accuracy of Model with Cross Validation is:\",(-(rmse)).mean())'''"
   ]
  },
  {
   "cell_type": "code",
   "execution_count": 114,
   "metadata": {},
   "outputs": [
    {
     "name": "stderr",
     "output_type": "stream",
     "text": [
      "C:\\Users\\Navika\\Anaconda3\\lib\\site-packages\\sklearn\\ensemble\\forest.py:245: FutureWarning: The default value of n_estimators will change from 10 in version 0.20 to 100 in 0.22.\n",
      "  \"10 in version 0.20 to 100 in 0.22.\", FutureWarning)\n"
     ]
    }
   ],
   "source": [
    "from sklearn.ensemble import RandomForestRegressor\n",
    "rf=RandomForestRegressor()\n",
    "rf.fit(xtrain,ytrain)\n",
    "pred_rf=rf.predict(xtest)"
   ]
  },
  {
   "cell_type": "code",
   "execution_count": 115,
   "metadata": {},
   "outputs": [
    {
     "name": "stdout",
     "output_type": "stream",
     "text": [
      "0.5952392586604895\n",
      "R^2 score:0.9269905196273964\n",
      "R^2 score:0.5952392586604895\n"
     ]
    }
   ],
   "source": [
    "print(r2_score(y_true=ytest, y_pred=pred_rf))\n",
    "print(f'R^2 score:{rf.score(xtrain,ytrain)}')\n",
    "print(f'R^2 score:{rf.score(xtest,ytest)}')"
   ]
  },
  {
   "cell_type": "code",
   "execution_count": 116,
   "metadata": {},
   "outputs": [
    {
     "name": "stderr",
     "output_type": "stream",
     "text": [
      "C:\\Users\\Navika\\Anaconda3\\lib\\site-packages\\sklearn\\ensemble\\forest.py:245: FutureWarning: The default value of n_estimators will change from 10 in version 0.20 to 100 in 0.22.\n",
      "  \"10 in version 0.20 to 100 in 0.22.\", FutureWarning)\n"
     ]
    }
   ],
   "source": [
    "from sklearn.ensemble import RandomForestRegressor\n",
    "rf=RandomForestRegressor()\n",
    "rf.fit(xtrain,ytrain)\n",
    "pred_rf2=rf.predict(testdummy)"
   ]
  },
  {
   "cell_type": "code",
   "execution_count": 117,
   "metadata": {},
   "outputs": [],
   "source": [
    "'''random_grid = {'bootstrap': [True, False],\n",
    " 'max_depth': [10, 20, 30, 40, 50, 60, 70, 80, 90, 100, None],\n",
    " 'max_features': ['auto', 'sqrt'],\n",
    " 'min_samples_leaf': [1, 2, 4],\n",
    " 'min_samples_split': [2, 5, 10],\n",
    " 'n_estimators': [200, 400, 600, 800, 1000, 1200, 1400, 1600, 1800, 2000]}'''\n",
    "#after hyper parameter tuning we get:\n",
    "random_grid = {'n_estimators': [1000],\n",
    " 'min_samples_split': [10],\n",
    " 'min_samples_leaf':[ 4],\n",
    " 'max_features': ['auto'],\n",
    " 'max_depth': [10],\n",
    " 'bootstrap': [True]}"
   ]
  },
  {
   "cell_type": "code",
   "execution_count": 118,
   "metadata": {},
   "outputs": [],
   "source": [
    "from sklearn.model_selection import RandomizedSearchCV\n",
    "rf_random = RandomizedSearchCV(estimator = rf, param_distributions = random_grid, n_iter = 100, cv = 3, verbose=2, random_state=123, n_jobs = -1)"
   ]
  },
  {
   "cell_type": "code",
   "execution_count": 119,
   "metadata": {},
   "outputs": [
    {
     "name": "stderr",
     "output_type": "stream",
     "text": [
      "C:\\Users\\Navika\\Anaconda3\\lib\\site-packages\\sklearn\\model_selection\\_search.py:266: UserWarning: The total space of parameters 1 is smaller than n_iter=100. Running 1 iterations. For exhaustive searches, use GridSearchCV.\n",
      "  % (grid_size, self.n_iter, grid_size), UserWarning)\n",
      "[Parallel(n_jobs=-1)]: Using backend LokyBackend with 8 concurrent workers.\n"
     ]
    },
    {
     "name": "stdout",
     "output_type": "stream",
     "text": [
      "Fitting 3 folds for each of 1 candidates, totalling 3 fits\n"
     ]
    },
    {
     "name": "stderr",
     "output_type": "stream",
     "text": [
      "[Parallel(n_jobs=-1)]: Done   3 out of   3 | elapsed:   26.3s finished\n"
     ]
    },
    {
     "data": {
      "text/plain": [
       "RandomizedSearchCV(cv=3, error_score='raise-deprecating',\n",
       "                   estimator=RandomForestRegressor(bootstrap=True,\n",
       "                                                   criterion='mse',\n",
       "                                                   max_depth=None,\n",
       "                                                   max_features='auto',\n",
       "                                                   max_leaf_nodes=None,\n",
       "                                                   min_impurity_decrease=0.0,\n",
       "                                                   min_impurity_split=None,\n",
       "                                                   min_samples_leaf=1,\n",
       "                                                   min_samples_split=2,\n",
       "                                                   min_weight_fraction_leaf=0.0,\n",
       "                                                   n_estimators=10, n_jobs=None,\n",
       "                                                   oob_score=False,\n",
       "                                                   random_state=None, verbose=0,\n",
       "                                                   warm_start=False),\n",
       "                   iid='warn', n_iter=100, n_jobs=-1,\n",
       "                   param_distributions={'bootstrap': [True], 'max_depth': [10],\n",
       "                                        'max_features': ['auto'],\n",
       "                                        'min_samples_leaf': [4],\n",
       "                                        'min_samples_split': [10],\n",
       "                                        'n_estimators': [1000]},\n",
       "                   pre_dispatch='2*n_jobs', random_state=123, refit=True,\n",
       "                   return_train_score=False, scoring=None, verbose=2)"
      ]
     },
     "execution_count": 119,
     "metadata": {},
     "output_type": "execute_result"
    }
   ],
   "source": [
    "rf_random.fit(xtrain,ytrain )"
   ]
  },
  {
   "cell_type": "code",
   "execution_count": 120,
   "metadata": {},
   "outputs": [
    {
     "data": {
      "text/plain": [
       "\"rf_random.fit(xtrain,ytrain )\\n\\nRandomizedSearchCV(cv=3, error_score='raise-deprecating',\\n                   estimator=RandomForestRegressor(bootstrap=True,\\n                                                   criterion='mse',\\n                                                   max_depth=None,\\n                                                   max_features='auto',\\n                                                   max_leaf_nodes=None,\\n                                                   min_impurity_decrease=0.0,\\n                                                   min_impurity_split=None,\\n                                                   min_samples_leaf=1,\\n                                                   min_samples_split=2,\\n                                                   min_weight_fraction_leaf=0.0,\\n                                                   n_estimators=10, n_jobs=None,\\n                                                   oob_score=False,\\n                                                   random_state=N...\\n                   iid='warn', n_iter=100, n_jobs=-1,\\n                   param_distributions={'bootstrap': [True, False],\\n                                        'max_depth': [10, 20, 30, 40, 50, 60,\\n                                                      70, 80, 90, 100, None],\\n                                        'max_features': ['auto', 'sqrt'],\\n                                        'min_samples_leaf': [1, 2, 4],\\n                                        'min_samples_split': [2, 5, 10],\\n                                        'n_estimators': [200, 400, 600, 800,\\n                                                         1000, 1200, 1400, 1600,\\n                                                         1800, 2000]},\\n                   pre_dispatch='2*n_jobs', random_state=123, refit=True,\\n                   return_train_score=False, scoring=None, verbose=2)\""
      ]
     },
     "execution_count": 120,
     "metadata": {},
     "output_type": "execute_result"
    }
   ],
   "source": [
    "'''rf_random.fit(xtrain,ytrain )\n",
    "\n",
    "RandomizedSearchCV(cv=3, error_score='raise-deprecating',\n",
    "                   estimator=RandomForestRegressor(bootstrap=True,\n",
    "                                                   criterion='mse',\n",
    "                                                   max_depth=None,\n",
    "                                                   max_features='auto',\n",
    "                                                   max_leaf_nodes=None,\n",
    "                                                   min_impurity_decrease=0.0,\n",
    "                                                   min_impurity_split=None,\n",
    "                                                   min_samples_leaf=1,\n",
    "                                                   min_samples_split=2,\n",
    "                                                   min_weight_fraction_leaf=0.0,\n",
    "                                                   n_estimators=10, n_jobs=None,\n",
    "                                                   oob_score=False,\n",
    "                                                   random_state=N...\n",
    "                   iid='warn', n_iter=100, n_jobs=-1,\n",
    "                   param_distributions={'bootstrap': [True, False],\n",
    "                                        'max_depth': [10, 20, 30, 40, 50, 60,\n",
    "                                                      70, 80, 90, 100, None],\n",
    "                                        'max_features': ['auto', 'sqrt'],\n",
    "                                        'min_samples_leaf': [1, 2, 4],\n",
    "                                        'min_samples_split': [2, 5, 10],\n",
    "                                        'n_estimators': [200, 400, 600, 800,\n",
    "                                                         1000, 1200, 1400, 1600,\n",
    "                                                         1800, 2000]},\n",
    "                   pre_dispatch='2*n_jobs', random_state=123, refit=True,\n",
    "                   return_train_score=False, scoring=None, verbose=2)'''\n"
   ]
  },
  {
   "cell_type": "code",
   "execution_count": 121,
   "metadata": {},
   "outputs": [
    {
     "data": {
      "text/plain": [
       "{'n_estimators': 1000,\n",
       " 'min_samples_split': 10,\n",
       " 'min_samples_leaf': 4,\n",
       " 'max_features': 'auto',\n",
       " 'max_depth': 10,\n",
       " 'bootstrap': True}"
      ]
     },
     "execution_count": 121,
     "metadata": {},
     "output_type": "execute_result"
    }
   ],
   "source": [
    "rf_random.best_params_"
   ]
  },
  {
   "cell_type": "code",
   "execution_count": 122,
   "metadata": {},
   "outputs": [],
   "source": [
    "def evaluate(model, train_features, train_labels, test_features,test_labels):\n",
    "    predictions = model.fit(xtrain,ytrain).predict(test_features)\n",
    "    errors = abs(predictions - test_labels)\n",
    "    mape = 100 * np.mean(errors / test_labels)\n",
    "    accuracy = 100 - mape\n",
    "    print('Model Performance')\n",
    "    print('Average Error: {:0.4f} degrees.'.format(np.mean(errors)))\n",
    "    print('Accuracy = {:0.2f}%.'.format(accuracy))\n",
    "    \n",
    "    return accuracy"
   ]
  },
  {
   "cell_type": "code",
   "execution_count": 123,
   "metadata": {},
   "outputs": [
    {
     "name": "stdout",
     "output_type": "stream",
     "text": [
      "Model Performance\n",
      "Average Error: 8.0955 degrees.\n",
      "Accuracy = 77.33%.\n"
     ]
    }
   ],
   "source": [
    "best_random = rf_random.best_estimator_\n",
    "random_accuracy = evaluate(best_random, xtrain,ytrain,xtest,ytest)"
   ]
  },
  {
   "cell_type": "code",
   "execution_count": 124,
   "metadata": {},
   "outputs": [],
   "source": [
    "pred_rf_hyp = best_random.predict(testdummy)"
   ]
  },
  {
   "cell_type": "code",
   "execution_count": 125,
   "metadata": {},
   "outputs": [
    {
     "name": "stdout",
     "output_type": "stream",
     "text": [
      "0.9175040706563493\n"
     ]
    }
   ],
   "source": [
    "print(rf.score(testdummy,pred_rf_hyp))"
   ]
  },
  {
   "cell_type": "code",
   "execution_count": 126,
   "metadata": {},
   "outputs": [],
   "source": [
    "import xgboost as xgb"
   ]
  },
  {
   "cell_type": "code",
   "execution_count": 127,
   "metadata": {},
   "outputs": [
    {
     "name": "stderr",
     "output_type": "stream",
     "text": [
      "C:\\Users\\Navika\\Anaconda3\\lib\\site-packages\\xgboost\\core.py:587: FutureWarning: Series.base is deprecated and will be removed in a future version\n",
      "  if getattr(data, 'base', None) is not None and \\\n"
     ]
    },
    {
     "name": "stdout",
     "output_type": "stream",
     "text": [
      "[19:13:26] WARNING: C:/Jenkins/workspace/xgboost-win64_release_0.90/src/objective/regression_obj.cu:152: reg:linear is now deprecated in favor of reg:squarederror.\n"
     ]
    }
   ],
   "source": [
    "from xgboost.sklearn import XGBRegressor \n",
    "xgb=XGBRegressor() \n",
    "preds_xgb=xgb.fit(xtrain,ytrain).predict(xtest)"
   ]
  },
  {
   "cell_type": "code",
   "execution_count": 128,
   "metadata": {},
   "outputs": [
    {
     "name": "stdout",
     "output_type": "stream",
     "text": [
      "0.681863432516209\n",
      "R^2 score:0.6940314580284577\n",
      "R^2 score:0.681863432516209\n"
     ]
    }
   ],
   "source": [
    "print(r2_score(y_true=ytest, y_pred=preds_xgb))\n",
    "print(f'R^2 score:{xgb.score(xtrain,ytrain)}')\n",
    "print(f'R^2 score:{xgb.score(xtest,ytest)}')"
   ]
  },
  {
   "cell_type": "code",
   "execution_count": 129,
   "metadata": {},
   "outputs": [
    {
     "name": "stdout",
     "output_type": "stream",
     "text": [
      "[19:13:28] WARNING: C:/Jenkins/workspace/xgboost-win64_release_0.90/src/objective/regression_obj.cu:152: reg:linear is now deprecated in favor of reg:squarederror.\n"
     ]
    },
    {
     "name": "stderr",
     "output_type": "stream",
     "text": [
      "C:\\Users\\Navika\\Anaconda3\\lib\\site-packages\\xgboost\\core.py:587: FutureWarning: Series.base is deprecated and will be removed in a future version\n",
      "  if getattr(data, 'base', None) is not None and \\\n"
     ]
    }
   ],
   "source": [
    "from xgboost.sklearn import XGBRegressor \n",
    "xgb=XGBRegressor() \n",
    "preds_xgb2=xgb.fit(xtrain,ytrain).predict(testdummy)"
   ]
  },
  {
   "cell_type": "code",
   "execution_count": 130,
   "metadata": {},
   "outputs": [
    {
     "data": {
      "text/plain": [
       "<matplotlib.axes._subplots.AxesSubplot at 0x1b6036e8cf8>"
      ]
     },
     "execution_count": 130,
     "metadata": {},
     "output_type": "execute_result"
    },
    {
     "data": {
      "image/png": "[encoded data removed]",
      "text/plain": [
       "<Figure size 432x288 with 1 Axes>"
      ]
     },
     "metadata": {},
     "output_type": "display_data"
    }
   ],
   "source": [
    "sns.scatterplot(ytest, preds_xgb)"
   ]
  },
  {
   "cell_type": "code",
   "execution_count": 131,
   "metadata": {},
   "outputs": [
    {
     "data": {
      "image/png": "[encoded data removed]",
      "text/plain": [
       "<Figure size 432x288 with 1 Axes>"
      ]
     },
     "metadata": {},
     "output_type": "display_data"
    }
   ],
   "source": [
    "sns.regplot(x=ytest, y=preds_xgb, lowess=True, line_kws={'color': 'red'})\n",
    "plt.title('Observed vs. Predicted Values', fontsize=16)\n",
    "plt.xlabel='Predicted'\n",
    "plt.ylabel='Observed'\n"
   ]
  },
  {
   "cell_type": "code",
   "execution_count": 132,
   "metadata": {},
   "outputs": [
    {
     "data": {
      "text/plain": [
       "0.6801472338343798"
      ]
     },
     "execution_count": 132,
     "metadata": {},
     "output_type": "execute_result"
    }
   ],
   "source": [
    "from sklearn.ensemble import GradientBoostingRegressor\n",
    "gbm=GradientBoostingRegressor()\n",
    "pred_gbm=gbm.fit(xtrain,ytrain).predict(xtest)\n",
    "r2_score(ytest,pred_gbm)"
   ]
  },
  {
   "cell_type": "code",
   "execution_count": 133,
   "metadata": {},
   "outputs": [
    {
     "name": "stdout",
     "output_type": "stream",
     "text": [
      "0.6801472338343798\n",
      "R^2 score:0.695274960683354\n",
      "R^2 score:0.6801472338343798\n",
      "R^2 score:0.6922818724680493\n"
     ]
    }
   ],
   "source": [
    "print(r2_score(y_true=ytest, y_pred=pred_gbm))\n",
    "print(f'R^2 score:{gbm.score(xtrain,ytrain)}')\n",
    "print(f'R^2 score:{gbm.score(xtest,ytest)}')\n",
    "print(f'R^2 score:{gbm.score(x,y)}')"
   ]
  },
  {
   "cell_type": "code",
   "execution_count": 134,
   "metadata": {},
   "outputs": [],
   "source": [
    "from sklearn.ensemble import GradientBoostingRegressor\n",
    "gbm=GradientBoostingRegressor()\n",
    "pred_gbm2=gbm.fit(xtrain,ytrain).predict(testdummy)\n"
   ]
  },
  {
   "cell_type": "code",
   "execution_count": 135,
   "metadata": {},
   "outputs": [],
   "source": [
    "gradient_grid = {'learning_rate':[0.005],\n",
    "                 'n_estimators':[1200],'max_depth':[9],\n",
    "                'min_samples_split':[10],\n",
    "                 'min_samples_leaf':[4], \n",
    "                 'subsample':[0.85],\n",
    "                 'random_state':[12], \n",
    "                 'max_features':['auto'],\n",
    "'warm_start':[True]}"
   ]
  },
  {
   "cell_type": "code",
   "execution_count": 136,
   "metadata": {},
   "outputs": [],
   "source": [
    "from sklearn.model_selection import RandomizedSearchCV\n",
    "gbm_random = RandomizedSearchCV(estimator = gbm, param_distributions = gradient_grid, n_iter = 100, cv = 5, verbose=2, random_state=123, n_jobs = -1)"
   ]
  },
  {
   "cell_type": "code",
   "execution_count": 137,
   "metadata": {},
   "outputs": [
    {
     "name": "stderr",
     "output_type": "stream",
     "text": [
      "C:\\Users\\Navika\\Anaconda3\\lib\\site-packages\\sklearn\\model_selection\\_search.py:266: UserWarning: The total space of parameters 1 is smaller than n_iter=100. Running 1 iterations. For exhaustive searches, use GridSearchCV.\n",
      "  % (grid_size, self.n_iter, grid_size), UserWarning)\n",
      "[Parallel(n_jobs=-1)]: Using backend LokyBackend with 8 concurrent workers.\n"
     ]
    },
    {
     "name": "stdout",
     "output_type": "stream",
     "text": [
      "Fitting 5 folds for each of 1 candidates, totalling 5 fits\n"
     ]
    },
    {
     "name": "stderr",
     "output_type": "stream",
     "text": [
      "[Parallel(n_jobs=-1)]: Done   2 out of   5 | elapsed:  1.2min remaining:  1.8min\n",
      "[Parallel(n_jobs=-1)]: Done   5 out of   5 | elapsed:  1.2min remaining:    0.0s\n",
      "[Parallel(n_jobs=-1)]: Done   5 out of   5 | elapsed:  1.2min finished\n"
     ]
    },
    {
     "data": {
      "text/plain": [
       "RandomizedSearchCV(cv=5, error_score='raise-deprecating',\n",
       "                   estimator=GradientBoostingRegressor(alpha=0.9,\n",
       "                                                       criterion='friedman_mse',\n",
       "                                                       init=None,\n",
       "                                                       learning_rate=0.1,\n",
       "                                                       loss='ls', max_depth=3,\n",
       "                                                       max_features=None,\n",
       "                                                       max_leaf_nodes=None,\n",
       "                                                       min_impurity_decrease=0.0,\n",
       "                                                       min_impurity_split=None,\n",
       "                                                       min_samples_leaf=1,\n",
       "                                                       min_samples_split=2,\n",
       "                                                       min_weight_fraction_leaf=0.0,\n",
       "                                                       n_estimators=100,...\n",
       "                                                       warm_start=False),\n",
       "                   iid='warn', n_iter=100, n_jobs=-1,\n",
       "                   param_distributions={'learning_rate': [0.005],\n",
       "                                        'max_depth': [9],\n",
       "                                        'max_features': ['auto'],\n",
       "                                        'min_samples_leaf': [4],\n",
       "                                        'min_samples_split': [10],\n",
       "                                        'n_estimators': [1200],\n",
       "                                        'random_state': [12],\n",
       "                                        'subsample': [0.85],\n",
       "                                        'warm_start': [True]},\n",
       "                   pre_dispatch='2*n_jobs', random_state=123, refit=True,\n",
       "                   return_train_score=False, scoring=None, verbose=2)"
      ]
     },
     "execution_count": 137,
     "metadata": {},
     "output_type": "execute_result"
    }
   ],
   "source": [
    "gbm_random.fit(xtrain,ytrain)"
   ]
  },
  {
   "cell_type": "code",
   "execution_count": 138,
   "metadata": {},
   "outputs": [
    {
     "data": {
      "text/plain": [
       "{'warm_start': True,\n",
       " 'subsample': 0.85,\n",
       " 'random_state': 12,\n",
       " 'n_estimators': 1200,\n",
       " 'min_samples_split': 10,\n",
       " 'min_samples_leaf': 4,\n",
       " 'max_features': 'auto',\n",
       " 'max_depth': 9,\n",
       " 'learning_rate': 0.005}"
      ]
     },
     "execution_count": 138,
     "metadata": {},
     "output_type": "execute_result"
    }
   ],
   "source": [
    "gbm_random.best_params_"
   ]
  },
  {
   "cell_type": "code",
   "execution_count": 139,
   "metadata": {},
   "outputs": [],
   "source": [
    "def evaluate(model, train_features, train_labels, test_features,test_labels):\n",
    "    predictions = model.fit(xtrain,ytrain).predict(test_features)\n",
    "    errors = abs(predictions - test_labels)\n",
    "    mape = 100 * np.mean(errors / test_labels)\n",
    "    accuracy = 100 - mape\n",
    "    print('Model Performance')\n",
    "    print('Average Error: {:0.4f} degrees.'.format(np.mean(errors)))\n",
    "    print('Accuracy = {:0.2f}%.'.format(accuracy))\n",
    "    \n",
    "    return accuracy"
   ]
  },
  {
   "cell_type": "code",
   "execution_count": 140,
   "metadata": {},
   "outputs": [
    {
     "name": "stdout",
     "output_type": "stream",
     "text": [
      "Model Performance\n",
      "Average Error: 8.2246 degrees.\n",
      "Accuracy = 77.00%.\n"
     ]
    }
   ],
   "source": [
    "best_gradient = gbm_random.best_estimator_\n",
    "gradient_accuracy = evaluate(best_gradient,xtrain,ytrain ,xtest,ytest)"
   ]
  },
  {
   "cell_type": "code",
   "execution_count": 141,
   "metadata": {},
   "outputs": [],
   "source": [
    "pred_gbm3=best_gradient.predict(testdummy)"
   ]
  },
  {
   "cell_type": "code",
   "execution_count": 142,
   "metadata": {},
   "outputs": [],
   "source": [
    "#dummytest.shape"
   ]
  },
  {
   "cell_type": "code",
   "execution_count": 180,
   "metadata": {},
   "outputs": [],
   "source": [
    "solution = pd.DataFrame({\"Item_Identifier\":test.Item_Identifier,\n",
    "                        \"Outlet_Identifier\":test.Outlet_Identifier,\n",
    "                        \"Item_Outlet_Sales\":pred_gbm2**2})"
   ]
  },
  {
   "cell_type": "code",
   "execution_count": 181,
   "metadata": {},
   "outputs": [],
   "source": [
    "#Solution 1 gave the lowest rmse, but then our accuracy takes hit"
   ]
  },
  {
   "cell_type": "code",
   "execution_count": 182,
   "metadata": {},
   "outputs": [],
   "source": [
    "solution.to_csv(\"GBM Model Navika6.csv\", index = False) #1153 for GradietBoost\n",
    "#solution.to_csv(\"GBM Model Navika6.csv\", index = False) #1170 for Random Forest Tuning"
   ]
  },
  {
   "cell_type": "code",
   "execution_count": 183,
   "metadata": {},
   "outputs": [
    {
     "name": "stdout",
     "output_type": "stream",
     "text": [
      "C:\\Users\\Navika\n"
     ]
    }
   ],
   "source": [
    "cd"
   ]
  },
  {
   "cell_type": "raw",
   "metadata": {},
   "source": [
    "The model was transformed before training and testing. When the analytics india input was transformed for non-linearity as well, so that gave us our best result."
   ]
  },
  {
   "cell_type": "raw",
   "metadata": {},
   "source": [
    "When i introduce more features through feature extraction, feature transformation my accuracu increases nut my rmse error increses or doesnt get affected."
   ]
  },
  {
   "cell_type": "raw",
   "metadata": {},
   "source": [
    "Rmse gets affected due to high multicolinearity amonsgt varibles.\n",
    "But if i reduce thoses variables which show high multicolinearity i compromise my accuracy."
   ]
  },
  {
   "cell_type": "raw",
   "metadata": {},
   "source": [
    "Since your y variable is the length of stay, there is no reason why it should have an rmse < 1. Here is a resource explaining the formula definition of RMSE. You can see that if (y_pred - y) is on average bigger than 1, then your RMSE is going to be bigger than 1.\n",
    "\n",
    "As for why this is happening, you appear to be attempting to fit a model with a large number of variables, sum of which are not actually correlated with your output variable. You should only fit a model on data which is actually correlated because a correlation implies that the input data somehow affects the output data.\n",
    "\n",
    "Try limiting the number of input variables you fit to, starting with the most highly correlated data."
   ]
  },
  {
   "cell_type": "code",
   "execution_count": 148,
   "metadata": {},
   "outputs": [],
   "source": [
    "#pip install yellowbrick"
   ]
  },
  {
   "cell_type": "code",
   "execution_count": 149,
   "metadata": {},
   "outputs": [
    {
     "data": {
      "text/plain": [
       "(5681, 51)"
      ]
     },
     "execution_count": 149,
     "metadata": {},
     "output_type": "execute_result"
    }
   ],
   "source": [
    "testdummy.shape"
   ]
  },
  {
   "cell_type": "code",
   "execution_count": 150,
   "metadata": {},
   "outputs": [
    {
     "name": "stdout",
     "output_type": "stream",
     "text": [
      "Optimum number of features: 18\n",
      "Score with 18 features: 0.670100\n"
     ]
    }
   ],
   "source": [
    "from sklearn.feature_selection import RFE\n",
    "#no of features\n",
    "nof_list=np.arange(1,46)            \n",
    "high_score=0\n",
    "#Variable to store the optimum features\n",
    "nof=0           \n",
    "score_list =[]\n",
    "for n in range(len(nof_list)):\n",
    "    X_train, X_test, y_train, y_test = train_test_split(x,y, test_size = 0.2, random_state = 123)\n",
    "    model = LinearRegression()\n",
    "    rfe = RFE(model,nof_list[n])\n",
    "    X_train_rfe = rfe.fit_transform(X_train,y_train)\n",
    "    X_test_rfe = rfe.transform(X_test)\n",
    "    model.fit(X_train_rfe,y_train)\n",
    "    score = model.score(X_test_rfe,y_test)\n",
    "    score_list.append(score)\n",
    "    if(score>high_score):\n",
    "        high_score = score\n",
    "        nof = nof_list[n]\n",
    "print(\"Optimum number of features: %d\" %nof)\n",
    "print(\"Score with %d features: %f\" % (nof, high_score))\n"
   ]
  },
  {
   "cell_type": "code",
   "execution_count": 151,
   "metadata": {},
   "outputs": [
    {
     "name": "stdout",
     "output_type": "stream",
     "text": [
      "Index(['Item_MRP', 'Item_Type_Breakfast', 'Item_Type_Fruits and Vegetables',\n",
      "       'Item_Type_Household', 'Item_Type_Seafood', 'Outlet_Identifier_OUT027',\n",
      "       'Outlet_Identifier_OUT035', 'Outlet_Establishment_Year_1985',\n",
      "       'Outlet_Establishment_Year_2002', 'Outlet_Establishment_Year_2007',\n",
      "       'Outlet_Establishment_Year_2009', 'Outlet_Location_Type_Tier 2',\n",
      "       'Outlet_Type_Grocery Store', 'Outlet_Type_Supermarket Type1',\n",
      "       'Outlet_Type_Supermarket Type3'],\n",
      "      dtype='object')\n"
     ]
    }
   ],
   "source": [
    "cols = list(x.columns)\n",
    "model = GradientBoostingRegressor()\n",
    "#Initializing RFE model\n",
    "rfe = RFE(model, 15)             \n",
    "#Transforming data using RFE\n",
    "X_rfe = rfe.fit_transform(x,y)  \n",
    "#Fitting the data to model\n",
    "model.fit(X_rfe,y)              \n",
    "temp = pd.Series(rfe.support_,index = x.columns)\n",
    "selected_features_rfe = temp[temp==True].index\n",
    "print(selected_features_rfe)"
   ]
  },
  {
   "cell_type": "markdown",
   "metadata": {},
   "source": [
    "### from sklearn.feature_selection import RFE\n",
    "#no of features\n",
    "nof_list=np.arange(1,116)            \n",
    "high_score=0\n",
    "#Variable to store the optimum features\n",
    "nof=0           \n",
    "score_list =[]\n",
    "for n in range(len(nof_list)):\n",
    "    X_train, X_test, y_train, y_test = train_test_split(x,y, test_size = 0.3, random_state = 123)\n",
    "    model = LinearRegression()\n",
    "    rfe = RFE(model,nof_list[n])\n",
    "    X_train_rfe = rfe.fit_transform(X_train,y_train)\n",
    "    X_test_rfe = rfe.transform(X_test)\n",
    "    model.fit(X_train_rfe,y_train)\n",
    "    score = model.score(X_test_rfe,y_test)\n",
    "    score_list.append(score)\n",
    "    if(score>high_score):\n",
    "        high_score = score\n",
    "        nof = nof_list[n]\n",
    "print(\"Optimum number of features: %d\" %nof)\n",
    "print(\"Score with %d features: %f\" % (nof, high_score))"
   ]
  },
  {
   "cell_type": "code",
   "execution_count": 153,
   "metadata": {},
   "outputs": [
    {
     "data": {
      "text/plain": [
       "[<matplotlib.lines.Line2D at 0x1b60365bb38>]"
      ]
     },
     "execution_count": 153,
     "metadata": {},
     "output_type": "execute_result"
    },
    {
     "data": {
      "image/png": "[encoded data removed]",
      "text/plain": [
       "<Figure size 432x288 with 1 Axes>"
      ]
     },
     "metadata": {},
     "output_type": "display_data"
    }
   ],
   "source": [
    "plt.plot(list(range(1,46)), score_list)"
   ]
  },
  {
   "cell_type": "code",
   "execution_count": 155,
   "metadata": {},
   "outputs": [
    {
     "name": "stderr",
     "output_type": "stream",
     "text": [
      "C:\\Users\\Navika\\Anaconda3\\lib\\site-packages\\statsmodels\\stats\\outliers_influence.py:185: RuntimeWarning: divide by zero encountered in double_scalars\n",
      "  vif = 1. / (1. - r_squared_i)\n"
     ]
    },
    {
     "data": {
      "text/plain": [
       "[inf,\n",
       " inf,\n",
       " inf,\n",
       " inf,\n",
       " inf,\n",
       " inf,\n",
       " inf,\n",
       " inf,\n",
       " inf,\n",
       " inf,\n",
       " inf,\n",
       " inf,\n",
       " inf,\n",
       " inf,\n",
       " inf,\n",
       " inf,\n",
       " inf,\n",
       " inf,\n",
       " inf,\n",
       " inf,\n",
       " inf,\n",
       " inf,\n",
       " inf,\n",
       " inf,\n",
       " inf,\n",
       " inf,\n",
       " inf,\n",
       " inf,\n",
       " inf,\n",
       " inf,\n",
       " inf,\n",
       " inf,\n",
       " inf,\n",
       " inf,\n",
       " inf,\n",
       " inf,\n",
       " inf,\n",
       " inf,\n",
       " inf,\n",
       " inf,\n",
       " inf,\n",
       " inf,\n",
       " inf,\n",
       " inf,\n",
       " inf,\n",
       " inf,\n",
       " inf,\n",
       " inf,\n",
       " inf,\n",
       " inf]"
      ]
     },
     "execution_count": 155,
     "metadata": {},
     "output_type": "execute_result"
    }
   ],
   "source": [
    "from statsmodels.stats.outliers_influence import variance_inflation_factor\n",
    "\n",
    "[variance_inflation_factor(xtrain.values, j) for j in range(1, xtrain.shape[1])]"
   ]
  },
  {
   "cell_type": "raw",
   "metadata": {},
   "source": [
    "1)So it seems that the highest accuarcy possible is 68-69%, as there are too many categorical variables. The data was already non-liear on top of that.\n",
    "2) We tranformed the whole dataset and our accuracy score got a little better. \n",
    "3) But the glaring problem is multi-collinearity.\n",
    "4) There is strong presence of multi-collineRITY AND heteroskedaticity.\n",
    "The unit of RMSE is same as dependent variable. If your data has a range of 0 to 100000 then RMSE value of 3000 is small, but if the range goes from 0 to 1, it is pretty huge."
   ]
  },
  {
   "cell_type": "raw",
   "metadata": {},
   "source": [
    "remove outliers data - no effect\n",
    "Do feature selection, some of features may not be as informative.\n",
    "Try to combine some features to make it more meaningful e.g. ratio of some feature may be more meaningful than individual features to predict price.\n",
    "May be the linear regression under fitting or over fitting the data you can check ROC curve and try to use more complex model like polynomial regression or regularization respectively"
   ]
  },
  {
   "cell_type": "code",
   "execution_count": null,
   "metadata": {},
   "outputs": [],
   "source": []
  },
  {
   "cell_type": "code",
   "execution_count": null,
   "metadata": {},
   "outputs": [],
   "source": []
  }
 ],
 "metadata": {
  "kernelspec": {
   "display_name": "Python 3",
   "language": "python",
   "name": "python3"
  },
  "language_info": {
   "codemirror_mode": {
    "name": "ipython",
    "version": 3
   },
   "file_extension": ".py",
   "mimetype": "text/x-python",
   "name": "python",
   "nbconvert_exporter": "python",
   "pygments_lexer": "ipython3",
   "version": "3.7.3"
  }
 },
 "nbformat": 4,
 "nbformat_minor": 2
}
